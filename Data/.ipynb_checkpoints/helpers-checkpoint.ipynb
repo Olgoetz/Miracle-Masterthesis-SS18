{
 "cells": [
  {
   "cell_type": "code",
   "execution_count": null,
   "metadata": {},
   "outputs": [],
   "source": [
    "import pandas as pd\n",
    "import numpy as np\n",
    "\n",
    "from sklearn.metrics import confusion_matrix, accuracy_score"
   ]
  },
  {
   "cell_type": "code",
   "execution_count": 5,
   "metadata": {},
   "outputs": [],
   "source": [
    "def computePrediction(classifier, input_TrainingData, output_TrainingData, input_TestData):\n",
    "    \n",
    "    classifier.fit(input_TrainingData, output_TrainingData)\n",
    "    predictions = classifier.predict(input_TestData)\n",
    "    \n",
    "    return predictions"
   ]
  },
  {
   "cell_type": "code",
   "execution_count": 6,
   "metadata": {},
   "outputs": [],
   "source": [
    "def computeConfusionMatrix(output_TestData, predictions):\n",
    "  \n",
    "    # compute the confusion matrix\n",
    "    cm =  confusion_matrix(output_TestData, predictions)\n",
    "    df = pd.DataFrame(cm,  index=['no', 'yes'], columns=['no', 'yes'])\n",
    "    return df\n",
    "    "
   ]
  },
  {
   "cell_type": "code",
   "execution_count": 7,
   "metadata": {},
   "outputs": [],
   "source": [
    "def computeAccuracy(output_True, predictions):\n",
    "    score = accuracy_score(output_True, predictions)\n",
    "    return score"
   ]
  },
  {
   "cell_type": "code",
   "execution_count": 8,
   "metadata": {},
   "outputs": [],
   "source": [
    "def computeProbability(classifier, input_TrainingData, output_TrainingData, input_TestData):\n",
    "    \n",
    "    classifier.fit(input_TrainingData, output_TrainingData)\n",
    "\n",
    "    if hasattr(classifier, \"decision function\"):\n",
    "            probabilities = classifier.decision_function(input_TestData)\n",
    "    else:\n",
    "            probabilities = classifier.predict_proba(input_TestData)\n",
    "        \n",
    "    return probabilities"
   ]
  },
  {
   "cell_type": "code",
   "execution_count": null,
   "metadata": {},
   "outputs": [],
   "source": []
  }
 ],
 "metadata": {
  "kernelspec": {
   "display_name": "Python 3",
   "language": "python",
   "name": "python3"
  },
  "language_info": {
   "codemirror_mode": {
    "name": "ipython",
    "version": 3
   },
   "file_extension": ".py",
   "mimetype": "text/x-python",
   "name": "python",
   "nbconvert_exporter": "python",
   "pygments_lexer": "ipython3",
   "version": "3.6.4"
  }
 },
 "nbformat": 4,
 "nbformat_minor": 2
}
