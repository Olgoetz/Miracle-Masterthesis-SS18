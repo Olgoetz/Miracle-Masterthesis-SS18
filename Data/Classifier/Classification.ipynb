{
 "cells": [
  {
   "cell_type": "markdown",
   "metadata": {},
   "source": [
    "# Computing Classification Models for Target Labels\n",
    "\n",
    "This notebook builds binary classification models for chosen target labels and is structured as follows:\n",
    "____\n",
    "\n",
    "**1. Import libraries**\n",
    "\n",
    "All necessary analytical and visualization liberariers are importet. Furthermore, 'autoreload' is set to automatically\n",
    "import a file again as soon as its code has changed.\n",
    "\n",
    "**2. Set variables for algorithm input**\n",
    "\n",
    "In this block, the strings may be changed to customize the classification model's output. On the one hand, the name of the file containing the data is assigned to a variable. On the other hand, the target label for buidling a classifier can be set. The value for random state should not be changed as 42 delivers the best results.\n",
    "\n",
    "**3. Handle the dataset**\n",
    "\n",
    "This section comprises several subsections:\n",
    "\n",
    "*3.1 Load the data*:\n",
    "In this section, the to be processed is loaded from the file system and the first five rows of data are shown.  \n",
    "\n",
    "\n",
    "*3.2 Data Preprocessing*:\n",
    "In the data preprocessing section, the features are assigned to the variable X and variable Y is the target label (the one that is going to be predicted). Furthermore, the categorical values are transformed into numerical ones and dummy variables for are introduced so that upcoming algorithms do not wrongly interpret data. The step is called standardization\n",
    "\n",
    "*3.3 Split the data into train and test data*:\n",
    "The data is split into four quantities, by convention with approprirate variable names:\n",
    "\n",
    "|Variable|Description |\n",
    "| ------------- |:-------------:|\n",
    " | X_train, y_train     | 70% of the data is used for training the model|\n",
    "| X_test, y_test    | 30% of the data is used for testing the model regarding its performance|\n",
    "\n",
    "\n",
    "**4. Implement machine learning models**\n",
    "\n",
    "In this coding block, the machine learning models are implemented and is structured as follows:\n",
    "\n",
    "*4.1 Import necessary libraris*: Libariers for building the models are imported\n",
    "\n",
    "*4.2 Find the best hyperparamters for each classifier*: Grid search is method to tune the hyperparamters a\n",
    "classifiers brings along. The values for the hyperparameters are stored as list. After that, the grid search is applied and the model with best paramters is extracted for further usage. \n",
    "\n",
    "*4.3 Build the classifiers and run them*: The models are built together with necessary values for upcoming visualization and an excerpt the result is provided.\n",
    "\n",
    "**5. Implement deep learninng model**\n",
    "\n",
    "The deep learning model is implemented by Tensorflow. The section is grouped as follows:\n",
    "\n",
    "*5.1 Check the data and preprocess it*:\n",
    "The data is again checked and necessary preprocessing steps like in section four are conducted. The approach is slightly different since the data needs to be kept as a pandas dataframe. Is necessary to transform the data into so-called \"Tensors\" which is comparable with an array, except holding a specific signature. Therefore, Tensorflow can easily process the data.\n",
    "\n",
    "*5.2 Apply a deep neuronal network classifier*:\n",
    "In this section, the neuronal network (mulitlayer peceptron) is being built. It consists of one input layer having three nodes (sex, age, income). There are three hidden layers wicht 20 neurons=nodes each. Lastly, the output layer encompasses two nodes since it is a binary classification problem. 20.000 steps for training the network are performed.\n",
    "\n",
    "*5.3 Compute values for evaluation*:\n",
    "The code block is responsbile for the computation of values that can be used for the evaluation of the network. The values are the same as mentionend in section four, namely array of predictions, confusion matrix, probabilities and accuracy.\n",
    "\n",
    "**6. Evaluate and visualize the models' performances**\n",
    "\n",
    "Section six is the place where the visualization of the models takes place. Based on that, it is possible to compare them among each and pick the best performing one.\n",
    "\n",
    "*6.1 Styles of the plots*:\n",
    "Sets globally the styles for the visual appearance of figures.\n",
    "\n",
    "*6.2 Draw the confusion matrices*:\n",
    "For each classifier (SVM, NB, DT, KNN, MLP) a confusion matrix in the two dimensional space (binary case) is drawn and exported to the file system.\n",
    "\n",
    "*6.3 Compute error rates and area under roc*: \n",
    "This code segment calculates the error rates of each classifiers' predictions in order to draw the roc curve in the next step. Furthermore, the auc is computed which simplifies the evaluation of a classifier.\n",
    "\n",
    "*6.4 Plot the roc curve*:\n",
    "The code block shows how the roc curves of each applied classifier can be drawn. All curves a gathered in one chart for the best comparsion. At last, the chart is saved to the files system.\n",
    "\n",
    "**7. Export the models**\n",
    "\n",
    "*7.1 Save the ML models: Provides code for saving each ML model, namely NB, KNN, NB and DT.\n",
    "\n",
    "*7.2 Save the DL model: Provides code for saving the DL model. A different code is necessary since the DL model bases on the tensorflow libary. Therefore, a different approach is required.\n",
    "\n",
    "___\n",
    "\n",
    "***HINT: If it is desired to compute am model for another target lable, the corresponding variables in section 2 must be adjusted and then, it is advisable, to restart the kernel. Otherwise, it may be possible that other variables still stored from prior usages and are mistakenly applied to sequences for building the new model.***\n",
    "\n",
    "___"
   ]
  },
  {
   "cell_type": "markdown",
   "metadata": {},
   "source": [
    "## 1. Import libariers"
   ]
  },
  {
   "cell_type": "code",
   "execution_count": 1,
   "metadata": {},
   "outputs": [],
   "source": [
    "# import analysis libraries\n",
    "import numpy as np\n",
    "import pandas as pd\n",
    "\n",
    "# import visualization libraries\n",
    "import matplotlib.pyplot as plt\n",
    "import seaborn as sns\n",
    "\n",
    "# makes matplotlib executable in jupyter\n",
    "%matplotlib inline\n",
    "\n",
    "# set white backgroud to plots\n",
    "sns.set_style(\"whitegrid\", {'axes.grid' : False})\n",
    "\n",
    "# autoreload librariers when they change\n",
    "%load_ext autoreload\n",
    "%autoreload 2"
   ]
  },
  {
   "cell_type": "markdown",
   "metadata": {},
   "source": [
    "## 2. Set variables for algorithm input"
   ]
  },
  {
   "cell_type": "code",
   "execution_count": 2,
   "metadata": {},
   "outputs": [],
   "source": [
    "# provide the data source --> must be an excel\n",
    "dataset = '../Datasource/data_financeproducts.xlsx'\n",
    "\n",
    "# set the target_label\n",
    "target_label = 'Day-to-day money account'\n",
    "\n",
    "\n",
    "# set the random state for the ML and DL models\n",
    "# for obtaining the same results that I have, choose the following random states\n",
    "# 'Life insurance': 100\n",
    "# 'Housing saving': 42\n",
    "# 'Day-to-day money account': \n",
    "random_state = 100"
   ]
  },
  {
   "cell_type": "markdown",
   "metadata": {},
   "source": [
    "## 3. Handle the dataset"
   ]
  },
  {
   "cell_type": "markdown",
   "metadata": {},
   "source": [
    "### 3.1 Load the data"
   ]
  },
  {
   "cell_type": "code",
   "execution_count": 5,
   "metadata": {},
   "outputs": [],
   "source": [
    "# assign the data to a DataFrame\n",
    "data = pd.read_excel(dataset)"
   ]
  },
  {
   "cell_type": "code",
   "execution_count": 6,
   "metadata": {},
   "outputs": [
    {
     "data": {
      "text/html": [
       "<div>\n",
       "<style scoped>\n",
       "    .dataframe tbody tr th:only-of-type {\n",
       "        vertical-align: middle;\n",
       "    }\n",
       "\n",
       "    .dataframe tbody tr th {\n",
       "        vertical-align: top;\n",
       "    }\n",
       "\n",
       "    .dataframe thead th {\n",
       "        text-align: right;\n",
       "    }\n",
       "</style>\n",
       "<table border=\"1\" class=\"dataframe\">\n",
       "  <thead>\n",
       "    <tr style=\"text-align: right;\">\n",
       "      <th></th>\n",
       "      <th>Sex</th>\n",
       "      <th>Age</th>\n",
       "      <th>Net income</th>\n",
       "      <th>Amount of financial products</th>\n",
       "      <th>Stocks</th>\n",
       "      <th>Investment fonds</th>\n",
       "      <th>Bond issues</th>\n",
       "      <th>Savings certificate</th>\n",
       "      <th>Giro account</th>\n",
       "      <th>Day-to-day money account</th>\n",
       "      <th>Credit card</th>\n",
       "      <th>Fixed deposit account</th>\n",
       "      <th>Life insurance</th>\n",
       "      <th>Riester pension</th>\n",
       "      <th>Housing saving</th>\n",
       "    </tr>\n",
       "  </thead>\n",
       "  <tbody>\n",
       "    <tr>\n",
       "      <th>0</th>\n",
       "      <td>male</td>\n",
       "      <td>28</td>\n",
       "      <td>1250-1499 €</td>\n",
       "      <td>3</td>\n",
       "      <td>no</td>\n",
       "      <td>no</td>\n",
       "      <td>no</td>\n",
       "      <td>no</td>\n",
       "      <td>yes</td>\n",
       "      <td>yes</td>\n",
       "      <td>yes</td>\n",
       "      <td>no</td>\n",
       "      <td>no</td>\n",
       "      <td>no</td>\n",
       "      <td>no</td>\n",
       "    </tr>\n",
       "    <tr>\n",
       "      <th>1</th>\n",
       "      <td>male</td>\n",
       "      <td>56</td>\n",
       "      <td>5000-5999 €</td>\n",
       "      <td>1</td>\n",
       "      <td>no</td>\n",
       "      <td>no</td>\n",
       "      <td>no</td>\n",
       "      <td>no</td>\n",
       "      <td>no</td>\n",
       "      <td>no</td>\n",
       "      <td>yes</td>\n",
       "      <td>no</td>\n",
       "      <td>no</td>\n",
       "      <td>no</td>\n",
       "      <td>no</td>\n",
       "    </tr>\n",
       "    <tr>\n",
       "      <th>2</th>\n",
       "      <td>male</td>\n",
       "      <td>28</td>\n",
       "      <td>1250-1499 €</td>\n",
       "      <td>3</td>\n",
       "      <td>no</td>\n",
       "      <td>no</td>\n",
       "      <td>no</td>\n",
       "      <td>no</td>\n",
       "      <td>yes</td>\n",
       "      <td>yes</td>\n",
       "      <td>yes</td>\n",
       "      <td>no</td>\n",
       "      <td>no</td>\n",
       "      <td>no</td>\n",
       "      <td>no</td>\n",
       "    </tr>\n",
       "    <tr>\n",
       "      <th>3</th>\n",
       "      <td>male</td>\n",
       "      <td>29</td>\n",
       "      <td>2000-2499 €</td>\n",
       "      <td>3</td>\n",
       "      <td>no</td>\n",
       "      <td>no</td>\n",
       "      <td>no</td>\n",
       "      <td>no</td>\n",
       "      <td>yes</td>\n",
       "      <td>no</td>\n",
       "      <td>yes</td>\n",
       "      <td>no</td>\n",
       "      <td>no</td>\n",
       "      <td>no</td>\n",
       "      <td>yes</td>\n",
       "    </tr>\n",
       "    <tr>\n",
       "      <th>4</th>\n",
       "      <td>male</td>\n",
       "      <td>29</td>\n",
       "      <td>2000-2499 €</td>\n",
       "      <td>2</td>\n",
       "      <td>no</td>\n",
       "      <td>no</td>\n",
       "      <td>no</td>\n",
       "      <td>no</td>\n",
       "      <td>yes</td>\n",
       "      <td>no</td>\n",
       "      <td>yes</td>\n",
       "      <td>no</td>\n",
       "      <td>no</td>\n",
       "      <td>no</td>\n",
       "      <td>no</td>\n",
       "    </tr>\n",
       "  </tbody>\n",
       "</table>\n",
       "</div>"
      ],
      "text/plain": [
       "    Sex  Age   Net income  Amount of financial products Stocks  \\\n",
       "0  male   28  1250-1499 €                             3     no   \n",
       "1  male   56  5000-5999 €                             1     no   \n",
       "2  male   28  1250-1499 €                             3     no   \n",
       "3  male   29  2000-2499 €                             3     no   \n",
       "4  male   29  2000-2499 €                             2     no   \n",
       "\n",
       "  Investment fonds Bond issues Savings certificate Giro account  \\\n",
       "0               no          no                  no          yes   \n",
       "1               no          no                  no           no   \n",
       "2               no          no                  no          yes   \n",
       "3               no          no                  no          yes   \n",
       "4               no          no                  no          yes   \n",
       "\n",
       "  Day-to-day money account Credit card Fixed deposit account Life insurance  \\\n",
       "0                      yes         yes                    no             no   \n",
       "1                       no         yes                    no             no   \n",
       "2                      yes         yes                    no             no   \n",
       "3                       no         yes                    no             no   \n",
       "4                       no         yes                    no             no   \n",
       "\n",
       "  Riester pension Housing saving  \n",
       "0              no             no  \n",
       "1              no             no  \n",
       "2              no             no  \n",
       "3              no            yes  \n",
       "4              no             no  "
      ]
     },
     "execution_count": 6,
     "metadata": {},
     "output_type": "execute_result"
    }
   ],
   "source": [
    "# show the head of the data\n",
    "data.head()"
   ]
  },
  {
   "cell_type": "markdown",
   "metadata": {},
   "source": [
    "### 3.2 Data preprocessing"
   ]
  },
  {
   "cell_type": "code",
   "execution_count": 7,
   "metadata": {
    "scrolled": true
   },
   "outputs": [],
   "source": [
    "# import librariers to preprocess data\n",
    "from sklearn.preprocessing import LabelEncoder,OneHotEncoder\n",
    "\n",
    "# encode 'sex' --> female = 0, male = 1\n",
    "le_x = LabelEncoder()\n",
    "data['Sex_cat']= le_x.fit_transform(data['Sex'])\n",
    "\n",
    "# encode 'net income' --> 16 categories, i.e. 16 numbers from 0 to 15\n",
    "data['Income_cat']=le_x.fit_transform(data['Net income'])\n"
   ]
  },
  {
   "cell_type": "code",
   "execution_count": 8,
   "metadata": {
    "scrolled": true
   },
   "outputs": [
    {
     "data": {
      "text/html": [
       "<div>\n",
       "<style scoped>\n",
       "    .dataframe tbody tr th:only-of-type {\n",
       "        vertical-align: middle;\n",
       "    }\n",
       "\n",
       "    .dataframe tbody tr th {\n",
       "        vertical-align: top;\n",
       "    }\n",
       "\n",
       "    .dataframe thead th {\n",
       "        text-align: right;\n",
       "    }\n",
       "</style>\n",
       "<table border=\"1\" class=\"dataframe\">\n",
       "  <thead>\n",
       "    <tr style=\"text-align: right;\">\n",
       "      <th></th>\n",
       "      <th>Sex</th>\n",
       "      <th>Age</th>\n",
       "      <th>Net income</th>\n",
       "      <th>Amount of financial products</th>\n",
       "      <th>Stocks</th>\n",
       "      <th>Investment fonds</th>\n",
       "      <th>Bond issues</th>\n",
       "      <th>Savings certificate</th>\n",
       "      <th>Giro account</th>\n",
       "      <th>Day-to-day money account</th>\n",
       "      <th>Credit card</th>\n",
       "      <th>Fixed deposit account</th>\n",
       "      <th>Life insurance</th>\n",
       "      <th>Riester pension</th>\n",
       "      <th>Housing saving</th>\n",
       "      <th>Sex_cat</th>\n",
       "      <th>Income_cat</th>\n",
       "    </tr>\n",
       "  </thead>\n",
       "  <tbody>\n",
       "    <tr>\n",
       "      <th>0</th>\n",
       "      <td>male</td>\n",
       "      <td>28</td>\n",
       "      <td>1250-1499 €</td>\n",
       "      <td>3</td>\n",
       "      <td>no</td>\n",
       "      <td>no</td>\n",
       "      <td>no</td>\n",
       "      <td>no</td>\n",
       "      <td>yes</td>\n",
       "      <td>yes</td>\n",
       "      <td>yes</td>\n",
       "      <td>no</td>\n",
       "      <td>no</td>\n",
       "      <td>no</td>\n",
       "      <td>no</td>\n",
       "      <td>1</td>\n",
       "      <td>1</td>\n",
       "    </tr>\n",
       "    <tr>\n",
       "      <th>1</th>\n",
       "      <td>male</td>\n",
       "      <td>56</td>\n",
       "      <td>5000-5999 €</td>\n",
       "      <td>1</td>\n",
       "      <td>no</td>\n",
       "      <td>no</td>\n",
       "      <td>no</td>\n",
       "      <td>no</td>\n",
       "      <td>no</td>\n",
       "      <td>no</td>\n",
       "      <td>yes</td>\n",
       "      <td>no</td>\n",
       "      <td>no</td>\n",
       "      <td>no</td>\n",
       "      <td>no</td>\n",
       "      <td>1</td>\n",
       "      <td>10</td>\n",
       "    </tr>\n",
       "    <tr>\n",
       "      <th>2</th>\n",
       "      <td>male</td>\n",
       "      <td>28</td>\n",
       "      <td>1250-1499 €</td>\n",
       "      <td>3</td>\n",
       "      <td>no</td>\n",
       "      <td>no</td>\n",
       "      <td>no</td>\n",
       "      <td>no</td>\n",
       "      <td>yes</td>\n",
       "      <td>yes</td>\n",
       "      <td>yes</td>\n",
       "      <td>no</td>\n",
       "      <td>no</td>\n",
       "      <td>no</td>\n",
       "      <td>no</td>\n",
       "      <td>1</td>\n",
       "      <td>1</td>\n",
       "    </tr>\n",
       "    <tr>\n",
       "      <th>3</th>\n",
       "      <td>male</td>\n",
       "      <td>29</td>\n",
       "      <td>2000-2499 €</td>\n",
       "      <td>3</td>\n",
       "      <td>no</td>\n",
       "      <td>no</td>\n",
       "      <td>no</td>\n",
       "      <td>no</td>\n",
       "      <td>yes</td>\n",
       "      <td>no</td>\n",
       "      <td>yes</td>\n",
       "      <td>no</td>\n",
       "      <td>no</td>\n",
       "      <td>no</td>\n",
       "      <td>yes</td>\n",
       "      <td>1</td>\n",
       "      <td>4</td>\n",
       "    </tr>\n",
       "    <tr>\n",
       "      <th>4</th>\n",
       "      <td>male</td>\n",
       "      <td>29</td>\n",
       "      <td>2000-2499 €</td>\n",
       "      <td>2</td>\n",
       "      <td>no</td>\n",
       "      <td>no</td>\n",
       "      <td>no</td>\n",
       "      <td>no</td>\n",
       "      <td>yes</td>\n",
       "      <td>no</td>\n",
       "      <td>yes</td>\n",
       "      <td>no</td>\n",
       "      <td>no</td>\n",
       "      <td>no</td>\n",
       "      <td>no</td>\n",
       "      <td>1</td>\n",
       "      <td>4</td>\n",
       "    </tr>\n",
       "  </tbody>\n",
       "</table>\n",
       "</div>"
      ],
      "text/plain": [
       "    Sex  Age   Net income  Amount of financial products Stocks  \\\n",
       "0  male   28  1250-1499 €                             3     no   \n",
       "1  male   56  5000-5999 €                             1     no   \n",
       "2  male   28  1250-1499 €                             3     no   \n",
       "3  male   29  2000-2499 €                             3     no   \n",
       "4  male   29  2000-2499 €                             2     no   \n",
       "\n",
       "  Investment fonds Bond issues Savings certificate Giro account  \\\n",
       "0               no          no                  no          yes   \n",
       "1               no          no                  no           no   \n",
       "2               no          no                  no          yes   \n",
       "3               no          no                  no          yes   \n",
       "4               no          no                  no          yes   \n",
       "\n",
       "  Day-to-day money account Credit card Fixed deposit account Life insurance  \\\n",
       "0                      yes         yes                    no             no   \n",
       "1                       no         yes                    no             no   \n",
       "2                      yes         yes                    no             no   \n",
       "3                       no         yes                    no             no   \n",
       "4                       no         yes                    no             no   \n",
       "\n",
       "  Riester pension Housing saving  Sex_cat  Income_cat  \n",
       "0              no             no        1           1  \n",
       "1              no             no        1          10  \n",
       "2              no             no        1           1  \n",
       "3              no            yes        1           4  \n",
       "4              no             no        1           4  "
      ]
     },
     "execution_count": 8,
     "metadata": {},
     "output_type": "execute_result"
    }
   ],
   "source": [
    "data.head()"
   ]
  },
  {
   "cell_type": "code",
   "execution_count": 25,
   "metadata": {},
   "outputs": [
    {
     "data": {
      "text/html": [
       "<div>\n",
       "<style scoped>\n",
       "    .dataframe tbody tr th:only-of-type {\n",
       "        vertical-align: middle;\n",
       "    }\n",
       "\n",
       "    .dataframe tbody tr th {\n",
       "        vertical-align: top;\n",
       "    }\n",
       "\n",
       "    .dataframe thead th {\n",
       "        text-align: right;\n",
       "    }\n",
       "</style>\n",
       "<table border=\"1\" class=\"dataframe\">\n",
       "  <thead>\n",
       "    <tr style=\"text-align: right;\">\n",
       "      <th></th>\n",
       "      <th>Net Income</th>\n",
       "      <th>Income_cat</th>\n",
       "    </tr>\n",
       "  </thead>\n",
       "  <tbody>\n",
       "    <tr>\n",
       "      <th>10</th>\n",
       "      <td>1000-1249 €</td>\n",
       "      <td>0</td>\n",
       "    </tr>\n",
       "    <tr>\n",
       "      <th>0</th>\n",
       "      <td>1250-1499 €</td>\n",
       "      <td>1</td>\n",
       "    </tr>\n",
       "    <tr>\n",
       "      <th>7</th>\n",
       "      <td>1500-1749 €</td>\n",
       "      <td>2</td>\n",
       "    </tr>\n",
       "    <tr>\n",
       "      <th>8</th>\n",
       "      <td>1750-1999 €</td>\n",
       "      <td>3</td>\n",
       "    </tr>\n",
       "    <tr>\n",
       "      <th>2</th>\n",
       "      <td>2000-2499 €</td>\n",
       "      <td>4</td>\n",
       "    </tr>\n",
       "    <tr>\n",
       "      <th>11</th>\n",
       "      <td>2500-2999 €</td>\n",
       "      <td>5</td>\n",
       "    </tr>\n",
       "    <tr>\n",
       "      <th>3</th>\n",
       "      <td>3000-3499 €</td>\n",
       "      <td>6</td>\n",
       "    </tr>\n",
       "    <tr>\n",
       "      <th>14</th>\n",
       "      <td>3500-3999 €</td>\n",
       "      <td>7</td>\n",
       "    </tr>\n",
       "    <tr>\n",
       "      <th>5</th>\n",
       "      <td>4000-4999 €</td>\n",
       "      <td>8</td>\n",
       "    </tr>\n",
       "    <tr>\n",
       "      <th>9</th>\n",
       "      <td>500-749 €</td>\n",
       "      <td>9</td>\n",
       "    </tr>\n",
       "    <tr>\n",
       "      <th>1</th>\n",
       "      <td>5000-5999 €</td>\n",
       "      <td>10</td>\n",
       "    </tr>\n",
       "    <tr>\n",
       "      <th>13</th>\n",
       "      <td>6000-7499 €</td>\n",
       "      <td>11</td>\n",
       "    </tr>\n",
       "    <tr>\n",
       "      <th>4</th>\n",
       "      <td>750-999 €</td>\n",
       "      <td>12</td>\n",
       "    </tr>\n",
       "    <tr>\n",
       "      <th>12</th>\n",
       "      <td>7500-9999 €</td>\n",
       "      <td>13</td>\n",
       "    </tr>\n",
       "    <tr>\n",
       "      <th>15</th>\n",
       "      <td>above 10000 €</td>\n",
       "      <td>14</td>\n",
       "    </tr>\n",
       "    <tr>\n",
       "      <th>6</th>\n",
       "      <td>under 500 €</td>\n",
       "      <td>15</td>\n",
       "    </tr>\n",
       "  </tbody>\n",
       "</table>\n",
       "</div>"
      ],
      "text/plain": [
       "       Net Income  Income_cat\n",
       "10    1000-1249 €           0\n",
       "0     1250-1499 €           1\n",
       "7     1500-1749 €           2\n",
       "8     1750-1999 €           3\n",
       "2     2000-2499 €           4\n",
       "11    2500-2999 €           5\n",
       "3     3000-3499 €           6\n",
       "14    3500-3999 €           7\n",
       "5     4000-4999 €           8\n",
       "9       500-749 €           9\n",
       "1     5000-5999 €          10\n",
       "13    6000-7499 €          11\n",
       "4       750-999 €          12\n",
       "12    7500-9999 €          13\n",
       "15  above 10000 €          14\n",
       "6     under 500 €          15"
      ]
     },
     "execution_count": 25,
     "metadata": {},
     "output_type": "execute_result"
    }
   ],
   "source": [
    "## map the numerical values to the categires\n",
    "\n",
    "# find each unique value in columngs 'net income' and 'income_cat\n",
    "income = data['Net income'].unique()\n",
    "income_cat = data['Income_cat'].unique()\n",
    "\n",
    "# build and show a dataframe with mapped integers to categories\n",
    "encoding_overview = pd.DataFrame(data={'Net Income': income, 'Income_cat': income_cat})\n",
    "encoding_overview.sort_values('Income_cat')"
   ]
  },
  {
   "cell_type": "code",
   "execution_count": 10,
   "metadata": {},
   "outputs": [
    {
     "data": {
      "text/plain": [
       "array([[ 1, 28,  1],\n",
       "       [ 1, 56, 10],\n",
       "       [ 1, 28,  1],\n",
       "       [ 1, 29,  4],\n",
       "       [ 1, 29,  4],\n",
       "       [ 0, 32,  6],\n",
       "       [ 0, 26,  1],\n",
       "       [ 0, 22,  1],\n",
       "       [ 1, 22, 12],\n",
       "       [ 0, 49,  1],\n",
       "       [ 1, 45,  8],\n",
       "       [ 1, 30,  4],\n",
       "       [ 0, 28, 15],\n",
       "       [ 0, 31,  4],\n",
       "       [ 0, 29,  4],\n",
       "       [ 1, 28,  1],\n",
       "       [ 0, 47,  1],\n",
       "       [ 1, 27, 12],\n",
       "       [ 0, 24,  2],\n",
       "       [ 1, 47,  3],\n",
       "       [ 1, 49,  6],\n",
       "       [ 1, 24, 12],\n",
       "       [ 0, 19,  9],\n",
       "       [ 0, 22,  4],\n",
       "       [ 0, 26, 15],\n",
       "       [ 1, 36,  2],\n",
       "       [ 0, 40,  9],\n",
       "       [ 1, 49,  8],\n",
       "       [ 1, 22,  0],\n",
       "       [ 0, 23, 15],\n",
       "       [ 0, 25,  3],\n",
       "       [ 0, 27,  6],\n",
       "       [ 0, 41,  5],\n",
       "       [ 0, 26, 15],\n",
       "       [ 1, 43,  4],\n",
       "       [ 0, 34,  2],\n",
       "       [ 0, 18, 12],\n",
       "       [ 1, 42,  6],\n",
       "       [ 1, 29,  2],\n",
       "       [ 0, 22,  9],\n",
       "       [ 0, 28,  5],\n",
       "       [ 1, 66,  5],\n",
       "       [ 0, 41,  1],\n",
       "       [ 0, 23,  9],\n",
       "       [ 0, 34,  4],\n",
       "       [ 0, 39,  0],\n",
       "       [ 0, 20,  9],\n",
       "       [ 1, 27,  5],\n",
       "       [ 1, 27,  4],\n",
       "       [ 0, 39,  4],\n",
       "       [ 0, 36,  0],\n",
       "       [ 0, 40,  3],\n",
       "       [ 0, 31,  4],\n",
       "       [ 1, 41,  4],\n",
       "       [ 1, 25,  1],\n",
       "       [ 0, 24, 12],\n",
       "       [ 1, 46,  8],\n",
       "       [ 0, 21,  9],\n",
       "       [ 0, 33,  6],\n",
       "       [ 0, 30,  4],\n",
       "       [ 0, 26,  4],\n",
       "       [ 1, 27,  4],\n",
       "       [ 0, 36, 13],\n",
       "       [ 1, 42,  4],\n",
       "       [ 1, 28,  4],\n",
       "       [ 1, 19,  9],\n",
       "       [ 0, 38,  5],\n",
       "       [ 1, 33, 11],\n",
       "       [ 1, 36,  7],\n",
       "       [ 0, 22,  9],\n",
       "       [ 1, 28,  0],\n",
       "       [ 0, 27,  7],\n",
       "       [ 0, 33, 12],\n",
       "       [ 1, 31,  7],\n",
       "       [ 1, 27,  4],\n",
       "       [ 0, 36, 11],\n",
       "       [ 1, 23, 12],\n",
       "       [ 1, 41,  4],\n",
       "       [ 1, 22,  9],\n",
       "       [ 0, 39,  3],\n",
       "       [ 0, 28,  4],\n",
       "       [ 1, 27,  3],\n",
       "       [ 1, 30,  4],\n",
       "       [ 0, 36,  4],\n",
       "       [ 0, 25,  1],\n",
       "       [ 1, 26,  9],\n",
       "       [ 1, 52,  7],\n",
       "       [ 1, 30,  5],\n",
       "       [ 1, 29, 14],\n",
       "       [ 1, 25, 15],\n",
       "       [ 1, 26,  4],\n",
       "       [ 1, 32,  5],\n",
       "       [ 1, 69,  2],\n",
       "       [ 1, 28,  2],\n",
       "       [ 1, 25, 12],\n",
       "       [ 1, 32, 15],\n",
       "       [ 1, 30,  6],\n",
       "       [ 1, 28,  5],\n",
       "       [ 0, 19, 15],\n",
       "       [ 1, 27,  4],\n",
       "       [ 0, 51,  9],\n",
       "       [ 0, 27,  1],\n",
       "       [ 0, 25,  1],\n",
       "       [ 1, 36,  4],\n",
       "       [ 1, 21,  0],\n",
       "       [ 0, 44,  4],\n",
       "       [ 1, 28,  1],\n",
       "       [ 1, 27,  4],\n",
       "       [ 1, 36,  3],\n",
       "       [ 1, 29,  1],\n",
       "       [ 0, 49,  2],\n",
       "       [ 0, 22,  9],\n",
       "       [ 1, 30,  5],\n",
       "       [ 0, 24,  1],\n",
       "       [ 1, 28,  5],\n",
       "       [ 1, 26,  5],\n",
       "       [ 1, 24,  2],\n",
       "       [ 0, 22,  1],\n",
       "       [ 0, 53, 15],\n",
       "       [ 1, 25, 15],\n",
       "       [ 0, 33,  4],\n",
       "       [ 0, 37,  2],\n",
       "       [ 1, 29,  1],\n",
       "       [ 0, 41, 13],\n",
       "       [ 0, 38,  4],\n",
       "       [ 1, 31,  5],\n",
       "       [ 0, 25,  8],\n",
       "       [ 0, 28,  8],\n",
       "       [ 1, 35,  6],\n",
       "       [ 1, 32,  8]], dtype=int64)"
      ]
     },
     "execution_count": 10,
     "metadata": {},
     "output_type": "execute_result"
    }
   ],
   "source": [
    "# select the input features for the classification algorithms: sex_cat, age, income_cat\n",
    "X = data.iloc[:,[data.columns.get_loc('Sex_cat'),1,data.columns.get_loc('Income_cat')]].values\n",
    "X"
   ]
  },
  {
   "cell_type": "code",
   "execution_count": 11,
   "metadata": {
    "scrolled": false
   },
   "outputs": [
    {
     "name": "stdout",
     "output_type": "stream",
     "text": [
      "y has now the values:  [1 0 1 0 0 0 1 0 0 1 1 0 0 1 0 0 0 0 0 1 0 0 0 1 0 1 1 0 0 0 0 0 1 0 0 0 0\n",
      " 0 0 0 0 0 0 0 0 1 1 1 0 0 0 0 1 1 1 0 1 0 1 0 1 0 1 0 0 0 0 0 1 1 0 0 0 1\n",
      " 0 1 0 1 0 0 1 0 0 1 0 0 0 1 1 1 1 0 0 0 1 0 0 0 0 0 0 0 0 0 0 0 1 1 0 0 1\n",
      " 1 0 1 1 1 1 0 0 0 1 0 1 0 1 1 0 0 1 1]\n"
     ]
    }
   ],
   "source": [
    "# select the target attribute for the classification algorithms\n",
    "y = data.loc[:,target_label].values\n",
    "\n",
    "# encode 'target label' --> no = 0, yes = 1\n",
    "labelencoder_y = LabelEncoder()\n",
    "y = labelencoder_y.fit_transform(y)\n",
    "print('y has now the values: ',y)"
   ]
  },
  {
   "cell_type": "code",
   "execution_count": 12,
   "metadata": {
    "scrolled": true
   },
   "outputs": [
    {
     "name": "stdout",
     "output_type": "stream",
     "text": [
      "Normalized X values: [[ 0.  1.  0. ...  0.  1. 28.]\n",
      " [ 0.  0.  0. ...  0.  1. 56.]\n",
      " [ 0.  1.  0. ...  0.  1. 28.]\n",
      " ...\n",
      " [ 0.  0.  0. ...  0.  0. 28.]\n",
      " [ 0.  0.  0. ...  0.  1. 35.]\n",
      " [ 0.  0.  0. ...  0.  1. 32.]]\n"
     ]
    }
   ],
   "source": [
    "# normalize the net income attribute to a corresponding 1 x 16 matrix (vector) (16 categories, i.e. 16 dummy variables)\n",
    "onehotencoder = OneHotEncoder(categorical_features=[2])\n",
    "X = onehotencoder.fit_transform(X).toarray()\n",
    "print('Normalized X values:', X)"
   ]
  },
  {
   "cell_type": "code",
   "execution_count": 17,
   "metadata": {},
   "outputs": [],
   "source": [
    "# get the columnnames\n",
    "cn = encoding_overview.sort_values('Income_cat').values\n",
    "cn_list=list(cn[:,0])\n",
    "cn_list.append('Sex')\n",
    "cn_list.append('Age')"
   ]
  },
  {
   "cell_type": "code",
   "execution_count": 18,
   "metadata": {},
   "outputs": [
    {
     "data": {
      "text/html": [
       "<div>\n",
       "<style scoped>\n",
       "    .dataframe tbody tr th:only-of-type {\n",
       "        vertical-align: middle;\n",
       "    }\n",
       "\n",
       "    .dataframe tbody tr th {\n",
       "        vertical-align: top;\n",
       "    }\n",
       "\n",
       "    .dataframe thead th {\n",
       "        text-align: right;\n",
       "    }\n",
       "</style>\n",
       "<table border=\"1\" class=\"dataframe\">\n",
       "  <thead>\n",
       "    <tr style=\"text-align: right;\">\n",
       "      <th></th>\n",
       "      <th>1000-1249 €</th>\n",
       "      <th>1250-1499 €</th>\n",
       "      <th>1500-1749 €</th>\n",
       "      <th>1750-1999 €</th>\n",
       "      <th>2000-2499 €</th>\n",
       "      <th>2500-2999 €</th>\n",
       "      <th>3000-3499 €</th>\n",
       "      <th>3500-3999 €</th>\n",
       "      <th>4000-4999 €</th>\n",
       "      <th>500-749 €</th>\n",
       "      <th>5000-5999 €</th>\n",
       "      <th>6000-7499 €</th>\n",
       "      <th>750-999 €</th>\n",
       "      <th>7500-9999 €</th>\n",
       "      <th>above 10000 €</th>\n",
       "      <th>under 500 €</th>\n",
       "      <th>Sex</th>\n",
       "      <th>Age</th>\n",
       "    </tr>\n",
       "  </thead>\n",
       "  <tbody>\n",
       "    <tr>\n",
       "      <th>0</th>\n",
       "      <td>0</td>\n",
       "      <td>1</td>\n",
       "      <td>0</td>\n",
       "      <td>0</td>\n",
       "      <td>0</td>\n",
       "      <td>0</td>\n",
       "      <td>0</td>\n",
       "      <td>0</td>\n",
       "      <td>0</td>\n",
       "      <td>0</td>\n",
       "      <td>0</td>\n",
       "      <td>0</td>\n",
       "      <td>0</td>\n",
       "      <td>0</td>\n",
       "      <td>0</td>\n",
       "      <td>0</td>\n",
       "      <td>1</td>\n",
       "      <td>28</td>\n",
       "    </tr>\n",
       "    <tr>\n",
       "      <th>1</th>\n",
       "      <td>0</td>\n",
       "      <td>0</td>\n",
       "      <td>0</td>\n",
       "      <td>0</td>\n",
       "      <td>0</td>\n",
       "      <td>0</td>\n",
       "      <td>0</td>\n",
       "      <td>0</td>\n",
       "      <td>0</td>\n",
       "      <td>0</td>\n",
       "      <td>1</td>\n",
       "      <td>0</td>\n",
       "      <td>0</td>\n",
       "      <td>0</td>\n",
       "      <td>0</td>\n",
       "      <td>0</td>\n",
       "      <td>1</td>\n",
       "      <td>56</td>\n",
       "    </tr>\n",
       "    <tr>\n",
       "      <th>2</th>\n",
       "      <td>0</td>\n",
       "      <td>1</td>\n",
       "      <td>0</td>\n",
       "      <td>0</td>\n",
       "      <td>0</td>\n",
       "      <td>0</td>\n",
       "      <td>0</td>\n",
       "      <td>0</td>\n",
       "      <td>0</td>\n",
       "      <td>0</td>\n",
       "      <td>0</td>\n",
       "      <td>0</td>\n",
       "      <td>0</td>\n",
       "      <td>0</td>\n",
       "      <td>0</td>\n",
       "      <td>0</td>\n",
       "      <td>1</td>\n",
       "      <td>28</td>\n",
       "    </tr>\n",
       "    <tr>\n",
       "      <th>3</th>\n",
       "      <td>0</td>\n",
       "      <td>0</td>\n",
       "      <td>0</td>\n",
       "      <td>0</td>\n",
       "      <td>1</td>\n",
       "      <td>0</td>\n",
       "      <td>0</td>\n",
       "      <td>0</td>\n",
       "      <td>0</td>\n",
       "      <td>0</td>\n",
       "      <td>0</td>\n",
       "      <td>0</td>\n",
       "      <td>0</td>\n",
       "      <td>0</td>\n",
       "      <td>0</td>\n",
       "      <td>0</td>\n",
       "      <td>1</td>\n",
       "      <td>29</td>\n",
       "    </tr>\n",
       "    <tr>\n",
       "      <th>4</th>\n",
       "      <td>0</td>\n",
       "      <td>0</td>\n",
       "      <td>0</td>\n",
       "      <td>0</td>\n",
       "      <td>1</td>\n",
       "      <td>0</td>\n",
       "      <td>0</td>\n",
       "      <td>0</td>\n",
       "      <td>0</td>\n",
       "      <td>0</td>\n",
       "      <td>0</td>\n",
       "      <td>0</td>\n",
       "      <td>0</td>\n",
       "      <td>0</td>\n",
       "      <td>0</td>\n",
       "      <td>0</td>\n",
       "      <td>1</td>\n",
       "      <td>29</td>\n",
       "    </tr>\n",
       "  </tbody>\n",
       "</table>\n",
       "</div>"
      ],
      "text/plain": [
       "   1000-1249 €  1250-1499 €  1500-1749 €  1750-1999 €  2000-2499 €  \\\n",
       "0            0            1            0            0            0   \n",
       "1            0            0            0            0            0   \n",
       "2            0            1            0            0            0   \n",
       "3            0            0            0            0            1   \n",
       "4            0            0            0            0            1   \n",
       "\n",
       "   2500-2999 €  3000-3499 €  3500-3999 €  4000-4999 €  500-749 €  5000-5999 €  \\\n",
       "0            0            0            0            0          0            0   \n",
       "1            0            0            0            0          0            1   \n",
       "2            0            0            0            0          0            0   \n",
       "3            0            0            0            0          0            0   \n",
       "4            0            0            0            0          0            0   \n",
       "\n",
       "   6000-7499 €  750-999 €  7500-9999 €  above 10000 €  under 500 €  Sex  Age  \n",
       "0            0          0            0              0            0    1   28  \n",
       "1            0          0            0              0            0    1   56  \n",
       "2            0          0            0              0            0    1   28  \n",
       "3            0          0            0              0            0    1   29  \n",
       "4            0          0            0              0            0    1   29  "
      ]
     },
     "execution_count": 18,
     "metadata": {},
     "output_type": "execute_result"
    }
   ],
   "source": [
    "# define a new dataframe for displaying the encoded input feature matrix\n",
    "onehot_encoding = pd.DataFrame(X, columns=cn_list,dtype=np.int64)\n",
    "onehot_encoding.head()"
   ]
  },
  {
   "cell_type": "markdown",
   "metadata": {},
   "source": [
    "### 3.3 Split the data into train and test data"
   ]
  },
  {
   "cell_type": "code",
   "execution_count": 27,
   "metadata": {},
   "outputs": [
    {
     "data": {
      "text/plain": [
       "array([ 1.,  0.,  0.,  0.,  0.,  0.,  0.,  0.,  0.,  0.,  0.,  0.,  0.,\n",
       "        0.,  0.,  0.,  1., 28.])"
      ]
     },
     "execution_count": 27,
     "metadata": {},
     "output_type": "execute_result"
    }
   ],
   "source": [
    "# import library for data split\n",
    "from sklearn.model_selection import train_test_split\n",
    "\n",
    "# split the data assign to variables respectively\n",
    "X_train, X_test, y_train, y_test = train_test_split(X, y, test_size=0.3, random_state=random_state)\n",
    "\n",
    "# show the form of an instance at position 0 the x_test array\n",
    "X_train[0]"
   ]
  },
  {
   "cell_type": "markdown",
   "metadata": {},
   "source": [
    "## 4. Implement machine learning models"
   ]
  },
  {
   "cell_type": "markdown",
   "metadata": {},
   "source": [
    "### 4.1 Import necessary libraries"
   ]
  },
  {
   "cell_type": "code",
   "execution_count": 14,
   "metadata": {},
   "outputs": [],
   "source": [
    "# import labriers for classification algorithms\n",
    "from sklearn.naive_bayes import GaussianNB\n",
    "from sklearn.svm import SVC\n",
    "from sklearn.tree import DecisionTreeClassifier\n",
    "from sklearn.neighbors import KNeighborsClassifier\n",
    "\n",
    "# import grid search library\n",
    "from sklearn.model_selection import GridSearchCV\n",
    "\n",
    "# import own helper functions\n",
    "# the functions receive variables to compute predictions, confusion matrices, accuracies and probabilities\n",
    "import helpers as hp"
   ]
  },
  {
   "cell_type": "markdown",
   "metadata": {},
   "source": [
    "### 4.2 Find the best hyperparamters for each classifier"
   ]
  },
  {
   "cell_type": "code",
   "execution_count": 15,
   "metadata": {},
   "outputs": [],
   "source": [
    "# define paramater grids for each classifier (naive_bayes has no hyperparamter to tune, so no grid search is possible)\n",
    "svm_param_grid = {'C': [0.1,1, 10, 100], 'gamma': [1,0.1,0.01,0.001]} \n",
    "kn_param_grid = { 'n_neighbors' : [2,3,4,5,6] , 'weights' : ['uniform', 'distance'], \n",
    "                 'algorithm' : ['auto', 'ball_tree', 'kd_tree', 'brute'], 'leaf_size' : [30,40,50,60,70], 'p': [1,2]  }\n",
    "tree_param_grid = { 'criterion': ['entropy', 'gini'], 'max_depth' : [3,4,5,6], 'min_samples_leaf': [1,2,3,4]}\n",
    "\n",
    "# apply the grid search to find best parameters and get the objects of each classifier\n",
    "svm = GridSearchCV(SVC(probability=True), svm_param_grid, refit=True)\n",
    "kn = GridSearchCV(KNeighborsClassifier(), kn_param_grid, refit=True)\n",
    "tree = GridSearchCV(DecisionTreeClassifier(), tree_param_grid, refit=True)\n",
    "naive_bayes = GaussianNB()"
   ]
  },
  {
   "cell_type": "markdown",
   "metadata": {},
   "source": [
    "### 4.3 Build the classifiers and run them"
   ]
  },
  {
   "cell_type": "code",
   "execution_count": 16,
   "metadata": {},
   "outputs": [],
   "source": [
    "# define a class of a model with corresponding methods\n",
    "class Model:\n",
    "    \n",
    "    # initilizes the clas with a name and an optimized classifier object from the grid search\n",
    "    # passes the necessary data splits\n",
    "    def __init__(self, name, classifier,X_train, y_train, X_test, y_test):\n",
    "        self.name = name\n",
    "        self.classifier = classifier\n",
    "        self.predictions = []\n",
    "        self.confusionMatrix = pd.DataFrame()\n",
    "        self.accuracy= 0\n",
    "        self.probabilities = []\n",
    "    \n",
    "    # compute the predictions for test data after training\n",
    "    def addPrediction(self):\n",
    "        self.predictions = hp.computePrediction(self.classifier, X_train, y_train, X_test)\n",
    "    \n",
    "    # build a confusion matrix\n",
    "    def addConfusionMatrix(self):      \n",
    "        self.confusionMatrix = hp.computeConfusionMatrix(y_test, self.predictions)\n",
    "    \n",
    "    # compute the accuracy\n",
    "    def addAccuracy(self):\n",
    "        self.accuracy=hp.computeAccuracy(y_test, self.predictions)\n",
    "    \n",
    "    # compute the pobrabilities for each predidiction which is necessary for the upcoming visualization section\n",
    "    def addProbabilities(self):\n",
    "        self.probabilities = hp.computeProbability(self.classifier, X_train, y_train, X_test)\n",
    "        \n",
    "            "
   ]
  },
  {
   "cell_type": "code",
   "execution_count": 17,
   "metadata": {},
   "outputs": [],
   "source": [
    "# initilizes two arrays, one with the names of the classifiers, the other contains the objects\n",
    "classifier_names = ['SVM', 'KNN', 'DT', 'NB']\n",
    "classifier_objects = [svm, kn, tree, naive_bayes]"
   ]
  },
  {
   "cell_type": "code",
   "execution_count": 18,
   "metadata": {},
   "outputs": [],
   "source": [
    "# build and run the models and compute all values\n",
    "SVM = Model('SVM', svm, X_train, y_train, X_test, y_test)\n",
    "KNN = Model('KNN', kn, X_train, y_train, X_test, y_test)\n",
    "DT = Model('DT', tree, X_train, y_train, X_test, y_test)\n",
    "NB = Model('NB', naive_bayes, X_train, y_train, X_test, y_test)\n"
   ]
  },
  {
   "cell_type": "code",
   "execution_count": 19,
   "metadata": {},
   "outputs": [],
   "source": [
    "# create a list of machine learning models for iteration\n",
    "classifiers = [SVM, KNN, DT, NB]\n",
    "\n",
    "# iterate over all classifiers and add predictions, a confustion matrix, the accuracy score \n",
    "# and the probabilities of the predictioins\n",
    "for clf in classifiers:\n",
    "    clf.addPrediction()\n",
    "    clf.addConfusionMatrix()\n",
    "    clf.addAccuracy()\n",
    "    clf.addProbabilities()"
   ]
  },
  {
   "cell_type": "code",
   "execution_count": 20,
   "metadata": {
    "scrolled": true
   },
   "outputs": [
    {
     "data": {
      "text/html": [
       "<div>\n",
       "<style scoped>\n",
       "    .dataframe tbody tr th:only-of-type {\n",
       "        vertical-align: middle;\n",
       "    }\n",
       "\n",
       "    .dataframe tbody tr th {\n",
       "        vertical-align: top;\n",
       "    }\n",
       "\n",
       "    .dataframe thead th {\n",
       "        text-align: right;\n",
       "    }\n",
       "</style>\n",
       "<table border=\"1\" class=\"dataframe\">\n",
       "  <thead>\n",
       "    <tr style=\"text-align: right;\">\n",
       "      <th></th>\n",
       "      <th>Accuracy</th>\n",
       "      <th>Predictions</th>\n",
       "      <th>Confusion Matrix</th>\n",
       "      <th>Probabilities</th>\n",
       "    </tr>\n",
       "  </thead>\n",
       "  <tbody>\n",
       "    <tr>\n",
       "      <th>SVM</th>\n",
       "      <td>0.641026</td>\n",
       "      <td>[0, 1, 0, 0, 0, 0, 0, 0, 0, 0, 0, 0, 0, 0, 0, ...</td>\n",
       "      <td>no  yes\n",
       "no   24    2\n",
       "yes  12    1</td>\n",
       "      <td>[[0.6057495721908319, 0.3942504278091681], [0....</td>\n",
       "    </tr>\n",
       "    <tr>\n",
       "      <th>KNN</th>\n",
       "      <td>0.589744</td>\n",
       "      <td>[0, 0, 0, 1, 0, 0, 0, 0, 0, 0, 0, 0, 0, 0, 0, ...</td>\n",
       "      <td>no  yes\n",
       "no   22    4\n",
       "yes  12    1</td>\n",
       "      <td>[[1.0, 0.0], [0.5, 0.5], [0.5, 0.5], [0.25, 0....</td>\n",
       "    </tr>\n",
       "    <tr>\n",
       "      <th>DT</th>\n",
       "      <td>0.615385</td>\n",
       "      <td>[0, 0, 0, 1, 0, 0, 0, 0, 1, 0, 0, 0, 0, 0, 0, ...</td>\n",
       "      <td>no  yes\n",
       "no   21    5\n",
       "yes  10    3</td>\n",
       "      <td>[[0.66, 0.34], [0.66, 0.34], [0.48484848484848...</td>\n",
       "    </tr>\n",
       "    <tr>\n",
       "      <th>NB</th>\n",
       "      <td>0.410256</td>\n",
       "      <td>[1, 1, 1, 1, 1, 1, 1, 1, 1, 1, 1, 0, 0, 0, 1, ...</td>\n",
       "      <td>no  yes\n",
       "no    5   21\n",
       "yes   2   11</td>\n",
       "      <td>[[2.1770668161067852e-06, 0.9999978229331853],...</td>\n",
       "    </tr>\n",
       "  </tbody>\n",
       "</table>\n",
       "</div>"
      ],
      "text/plain": [
       "     Accuracy                                        Predictions  \\\n",
       "SVM  0.641026  [0, 1, 0, 0, 0, 0, 0, 0, 0, 0, 0, 0, 0, 0, 0, ...   \n",
       "KNN  0.589744  [0, 0, 0, 1, 0, 0, 0, 0, 0, 0, 0, 0, 0, 0, 0, ...   \n",
       "DT   0.615385  [0, 0, 0, 1, 0, 0, 0, 0, 1, 0, 0, 0, 0, 0, 0, ...   \n",
       "NB   0.410256  [1, 1, 1, 1, 1, 1, 1, 1, 1, 1, 1, 0, 0, 0, 1, ...   \n",
       "\n",
       "                           Confusion Matrix  \\\n",
       "SVM       no  yes\n",
       "no   24    2\n",
       "yes  12    1   \n",
       "KNN       no  yes\n",
       "no   22    4\n",
       "yes  12    1   \n",
       "DT        no  yes\n",
       "no   21    5\n",
       "yes  10    3   \n",
       "NB        no  yes\n",
       "no    5   21\n",
       "yes   2   11   \n",
       "\n",
       "                                         Probabilities  \n",
       "SVM  [[0.6057495721908319, 0.3942504278091681], [0....  \n",
       "KNN  [[1.0, 0.0], [0.5, 0.5], [0.5, 0.5], [0.25, 0....  \n",
       "DT   [[0.66, 0.34], [0.66, 0.34], [0.48484848484848...  \n",
       "NB   [[2.1770668161067852e-06, 0.9999978229331853],...  "
      ]
     },
     "execution_count": 20,
     "metadata": {},
     "output_type": "execute_result"
    }
   ],
   "source": [
    "# define a dataframe\n",
    "classifierResults=pd.DataFrame(index=classifier_names,\n",
    "                               columns=['Accuracy', 'Predictions','Confusion Matrix', 'Probabilities'])\n",
    "\n",
    "# print the results of the classifiers\n",
    "for index,clf in enumerate(classifiers):\n",
    "    classifierResults['Accuracy'][index] = clf.accuracy\n",
    "    classifierResults['Predictions'][index]= clf.predictions\n",
    "    classifierResults['Confusion Matrix'][index]=clf.confusionMatrix\n",
    "    classifierResults['Probabilities'][index]=clf.probabilities\n",
    "   \n",
    "classifierResults"
   ]
  },
  {
   "cell_type": "markdown",
   "metadata": {},
   "source": [
    "## 5. Implement deep learning model"
   ]
  },
  {
   "cell_type": "code",
   "execution_count": 21,
   "metadata": {},
   "outputs": [],
   "source": [
    "# import the deep learning library\n",
    "import tensorflow as tf"
   ]
  },
  {
   "cell_type": "markdown",
   "metadata": {},
   "source": [
    "### 5.1 Check the data and preprocess it"
   ]
  },
  {
   "cell_type": "code",
   "execution_count": 22,
   "metadata": {
    "scrolled": true
   },
   "outputs": [
    {
     "data": {
      "text/html": [
       "<div>\n",
       "<style scoped>\n",
       "    .dataframe tbody tr th:only-of-type {\n",
       "        vertical-align: middle;\n",
       "    }\n",
       "\n",
       "    .dataframe tbody tr th {\n",
       "        vertical-align: top;\n",
       "    }\n",
       "\n",
       "    .dataframe thead th {\n",
       "        text-align: right;\n",
       "    }\n",
       "</style>\n",
       "<table border=\"1\" class=\"dataframe\">\n",
       "  <thead>\n",
       "    <tr style=\"text-align: right;\">\n",
       "      <th></th>\n",
       "      <th>Sex</th>\n",
       "      <th>Age</th>\n",
       "      <th>Net income</th>\n",
       "      <th>Creditcard ownership</th>\n",
       "      <th>Amount of financial products</th>\n",
       "      <th>Stocks</th>\n",
       "      <th>Investment fonds</th>\n",
       "      <th>Bond issues</th>\n",
       "      <th>Savings certificate</th>\n",
       "      <th>Giro account</th>\n",
       "      <th>Day-to-day money account</th>\n",
       "      <th>Credit card</th>\n",
       "      <th>Fixed deposit account</th>\n",
       "      <th>Life insurance</th>\n",
       "      <th>Riester pension</th>\n",
       "      <th>Housing saving</th>\n",
       "      <th>Sex_cat</th>\n",
       "      <th>Income_cat</th>\n",
       "    </tr>\n",
       "  </thead>\n",
       "  <tbody>\n",
       "    <tr>\n",
       "      <th>0</th>\n",
       "      <td>male</td>\n",
       "      <td>28</td>\n",
       "      <td>1250-1499 €</td>\n",
       "      <td>yes</td>\n",
       "      <td>3</td>\n",
       "      <td>no</td>\n",
       "      <td>no</td>\n",
       "      <td>no</td>\n",
       "      <td>no</td>\n",
       "      <td>yes</td>\n",
       "      <td>yes</td>\n",
       "      <td>yes</td>\n",
       "      <td>no</td>\n",
       "      <td>no</td>\n",
       "      <td>no</td>\n",
       "      <td>no</td>\n",
       "      <td>1</td>\n",
       "      <td>1</td>\n",
       "    </tr>\n",
       "    <tr>\n",
       "      <th>1</th>\n",
       "      <td>male</td>\n",
       "      <td>56</td>\n",
       "      <td>5000-5999 €</td>\n",
       "      <td>yes</td>\n",
       "      <td>1</td>\n",
       "      <td>no</td>\n",
       "      <td>no</td>\n",
       "      <td>no</td>\n",
       "      <td>no</td>\n",
       "      <td>no</td>\n",
       "      <td>no</td>\n",
       "      <td>yes</td>\n",
       "      <td>no</td>\n",
       "      <td>no</td>\n",
       "      <td>no</td>\n",
       "      <td>no</td>\n",
       "      <td>1</td>\n",
       "      <td>10</td>\n",
       "    </tr>\n",
       "    <tr>\n",
       "      <th>2</th>\n",
       "      <td>male</td>\n",
       "      <td>28</td>\n",
       "      <td>1250-1499 €</td>\n",
       "      <td>yes</td>\n",
       "      <td>3</td>\n",
       "      <td>no</td>\n",
       "      <td>no</td>\n",
       "      <td>no</td>\n",
       "      <td>no</td>\n",
       "      <td>yes</td>\n",
       "      <td>yes</td>\n",
       "      <td>yes</td>\n",
       "      <td>no</td>\n",
       "      <td>no</td>\n",
       "      <td>no</td>\n",
       "      <td>no</td>\n",
       "      <td>1</td>\n",
       "      <td>1</td>\n",
       "    </tr>\n",
       "    <tr>\n",
       "      <th>3</th>\n",
       "      <td>male</td>\n",
       "      <td>29</td>\n",
       "      <td>2000-2499 €</td>\n",
       "      <td>yes</td>\n",
       "      <td>3</td>\n",
       "      <td>no</td>\n",
       "      <td>no</td>\n",
       "      <td>no</td>\n",
       "      <td>no</td>\n",
       "      <td>yes</td>\n",
       "      <td>no</td>\n",
       "      <td>yes</td>\n",
       "      <td>no</td>\n",
       "      <td>no</td>\n",
       "      <td>no</td>\n",
       "      <td>yes</td>\n",
       "      <td>1</td>\n",
       "      <td>4</td>\n",
       "    </tr>\n",
       "    <tr>\n",
       "      <th>4</th>\n",
       "      <td>male</td>\n",
       "      <td>29</td>\n",
       "      <td>2000-2499 €</td>\n",
       "      <td>yes</td>\n",
       "      <td>2</td>\n",
       "      <td>no</td>\n",
       "      <td>no</td>\n",
       "      <td>no</td>\n",
       "      <td>no</td>\n",
       "      <td>yes</td>\n",
       "      <td>no</td>\n",
       "      <td>yes</td>\n",
       "      <td>no</td>\n",
       "      <td>no</td>\n",
       "      <td>no</td>\n",
       "      <td>no</td>\n",
       "      <td>1</td>\n",
       "      <td>4</td>\n",
       "    </tr>\n",
       "  </tbody>\n",
       "</table>\n",
       "</div>"
      ],
      "text/plain": [
       "    Sex  Age   Net income Creditcard ownership  Amount of financial products  \\\n",
       "0  male   28  1250-1499 €                  yes                             3   \n",
       "1  male   56  5000-5999 €                  yes                             1   \n",
       "2  male   28  1250-1499 €                  yes                             3   \n",
       "3  male   29  2000-2499 €                  yes                             3   \n",
       "4  male   29  2000-2499 €                  yes                             2   \n",
       "\n",
       "  Stocks Investment fonds Bond issues Savings certificate Giro account  \\\n",
       "0     no               no          no                  no          yes   \n",
       "1     no               no          no                  no           no   \n",
       "2     no               no          no                  no          yes   \n",
       "3     no               no          no                  no          yes   \n",
       "4     no               no          no                  no          yes   \n",
       "\n",
       "  Day-to-day money account Credit card Fixed deposit account Life insurance  \\\n",
       "0                      yes         yes                    no             no   \n",
       "1                       no         yes                    no             no   \n",
       "2                      yes         yes                    no             no   \n",
       "3                       no         yes                    no             no   \n",
       "4                       no         yes                    no             no   \n",
       "\n",
       "  Riester pension Housing saving  Sex_cat  Income_cat  \n",
       "0              no             no        1           1  \n",
       "1              no             no        1          10  \n",
       "2              no             no        1           1  \n",
       "3              no            yes        1           4  \n",
       "4              no             no        1           4  "
      ]
     },
     "execution_count": 22,
     "metadata": {},
     "output_type": "execute_result"
    }
   ],
   "source": [
    "# show the first five rows of the data\n",
    "data.head()"
   ]
  },
  {
   "cell_type": "code",
   "execution_count": 23,
   "metadata": {
    "scrolled": true
   },
   "outputs": [],
   "source": [
    "# create input data\n",
    "X_tf = pd.DataFrame(data.loc[:,['Sex','Age','Net income']], columns={'Sex': 'Sex', 'Age': 'Age', 'Net income': 'Net Income'})\n",
    "\n",
    "# net income must be renamend to income since Tensorflow has problems with handling spaces between two strings\n",
    "X_tf = X_tf.rename(columns={'Net income': 'Income'})"
   ]
  },
  {
   "cell_type": "code",
   "execution_count": 24,
   "metadata": {},
   "outputs": [
    {
     "data": {
      "text/html": [
       "<div>\n",
       "<style scoped>\n",
       "    .dataframe tbody tr th:only-of-type {\n",
       "        vertical-align: middle;\n",
       "    }\n",
       "\n",
       "    .dataframe tbody tr th {\n",
       "        vertical-align: top;\n",
       "    }\n",
       "\n",
       "    .dataframe thead th {\n",
       "        text-align: right;\n",
       "    }\n",
       "</style>\n",
       "<table border=\"1\" class=\"dataframe\">\n",
       "  <thead>\n",
       "    <tr style=\"text-align: right;\">\n",
       "      <th></th>\n",
       "      <th>Sex</th>\n",
       "      <th>Age</th>\n",
       "      <th>Income</th>\n",
       "    </tr>\n",
       "  </thead>\n",
       "  <tbody>\n",
       "    <tr>\n",
       "      <th>0</th>\n",
       "      <td>male</td>\n",
       "      <td>28</td>\n",
       "      <td>1250-1499 €</td>\n",
       "    </tr>\n",
       "    <tr>\n",
       "      <th>1</th>\n",
       "      <td>male</td>\n",
       "      <td>56</td>\n",
       "      <td>5000-5999 €</td>\n",
       "    </tr>\n",
       "    <tr>\n",
       "      <th>2</th>\n",
       "      <td>male</td>\n",
       "      <td>28</td>\n",
       "      <td>1250-1499 €</td>\n",
       "    </tr>\n",
       "    <tr>\n",
       "      <th>3</th>\n",
       "      <td>male</td>\n",
       "      <td>29</td>\n",
       "      <td>2000-2499 €</td>\n",
       "    </tr>\n",
       "    <tr>\n",
       "      <th>4</th>\n",
       "      <td>male</td>\n",
       "      <td>29</td>\n",
       "      <td>2000-2499 €</td>\n",
       "    </tr>\n",
       "  </tbody>\n",
       "</table>\n",
       "</div>"
      ],
      "text/plain": [
       "    Sex  Age       Income\n",
       "0  male   28  1250-1499 €\n",
       "1  male   56  5000-5999 €\n",
       "2  male   28  1250-1499 €\n",
       "3  male   29  2000-2499 €\n",
       "4  male   29  2000-2499 €"
      ]
     },
     "execution_count": 24,
     "metadata": {},
     "output_type": "execute_result"
    }
   ],
   "source": [
    "X_tf.head()"
   ]
  },
  {
   "cell_type": "code",
   "execution_count": 25,
   "metadata": {
    "scrolled": true
   },
   "outputs": [],
   "source": [
    "# remove target attribute from the column names\n",
    "input_features = data.columns.delete(data.columns.get_loc(target_label))"
   ]
  },
  {
   "cell_type": "code",
   "execution_count": 26,
   "metadata": {
    "scrolled": true
   },
   "outputs": [
    {
     "data": {
      "text/plain": [
       "array([1, 0, 1, 0, 0, 0, 1, 0, 0, 1, 1, 0, 0, 1, 0, 0, 0, 0, 0, 1, 0, 0,\n",
       "       0, 1, 0, 1, 1, 0, 0, 0, 0, 0, 1, 0, 0, 0, 0, 0, 0, 0, 0, 0, 0, 0,\n",
       "       0, 1, 1, 1, 0, 0, 0, 0, 1, 1, 1, 0, 1, 0, 1, 0, 1, 0, 1, 0, 0, 0,\n",
       "       0, 0, 1, 1, 0, 0, 0, 1, 0, 1, 0, 1, 0, 0, 1, 0, 0, 1, 0, 0, 0, 1,\n",
       "       1, 1, 1, 0, 0, 0, 1, 0, 0, 0, 0, 0, 0, 0, 0, 0, 0, 0, 1, 1, 0, 0,\n",
       "       1, 1, 0, 1, 1, 1, 1, 0, 0, 0, 1, 0, 1, 0, 1, 1, 0, 0, 1, 1],\n",
       "      dtype=int64)"
      ]
     },
     "execution_count": 26,
     "metadata": {},
     "output_type": "execute_result"
    }
   ],
   "source": [
    "# drop features except target label from the dataframe\n",
    "y_tf = data.drop(input_features, axis=1)\n",
    "y"
   ]
  },
  {
   "cell_type": "code",
   "execution_count": 27,
   "metadata": {},
   "outputs": [],
   "source": [
    "## encode categorical to binary values\n",
    "\n",
    "# import the preprocessing libray\n",
    "from sklearn.preprocessing import LabelEncoder\n",
    "\n",
    "# encode 'no' and 'yes' to 0 respectively 1\n",
    "labelencoder = LabelEncoder()\n",
    "y_tf[target_label]=labelencoder.fit_transform(y_tf[target_label])"
   ]
  },
  {
   "cell_type": "code",
   "execution_count": 28,
   "metadata": {},
   "outputs": [],
   "source": [
    "# split the dataframe objects into train and test data\n",
    "X_train_tf, X_test_tf, y_train_tf, y_test_tf = train_test_split(X_tf, y_tf, test_size=0.3, random_state=random_state)"
   ]
  },
  {
   "cell_type": "code",
   "execution_count": 29,
   "metadata": {},
   "outputs": [],
   "source": [
    "# transform feature column into a tensor\n",
    "sex = tf.feature_column.categorical_column_with_vocabulary_list('Sex', vocabulary_list=['Male', 'Female'] )\n",
    "\n",
    "# apply embedding to make the column suitable for the DNNClassifier\n",
    "embedded_group_sex = tf.feature_column.embedding_column(sex, dimension=2)"
   ]
  },
  {
   "cell_type": "code",
   "execution_count": 30,
   "metadata": {},
   "outputs": [],
   "source": [
    "# transform feature column into a tensor\n",
    "age = tf.feature_column.numeric_column('Age')"
   ]
  },
  {
   "cell_type": "code",
   "execution_count": 31,
   "metadata": {},
   "outputs": [],
   "source": [
    "# transform feature column into a tensor\n",
    "income = tf.feature_column.categorical_column_with_hash_bucket('Income', hash_bucket_size=16)\n",
    "\n",
    "# apply embedding to make the column suitable for the DNNClassifier\n",
    "embedded_group_income = tf.feature_column.embedding_column(income, dimension=16)"
   ]
  },
  {
   "cell_type": "code",
   "execution_count": 32,
   "metadata": {},
   "outputs": [],
   "source": [
    "# define the feature column set --> 3 neurons for the input layer\n",
    "feat_columns = [embedded_group_sex,age,embedded_group_income]"
   ]
  },
  {
   "cell_type": "code",
   "execution_count": 33,
   "metadata": {},
   "outputs": [],
   "source": [
    "# define the input function\n",
    "input_func = tf.estimator.inputs.pandas_input_fn(x=X_train_tf, y=y_train_tf, batch_size=20, num_epochs=None, shuffle=True )"
   ]
  },
  {
   "cell_type": "markdown",
   "metadata": {},
   "source": [
    "### 5.2 Apply a deep neuronal network classifier"
   ]
  },
  {
   "cell_type": "code",
   "execution_count": 34,
   "metadata": {},
   "outputs": [
    {
     "name": "stdout",
     "output_type": "stream",
     "text": [
      "INFO:tensorflow:Using default config.\n",
      "WARNING:tensorflow:Using temporary folder as model directory: C:\\Users\\OLIVER~1.GOE\\AppData\\Local\\Temp\\tmpege3wk86\n",
      "INFO:tensorflow:Using config: {'_model_dir': 'C:\\\\Users\\\\OLIVER~1.GOE\\\\AppData\\\\Local\\\\Temp\\\\tmpege3wk86', '_tf_random_seed': None, '_save_summary_steps': 100, '_save_checkpoints_steps': None, '_save_checkpoints_secs': 600, '_session_config': None, '_keep_checkpoint_max': 5, '_keep_checkpoint_every_n_hours': 10000, '_log_step_count_steps': 100, '_service': None, '_cluster_spec': <tensorflow.python.training.server_lib.ClusterSpec object at 0x000001F511E8B1D0>, '_task_type': 'worker', '_task_id': 0, '_global_id_in_cluster': 0, '_master': '', '_evaluation_master': '', '_is_chief': True, '_num_ps_replicas': 0, '_num_worker_replicas': 1}\n"
     ]
    }
   ],
   "source": [
    "# create the deep neuronal network multilayer perceptron model:\n",
    "    # - 1 input layer with 3 neurons since the 3 features are fed in\n",
    "    # - 3 hidden layer with 20 neurons for effective training\n",
    "    # - 1 output player to get the predicted value\n",
    "\n",
    "dnn = tf.estimator.DNNClassifier(hidden_units=[20,20,20], feature_columns=feat_columns,\n",
    "                                 optimizer=tf.train.GradientDescentOptimizer(learning_rate=0.001), n_classes=2)"
   ]
  },
  {
   "cell_type": "code",
   "execution_count": 35,
   "metadata": {
    "scrolled": false
   },
   "outputs": [
    {
     "name": "stdout",
     "output_type": "stream",
     "text": [
      "INFO:tensorflow:Calling model_fn.\n",
      "INFO:tensorflow:Done calling model_fn.\n",
      "INFO:tensorflow:Create CheckpointSaverHook.\n",
      "INFO:tensorflow:Graph was finalized.\n",
      "INFO:tensorflow:Running local_init_op.\n",
      "INFO:tensorflow:Done running local_init_op.\n",
      "INFO:tensorflow:Saving checkpoints for 1 into C:\\Users\\OLIVER~1.GOE\\AppData\\Local\\Temp\\tmpege3wk86\\model.ckpt.\n",
      "INFO:tensorflow:loss = 11.556062, step = 1\n",
      "INFO:tensorflow:global_step/sec: 118.578\n",
      "INFO:tensorflow:loss = 13.73493, step = 101 (0.847 sec)\n",
      "INFO:tensorflow:global_step/sec: 204.329\n",
      "INFO:tensorflow:loss = 13.583504, step = 201 (0.490 sec)\n",
      "INFO:tensorflow:global_step/sec: 197.327\n",
      "INFO:tensorflow:loss = 14.418535, step = 301 (0.508 sec)\n",
      "INFO:tensorflow:global_step/sec: 211.35\n",
      "INFO:tensorflow:loss = 13.66992, step = 401 (0.470 sec)\n",
      "INFO:tensorflow:global_step/sec: 242.225\n",
      "INFO:tensorflow:loss = 12.241097, step = 501 (0.413 sec)\n",
      "INFO:tensorflow:global_step/sec: 205.958\n",
      "INFO:tensorflow:loss = 14.126911, step = 601 (0.490 sec)\n",
      "INFO:tensorflow:global_step/sec: 202.126\n",
      "INFO:tensorflow:loss = 12.573082, step = 701 (0.491 sec)\n",
      "INFO:tensorflow:global_step/sec: 206.414\n",
      "INFO:tensorflow:loss = 13.151613, step = 801 (0.488 sec)\n",
      "INFO:tensorflow:global_step/sec: 182.983\n",
      "INFO:tensorflow:loss = 14.841979, step = 901 (0.545 sec)\n",
      "INFO:tensorflow:global_step/sec: 187.612\n",
      "INFO:tensorflow:loss = 13.129252, step = 1001 (0.534 sec)\n",
      "INFO:tensorflow:global_step/sec: 191.725\n",
      "INFO:tensorflow:loss = 13.456409, step = 1101 (0.526 sec)\n",
      "INFO:tensorflow:global_step/sec: 201.782\n",
      "INFO:tensorflow:loss = 13.985521, step = 1201 (0.492 sec)\n",
      "INFO:tensorflow:global_step/sec: 178.861\n",
      "INFO:tensorflow:loss = 13.634161, step = 1301 (0.563 sec)\n",
      "INFO:tensorflow:global_step/sec: 170.622\n",
      "INFO:tensorflow:loss = 14.163771, step = 1401 (0.583 sec)\n",
      "INFO:tensorflow:global_step/sec: 204.317\n",
      "INFO:tensorflow:loss = 12.374737, step = 1501 (0.485 sec)\n",
      "INFO:tensorflow:global_step/sec: 191.428\n",
      "INFO:tensorflow:loss = 12.905706, step = 1601 (0.535 sec)\n",
      "INFO:tensorflow:global_step/sec: 175.772\n",
      "INFO:tensorflow:loss = 13.015693, step = 1701 (0.561 sec)\n",
      "INFO:tensorflow:global_step/sec: 173.715\n",
      "INFO:tensorflow:loss = 11.629186, step = 1801 (0.578 sec)\n",
      "INFO:tensorflow:global_step/sec: 164.551\n",
      "INFO:tensorflow:loss = 12.988834, step = 1901 (0.615 sec)\n",
      "INFO:tensorflow:global_step/sec: 195.855\n",
      "INFO:tensorflow:loss = 12.471041, step = 2001 (0.519 sec)\n",
      "INFO:tensorflow:global_step/sec: 175.927\n",
      "INFO:tensorflow:loss = 13.483656, step = 2101 (0.550 sec)\n",
      "INFO:tensorflow:global_step/sec: 203.872\n",
      "INFO:tensorflow:loss = 13.023863, step = 2201 (0.492 sec)\n",
      "INFO:tensorflow:global_step/sec: 215.236\n",
      "INFO:tensorflow:loss = 13.393541, step = 2301 (0.462 sec)\n",
      "INFO:tensorflow:global_step/sec: 202.2\n",
      "INFO:tensorflow:loss = 14.51783, step = 2401 (0.495 sec)\n",
      "INFO:tensorflow:global_step/sec: 209.361\n",
      "INFO:tensorflow:loss = 13.065252, step = 2501 (0.480 sec)\n",
      "INFO:tensorflow:global_step/sec: 198.259\n",
      "INFO:tensorflow:loss = 13.400673, step = 2601 (0.502 sec)\n",
      "INFO:tensorflow:global_step/sec: 187.02\n",
      "INFO:tensorflow:loss = 14.062654, step = 2701 (0.536 sec)\n",
      "INFO:tensorflow:global_step/sec: 195.889\n",
      "INFO:tensorflow:loss = 11.48292, step = 2801 (0.511 sec)\n",
      "INFO:tensorflow:global_step/sec: 207.636\n",
      "INFO:tensorflow:loss = 13.0132675, step = 2901 (0.493 sec)\n",
      "INFO:tensorflow:global_step/sec: 183.898\n",
      "INFO:tensorflow:loss = 13.397779, step = 3001 (0.532 sec)\n",
      "INFO:tensorflow:global_step/sec: 184.325\n",
      "INFO:tensorflow:loss = 11.844138, step = 3101 (0.545 sec)\n",
      "INFO:tensorflow:global_step/sec: 174.001\n",
      "INFO:tensorflow:loss = 11.027153, step = 3201 (0.567 sec)\n",
      "INFO:tensorflow:global_step/sec: 202.535\n",
      "INFO:tensorflow:loss = 12.948408, step = 3301 (0.500 sec)\n",
      "INFO:tensorflow:global_step/sec: 193.254\n",
      "INFO:tensorflow:loss = 12.216345, step = 3401 (0.517 sec)\n",
      "INFO:tensorflow:global_step/sec: 189.678\n",
      "INFO:tensorflow:loss = 12.884232, step = 3501 (0.530 sec)\n",
      "INFO:tensorflow:global_step/sec: 203.208\n",
      "INFO:tensorflow:loss = 13.522178, step = 3601 (0.494 sec)\n",
      "INFO:tensorflow:global_step/sec: 195.401\n",
      "INFO:tensorflow:loss = 13.0680685, step = 3701 (0.508 sec)\n",
      "INFO:tensorflow:global_step/sec: 171.884\n",
      "INFO:tensorflow:loss = 10.5103855, step = 3801 (0.580 sec)\n",
      "INFO:tensorflow:global_step/sec: 213.811\n",
      "INFO:tensorflow:loss = 13.410515, step = 3901 (0.469 sec)\n",
      "INFO:tensorflow:global_step/sec: 202.663\n",
      "INFO:tensorflow:loss = 11.051308, step = 4001 (0.491 sec)\n",
      "INFO:tensorflow:global_step/sec: 196.614\n",
      "INFO:tensorflow:loss = 15.305418, step = 4101 (0.509 sec)\n",
      "INFO:tensorflow:global_step/sec: 201.378\n",
      "INFO:tensorflow:loss = 13.366027, step = 4201 (0.498 sec)\n",
      "INFO:tensorflow:global_step/sec: 185.322\n",
      "INFO:tensorflow:loss = 13.511236, step = 4301 (0.539 sec)\n",
      "INFO:tensorflow:global_step/sec: 224.052\n",
      "INFO:tensorflow:loss = 12.947409, step = 4401 (0.448 sec)\n",
      "INFO:tensorflow:global_step/sec: 200.332\n",
      "INFO:tensorflow:loss = 13.887357, step = 4501 (0.496 sec)\n",
      "INFO:tensorflow:global_step/sec: 223.666\n",
      "INFO:tensorflow:loss = 13.320184, step = 4601 (0.449 sec)\n",
      "INFO:tensorflow:global_step/sec: 195.048\n",
      "INFO:tensorflow:loss = 11.988793, step = 4701 (0.533 sec)\n",
      "INFO:tensorflow:global_step/sec: 122.674\n",
      "INFO:tensorflow:loss = 12.472452, step = 4801 (0.797 sec)\n",
      "INFO:tensorflow:global_step/sec: 186.353\n",
      "INFO:tensorflow:loss = 12.180426, step = 4901 (0.534 sec)\n",
      "INFO:tensorflow:global_step/sec: 184.643\n",
      "INFO:tensorflow:loss = 15.67099, step = 5001 (0.544 sec)\n",
      "INFO:tensorflow:global_step/sec: 168.855\n",
      "INFO:tensorflow:loss = 13.233855, step = 5101 (0.593 sec)\n",
      "INFO:tensorflow:global_step/sec: 159.862\n",
      "INFO:tensorflow:loss = 11.978016, step = 5201 (0.633 sec)\n",
      "INFO:tensorflow:global_step/sec: 186.595\n",
      "INFO:tensorflow:loss = 12.714667, step = 5301 (0.551 sec)\n",
      "INFO:tensorflow:global_step/sec: 153.855\n",
      "INFO:tensorflow:loss = 14.30788, step = 5401 (0.630 sec)\n",
      "INFO:tensorflow:global_step/sec: 176.578\n",
      "INFO:tensorflow:loss = 14.906744, step = 5501 (0.574 sec)\n",
      "INFO:tensorflow:global_step/sec: 154.602\n",
      "INFO:tensorflow:loss = 13.447782, step = 5601 (0.644 sec)\n",
      "INFO:tensorflow:global_step/sec: 174.667\n",
      "INFO:tensorflow:loss = 13.261634, step = 5701 (0.563 sec)\n",
      "INFO:tensorflow:global_step/sec: 202.008\n",
      "INFO:tensorflow:loss = 12.853037, step = 5801 (0.497 sec)\n",
      "INFO:tensorflow:global_step/sec: 218.785\n",
      "INFO:tensorflow:loss = 14.762061, step = 5901 (0.456 sec)\n",
      "INFO:tensorflow:global_step/sec: 210.313\n",
      "INFO:tensorflow:loss = 13.757683, step = 6001 (0.476 sec)\n",
      "INFO:tensorflow:global_step/sec: 192.807\n",
      "INFO:tensorflow:loss = 12.680307, step = 6101 (0.522 sec)\n",
      "INFO:tensorflow:global_step/sec: 199.333\n",
      "INFO:tensorflow:loss = 14.19977, step = 6201 (0.499 sec)\n",
      "INFO:tensorflow:global_step/sec: 192.026\n",
      "INFO:tensorflow:loss = 14.118782, step = 6301 (0.528 sec)\n",
      "INFO:tensorflow:global_step/sec: 196.31\n",
      "INFO:tensorflow:loss = 12.341256, step = 6401 (0.500 sec)\n",
      "INFO:tensorflow:global_step/sec: 210.657\n",
      "INFO:tensorflow:loss = 12.699746, step = 6501 (0.477 sec)\n",
      "INFO:tensorflow:global_step/sec: 188.063\n",
      "INFO:tensorflow:loss = 12.835482, step = 6601 (0.534 sec)\n",
      "INFO:tensorflow:global_step/sec: 208.647\n",
      "INFO:tensorflow:loss = 12.002761, step = 6701 (0.489 sec)\n",
      "INFO:tensorflow:global_step/sec: 192.787\n",
      "INFO:tensorflow:loss = 12.387385, step = 6801 (0.509 sec)\n",
      "INFO:tensorflow:global_step/sec: 212.017\n",
      "INFO:tensorflow:loss = 14.480623, step = 6901 (0.472 sec)\n",
      "INFO:tensorflow:global_step/sec: 163.688\n",
      "INFO:tensorflow:loss = 14.622104, step = 7001 (0.616 sec)\n",
      "INFO:tensorflow:global_step/sec: 173.734\n",
      "INFO:tensorflow:loss = 11.928672, step = 7101 (0.584 sec)\n",
      "INFO:tensorflow:global_step/sec: 150.465\n",
      "INFO:tensorflow:loss = 14.0765705, step = 7201 (0.659 sec)\n",
      "INFO:tensorflow:global_step/sec: 204.05\n",
      "INFO:tensorflow:loss = 13.785156, step = 7301 (0.506 sec)\n",
      "INFO:tensorflow:global_step/sec: 146.176\n",
      "INFO:tensorflow:loss = 14.95771, step = 7401 (0.683 sec)\n",
      "INFO:tensorflow:global_step/sec: 170.13\n",
      "INFO:tensorflow:loss = 14.011082, step = 7501 (0.563 sec)\n",
      "INFO:tensorflow:global_step/sec: 193.207\n",
      "INFO:tensorflow:loss = 11.643947, step = 7601 (0.524 sec)\n",
      "INFO:tensorflow:global_step/sec: 162.03\n",
      "INFO:tensorflow:loss = 12.230711, step = 7701 (0.613 sec)\n",
      "INFO:tensorflow:global_step/sec: 170.556\n",
      "INFO:tensorflow:loss = 12.858223, step = 7801 (0.588 sec)\n",
      "INFO:tensorflow:global_step/sec: 170.605\n",
      "INFO:tensorflow:loss = 13.228534, step = 7901 (0.583 sec)\n",
      "INFO:tensorflow:global_step/sec: 204.302\n"
     ]
    },
    {
     "name": "stdout",
     "output_type": "stream",
     "text": [
      "INFO:tensorflow:loss = 11.727829, step = 8001 (0.503 sec)\n",
      "INFO:tensorflow:global_step/sec: 140.317\n",
      "INFO:tensorflow:loss = 11.099498, step = 8101 (0.714 sec)\n",
      "INFO:tensorflow:global_step/sec: 147.042\n",
      "INFO:tensorflow:loss = 13.696408, step = 8201 (0.667 sec)\n",
      "INFO:tensorflow:global_step/sec: 182.866\n",
      "INFO:tensorflow:loss = 12.851131, step = 8301 (0.546 sec)\n",
      "INFO:tensorflow:global_step/sec: 166.442\n",
      "INFO:tensorflow:loss = 14.156767, step = 8401 (0.600 sec)\n",
      "INFO:tensorflow:global_step/sec: 178.334\n",
      "INFO:tensorflow:loss = 13.219123, step = 8501 (0.565 sec)\n",
      "INFO:tensorflow:global_step/sec: 164.276\n",
      "INFO:tensorflow:loss = 14.5984745, step = 8601 (0.611 sec)\n",
      "INFO:tensorflow:global_step/sec: 204.773\n",
      "INFO:tensorflow:loss = 12.103345, step = 8701 (0.481 sec)\n",
      "INFO:tensorflow:global_step/sec: 206.127\n",
      "INFO:tensorflow:loss = 13.210895, step = 8801 (0.485 sec)\n",
      "INFO:tensorflow:global_step/sec: 176.536\n",
      "INFO:tensorflow:loss = 13.438311, step = 8901 (0.566 sec)\n",
      "INFO:tensorflow:global_step/sec: 156.846\n",
      "INFO:tensorflow:loss = 12.437412, step = 9001 (0.636 sec)\n",
      "INFO:tensorflow:global_step/sec: 194.867\n",
      "INFO:tensorflow:loss = 13.122402, step = 9101 (0.525 sec)\n",
      "INFO:tensorflow:global_step/sec: 182.379\n",
      "INFO:tensorflow:loss = 13.1819725, step = 9201 (0.537 sec)\n",
      "INFO:tensorflow:global_step/sec: 211.645\n",
      "INFO:tensorflow:loss = 13.790772, step = 9301 (0.475 sec)\n",
      "INFO:tensorflow:global_step/sec: 229.57\n",
      "INFO:tensorflow:loss = 10.368363, step = 9401 (0.436 sec)\n",
      "INFO:tensorflow:global_step/sec: 216.096\n",
      "INFO:tensorflow:loss = 13.196816, step = 9501 (0.467 sec)\n",
      "INFO:tensorflow:global_step/sec: 153.807\n",
      "INFO:tensorflow:loss = 12.630346, step = 9601 (0.666 sec)\n",
      "INFO:tensorflow:global_step/sec: 168.758\n",
      "INFO:tensorflow:loss = 13.010056, step = 9701 (0.597 sec)\n",
      "INFO:tensorflow:global_step/sec: 160.352\n",
      "INFO:tensorflow:loss = 12.521761, step = 9801 (0.621 sec)\n",
      "INFO:tensorflow:global_step/sec: 135.48\n",
      "INFO:tensorflow:loss = 13.102307, step = 9901 (0.721 sec)\n",
      "INFO:tensorflow:Saving checkpoints for 10000 into C:\\Users\\OLIVER~1.GOE\\AppData\\Local\\Temp\\tmpege3wk86\\model.ckpt.\n",
      "INFO:tensorflow:Loss for final step: 12.014416.\n"
     ]
    },
    {
     "data": {
      "text/plain": [
       "<tensorflow.python.estimator.canned.dnn.DNNClassifier at 0x1f511e7bf60>"
      ]
     },
     "execution_count": 35,
     "metadata": {},
     "output_type": "execute_result"
    }
   ],
   "source": [
    "# train the network with 10.000 iterations\n",
    "dnn.train(input_fn=input_func, steps=10000)"
   ]
  },
  {
   "cell_type": "markdown",
   "metadata": {},
   "source": [
    "### 5.3 Compute values for evaluation"
   ]
  },
  {
   "cell_type": "code",
   "execution_count": 36,
   "metadata": {},
   "outputs": [],
   "source": [
    "# define the prediction function\n",
    "pred_func = tf.estimator.inputs.pandas_input_fn(x=X_test_tf, batch_size=len(X_test_tf), shuffle=False)"
   ]
  },
  {
   "cell_type": "code",
   "execution_count": 37,
   "metadata": {},
   "outputs": [],
   "source": [
    "# define the evaluation function\n",
    "eval_func = tf.estimator.inputs.pandas_input_fn(x=X_test_tf, y=y_test_tf, batch_size=len(X_test_tf), shuffle=False)"
   ]
  },
  {
   "cell_type": "code",
   "execution_count": 38,
   "metadata": {},
   "outputs": [],
   "source": [
    "# get the predictions\n",
    "dnn_predictions = dnn.predict(input_fn=pred_func)"
   ]
  },
  {
   "cell_type": "code",
   "execution_count": 39,
   "metadata": {},
   "outputs": [
    {
     "name": "stdout",
     "output_type": "stream",
     "text": [
      "INFO:tensorflow:Calling model_fn.\n",
      "INFO:tensorflow:Done calling model_fn.\n",
      "INFO:tensorflow:Starting evaluation at 2018-05-30-23:19:15\n",
      "INFO:tensorflow:Graph was finalized.\n",
      "INFO:tensorflow:Restoring parameters from C:\\Users\\OLIVER~1.GOE\\AppData\\Local\\Temp\\tmpege3wk86\\model.ckpt-10000\n",
      "INFO:tensorflow:Running local_init_op.\n",
      "INFO:tensorflow:Done running local_init_op.\n",
      "INFO:tensorflow:Finished evaluation at 2018-05-30-23:19:17\n",
      "INFO:tensorflow:Saving dict for global step 10000: accuracy = 0.6666667, accuracy_baseline = 0.6666666, auc = 0.50443786, auc_precision_recall = 0.3756639, average_loss = 0.6408699, global_step = 10000, label/mean = 0.33333334, loss = 24.993927, prediction/mean = 0.32980132\n"
     ]
    }
   ],
   "source": [
    "# get the evaluation\n",
    "dnn_eval = dnn.evaluate(input_fn=eval_func)"
   ]
  },
  {
   "cell_type": "code",
   "execution_count": 40,
   "metadata": {
    "scrolled": true
   },
   "outputs": [
    {
     "name": "stdout",
     "output_type": "stream",
     "text": [
      "INFO:tensorflow:Calling model_fn.\n",
      "INFO:tensorflow:Done calling model_fn.\n",
      "INFO:tensorflow:Graph was finalized.\n",
      "INFO:tensorflow:Restoring parameters from C:\\Users\\OLIVER~1.GOE\\AppData\\Local\\Temp\\tmpege3wk86\\model.ckpt-10000\n",
      "INFO:tensorflow:Running local_init_op.\n",
      "INFO:tensorflow:Done running local_init_op.\n"
     ]
    }
   ],
   "source": [
    "# get the class label for each instance\n",
    "final_dnn_predictions = [pred['class_ids'][0] for pred in list(dnn_predictions)]"
   ]
  },
  {
   "cell_type": "code",
   "execution_count": 41,
   "metadata": {},
   "outputs": [],
   "source": [
    "# extract the probabilities from predictions\n",
    "dnn_probabilities= dnn.predict(input_fn=pred_func)"
   ]
  },
  {
   "cell_type": "code",
   "execution_count": 42,
   "metadata": {},
   "outputs": [
    {
     "name": "stdout",
     "output_type": "stream",
     "text": [
      "INFO:tensorflow:Calling model_fn.\n",
      "INFO:tensorflow:Done calling model_fn.\n",
      "INFO:tensorflow:Graph was finalized.\n",
      "INFO:tensorflow:Restoring parameters from C:\\Users\\OLIVER~1.GOE\\AppData\\Local\\Temp\\tmpege3wk86\\model.ckpt-10000\n",
      "INFO:tensorflow:Running local_init_op.\n",
      "INFO:tensorflow:Done running local_init_op.\n"
     ]
    }
   ],
   "source": [
    "# get the probabilities for each instance\n",
    "final_dnn_probabilities = [prob['probabilities'] for prob in list(dnn_probabilities)]"
   ]
  },
  {
   "cell_type": "code",
   "execution_count": 43,
   "metadata": {},
   "outputs": [],
   "source": [
    "# build the model with the already computed values\n",
    "MLP = Model('MLP', dnn, X_train_tf, X_test_tf, y_train_tf, y_test_tf )\n",
    "\n",
    "# cast the probabilities to a numpy array for enabling to compute error rates\n",
    "final_dnn_probabilities=np.array(final_dnn_probabilities)\n",
    "\n",
    "# assign corresponding values to the model\n",
    "MLP.predictions = final_dnn_predictions\n",
    "MLP.probabilities = final_dnn_probabilities\n",
    "MLP.accuracy = dnn_eval['accuracy']\n",
    "\n",
    "# compute the confusion matrix\n",
    "MLP.addConfusionMatrix()\n",
    "\n",
    "# add MLP to the names and classifiers array for proper indexing in the visualization section\n",
    "classifier_names.append('MLP')\n",
    "classifiers.append(MLP)"
   ]
  },
  {
   "cell_type": "code",
   "execution_count": 44,
   "metadata": {},
   "outputs": [
    {
     "name": "stdout",
     "output_type": "stream",
     "text": [
      "Predictions:  [0, 0, 0, 0, 0, 0, 0, 0, 0, 0, 0, 0, 0, 0, 0, 0, 0, 0, 0, 0, 0, 0, 0, 0, 0, 0, 0, 0, 0, 0, 0, 0, 0, 0, 0, 0, 0, 0, 0]\n",
      "Accuracy:  0.6666667\n",
      "Probabilities:  [[0.6560132  0.3439868 ]\n",
      " [0.5760011  0.42399886]\n",
      " [0.63162965 0.36837035]\n",
      " [0.6831836  0.31681636]\n",
      " [0.62614816 0.3738518 ]\n",
      " [0.69480526 0.30519465]\n",
      " [0.703882   0.296118  ]\n",
      " [0.6421779  0.35782206]\n",
      " [0.68233275 0.31766725]\n",
      " [0.66209686 0.33790317]\n",
      " [0.6724483  0.3275517 ]\n",
      " [0.7005082  0.2994918 ]\n",
      " [0.6964394  0.30356064]\n",
      " [0.70091957 0.2990805 ]\n",
      " [0.58203316 0.41796687]\n",
      " [0.6815496  0.31845036]\n",
      " [0.67991114 0.3200889 ]\n",
      " [0.69144994 0.30855   ]\n",
      " [0.66664547 0.33335456]\n",
      " [0.7038807  0.29611924]\n",
      " [0.6508648  0.34913525]\n",
      " [0.685009   0.314991  ]\n",
      " [0.6385586  0.3614414 ]\n",
      " [0.6855483  0.31445166]\n",
      " [0.6246325  0.37536755]\n",
      " [0.6769144  0.32308564]\n",
      " [0.6888034  0.31119663]\n",
      " [0.6880585  0.3119415 ]\n",
      " [0.6607263  0.33927372]\n",
      " [0.5790201  0.42097992]\n",
      " [0.693158   0.30684206]\n",
      " [0.703882   0.296118  ]\n",
      " [0.69798505 0.30201495]\n",
      " [0.70341545 0.29658446]\n",
      " [0.6692345  0.33076546]\n",
      " [0.70343    0.29656997]\n",
      " [0.66229033 0.33770967]\n",
      " [0.6883217  0.31167826]\n",
      " [0.70384    0.29616   ]]\n",
      "Confusion Matrix:       no  yes\n",
      "no   26    0\n",
      "yes  13    0\n"
     ]
    }
   ],
   "source": [
    "# print the results of MLP for checking\n",
    "print('Predictions: ', MLP.predictions)\n",
    "print('Accuracy: ', MLP.accuracy)\n",
    "print('Probabilities: ', MLP.probabilities)\n",
    "print('Confusion Matrix: ', MLP.confusionMatrix)"
   ]
  },
  {
   "cell_type": "markdown",
   "metadata": {},
   "source": [
    "## 6. Evaluate and visualize the models' performances"
   ]
  },
  {
   "cell_type": "markdown",
   "metadata": {},
   "source": [
    "### 6.1 Styles of the plots"
   ]
  },
  {
   "cell_type": "code",
   "execution_count": 45,
   "metadata": {},
   "outputs": [],
   "source": [
    "# import library to modify style parameters\n",
    "from matplotlib import rcParams\n",
    "\n",
    "# font styles\n",
    "fontsizes= {'title' : 20, 'axis': 15, 'ticks': 13}\n",
    "fontweights= {'title' : 800, 'axis' : 600}\n",
    "\n",
    "# define styles for the images\n",
    "rcParams['axes.titlepad'] = 20\n",
    "\n",
    "# define the output resolution \n",
    "output_dpi = 300\n",
    "\n",
    "# define context and overall grid style\n",
    "sns.set(style='white',context='paper', font_scale=2)"
   ]
  },
  {
   "cell_type": "markdown",
   "metadata": {},
   "source": [
    "### 6.2 Draw the confusion matrices"
   ]
  },
  {
   "cell_type": "code",
   "execution_count": 46,
   "metadata": {
    "scrolled": true
   },
   "outputs": [
    {
     "data": {
      "text/plain": [
       "['SVM', 'KNN', 'DT', 'NB', 'MLP']"
      ]
     },
     "execution_count": 46,
     "metadata": {},
     "output_type": "execute_result"
    }
   ],
   "source": [
    "# check the order of the classifiers in the dictionary\n",
    "classifier_names"
   ]
  },
  {
   "cell_type": "code",
   "execution_count": 47,
   "metadata": {},
   "outputs": [
    {
     "data": {
      "image/png": "[encoded data removed]",
      "text/plain": [
       "<Figure size 432x288 with 2 Axes>"
      ]
     },
     "metadata": {},
     "output_type": "display_data"
    },
    {
     "data": {
      "image/png": "[encoded data removed]",
      "text/plain": [
       "<Figure size 432x288 with 2 Axes>"
      ]
     },
     "metadata": {},
     "output_type": "display_data"
    },
    {
     "data": {
      "image/png": "[encoded data removed]",
      "text/plain": [
       "<Figure size 432x288 with 2 Axes>"
      ]
     },
     "metadata": {},
     "output_type": "display_data"
    },
    {
     "data": {
      "image/png": "[encoded data removed]",
      "text/plain": [
       "<Figure size 432x288 with 2 Axes>"
      ]
     },
     "metadata": {},
     "output_type": "display_data"
    },
    {
     "data": {
      "image/png": "[encoded data removed]",
      "text/plain": [
       "<Figure size 432x288 with 2 Axes>"
      ]
     },
     "metadata": {},
     "output_type": "display_data"
    }
   ],
   "source": [
    "for clf in classifiers:\n",
    "    hp.drawConfusionMatrix(clf.confusionMatrix, clf.name, styleDics=[fontsizes, fontweights])\n",
    "    \n",
    "    # save the image\n",
    "    plt.savefig('{0} {1} Confusion Matrix.png'.format(target_label,clf.name), dpi=output_dpi, bbox_inches='tight')                                                                                             "
   ]
  },
  {
   "cell_type": "markdown",
   "metadata": {},
   "source": [
    "### 6.3 Compute error rates and area under roc"
   ]
  },
  {
   "cell_type": "code",
   "execution_count": 48,
   "metadata": {},
   "outputs": [],
   "source": [
    "# import roc and auc for performance comparison\n",
    "from sklearn.metrics import roc_curve, auc\n",
    "\n",
    "# initizile dictionaries to store the error rates\n",
    "fprate = {}\n",
    "tprate ={}\n",
    "roc_auc = {}\n",
    "\n",
    "\n",
    "# iterate over the classifiers\n",
    "for clf in classifiers:\n",
    "    \n",
    "    # assign the rates to the respective classifier\n",
    "    fprate[clf.name], tprate[clf.name], threshold = roc_curve(y_test, clf.probabilities[:,1])\n",
    "    \n",
    "    # assign the auc value to the respective classifier\n",
    "    roc_auc[clf.name] = auc(fprate[clf.name], tprate[clf.name])"
   ]
  },
  {
   "cell_type": "markdown",
   "metadata": {},
   "source": [
    "### 6.4 Plot the roc curve"
   ]
  },
  {
   "cell_type": "code",
   "execution_count": 49,
   "metadata": {},
   "outputs": [
    {
     "data": {
      "image/png": "[encoded data removed]",
      "text/plain": [
       "<Figure size 1080x576 with 1 Axes>"
      ]
     },
     "metadata": {},
     "output_type": "display_data"
    }
   ],
   "source": [
    "# draw a painting canvas and add an ax\n",
    "fig,axes = plt.subplots(figsize=(15,8))\n",
    "\n",
    "# set styles of the image\n",
    "linewidth=3\n",
    "\n",
    "# draw the baseline\n",
    "axes.plot([0,1],[0,1], color='black', linewidth=linewidth)\n",
    "\n",
    "# set styles for the curves\n",
    "linestyles=['--', ':', '-', '--', ':']\n",
    "colors=['b', 'g', 'r', 'brown', 'orange']\n",
    "\n",
    "\n",
    "# plot the roc curve for each classifier\n",
    "for index, linestyle in enumerate(linestyles):\n",
    "    axes.plot(fprate[classifiers[index].name], tprate[classifiers[index].name], linestyle=linestyle, linewidth=linewidth,\n",
    "          label=classifiers[index].name + ' (area = %0.2f)' % roc_auc[classifiers[index].name])\n",
    "    \n",
    "# add labels/description to the image    \n",
    "#axes.set_title('ROC Curves for \"Life insurance\"', fontdict={'fontsize': fontsizes['title'], 'fontweight': fontweights['title']})\n",
    "axes.set_ylabel('True Positive Rate', fontdict={'fontsize' : fontsizes['axis'], 'fontweight' : fontweights['axis']})\n",
    "axes.set_xlabel('False Positive Rate', fontdict={'fontsize' : fontsizes['axis'], 'fontweight' : fontweights['axis']})\n",
    "axes.tick_params(axis='both', labelsize=fontsizes['ticks'])\n",
    "\n",
    "# add a legend\n",
    "axes.legend(fontsize=fontsizes['axis'])\n",
    "\n",
    "# save the image\n",
    "plt.savefig('{} roc curves.png'.format(target_label), dpi=output_dpi)"
   ]
  },
  {
   "cell_type": "markdown",
   "metadata": {},
   "source": [
    "## 7. Export the models"
   ]
  },
  {
   "cell_type": "markdown",
   "metadata": {},
   "source": [
    "### 7.1 Save the ML models"
   ]
  },
  {
   "cell_type": "code",
   "execution_count": 50,
   "metadata": {},
   "outputs": [],
   "source": [
    "# import library for exporting a model\n",
    "from sklearn.externals import joblib\n",
    "\n",
    "# iterate over the models except MLP because it has to be handled differently\n",
    "counter =0\n",
    "for clf in classifiers:\n",
    "    \n",
    "    # exclude MLP from the loop\n",
    "    if counter < 4:\n",
    "        # locally save the models\n",
    "        joblib.dump(clf.classifier, '{} - {}.sav'.format(target_label, clf.name))\n",
    "    \n",
    "    # increment the counter\n",
    "    counter += 1"
   ]
  },
  {
   "cell_type": "markdown",
   "metadata": {},
   "source": [
    "### 7.2 Save the DL model"
   ]
  },
  {
   "cell_type": "code",
   "execution_count": 51,
   "metadata": {},
   "outputs": [
    {
     "name": "stdout",
     "output_type": "stream",
     "text": [
      "INFO:tensorflow:Calling model_fn.\n",
      "INFO:tensorflow:Done calling model_fn.\n",
      "INFO:tensorflow:Signatures INCLUDED in export for Classify: ['serving_default', 'classification']\n",
      "INFO:tensorflow:Signatures INCLUDED in export for Regress: ['regression']\n",
      "INFO:tensorflow:Signatures INCLUDED in export for Predict: ['predict']\n",
      "INFO:tensorflow:Restoring parameters from C:\\Users\\OLIVER~1.GOE\\AppData\\Local\\Temp\\tmpege3wk86\\model.ckpt-10000\n",
      "INFO:tensorflow:Assets added to graph.\n",
      "INFO:tensorflow:No assets to write.\n",
      "INFO:tensorflow:SavedModel written to: b\"Day-to-day money account - MLP\\\\temp-b'1527722384'\\\\saved_model.pb\"\n"
     ]
    },
    {
     "data": {
      "text/plain": [
       "b'Day-to-day money account - MLP\\\\1527722384'"
      ]
     },
     "execution_count": 51,
     "metadata": {},
     "output_type": "execute_result"
    }
   ],
   "source": [
    "# define the input features with corresponding placeholders\n",
    "feature_spec = {'Sex': tf.VarLenFeature(dtype=tf.string),\n",
    "                'Age': tf.FixedLenFeature(shape=[],dtype=tf.int64),\n",
    "                'Income': tf.FixedLenFeature(shape=[], dtype=tf.string)\n",
    "               }\n",
    "\n",
    "\n",
    "# define the filename\n",
    "export_location = '{} - MLP'.format(target_label)\n",
    "\n",
    "# define the receiver input function\n",
    "serving_input_receiver_fn = tf.estimator.export.build_parsing_serving_input_receiver_fn(feature_spec)\n",
    "\n",
    "# export the MLP model with a timestamp subfolder\n",
    "MLP.classifier.export_savedmodel(export_location, serving_input_receiver_fn, as_text=False)\n"
   ]
  }
 ],
 "metadata": {
  "kernelspec": {
   "display_name": "Python 3",
   "language": "python",
   "name": "python3"
  },
  "language_info": {
   "codemirror_mode": {
    "name": "ipython",
    "version": 3
   },
   "file_extension": ".py",
   "mimetype": "text/x-python",
   "name": "python",
   "nbconvert_exporter": "python",
   "pygments_lexer": "ipython3",
   "version": "3.6.5"
  }
 },
 "nbformat": 4,
 "nbformat_minor": 2
}
