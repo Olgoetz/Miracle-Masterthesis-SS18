{
 "cells": [
  {
   "cell_type": "markdown",
   "metadata": {},
   "source": [
    "# Computing Classification Models for Target Labels\n",
    "\n",
    "This notebook builds binary classification models for chosen target labels and is structured as follows:\n",
    "____\n",
    "\n",
    "**1. Import librariers**\n",
    "\n",
    "All necessary analytical and visualization liberariers are importet. Furthermore, 'autoreload' is set to automatically\n",
    "import a file again as soon as its code has changed.\n",
    "\n",
    "**2. Set variables for algorithm input**\n",
    "\n",
    "In this block, the strings may be changed to customize the classification model's output. On the one hand, the name of the file containing the data is assigned to a variable. On the other hand, the target label for buidling a classifier can be set. The value for random state should not be changed as 42 delivers the best results.\n",
    "\n",
    "**3. Handle the dataset**\n",
    "\n",
    "This section comprises several subsections:\n",
    "\n",
    "*3.1 Load the data*:\n",
    "In this section, the to be processed is loaded from the file system and the first five rows of data are shown.  \n",
    "Next, the features are assigned to the variable X and variable Y is the target label (the one that is going to be predicted)\n",
    "\n",
    "*3.2 Datapreprocessing*:\n",
    "In the dataprocessing section, the categorical values are transformed into numerical ones by introducing dummy variables and standardization.\n",
    "\n",
    "*3.4 Split the data into train and test data*:\n",
    "The data is split into four quantities, by convention with approprirate variable names:\n",
    "\n",
    "|Variable|Description |\n",
    "| ------------- |:-------------:|\n",
    " | X_train, y_train     | 70% of the data is used for training the model|\n",
    "| X_test, y_test    | 30% of the data is used for testing the model regarding its performance|\n",
    "\n",
    "\n",
    "**4. Implement machine learning models**\n",
    "\n",
    "In this coding block, the machine learning models are implemented and is structured as follows:\n",
    "\n",
    "*4.1 Import necessary libraris*: Libariers for building the models are imported\n",
    "\n",
    "*4.2 Find the best hyperparamters for each classifier*: Grid search is method to tune the hyperparamters a\n",
    "classifiers brings along. The values for the hyperparameters are stored as list. After that, the grid search is applied and the model with best paramters is extracted for further usage. \n",
    "\n",
    "*4.3 Build the classifiers and run them*: The models are built together with necessary values for upcoming visualization and an excerpt the result is provided.\n",
    "\n",
    "**5. Implement deep learninng model**\n",
    "\n",
    "The deep learning model is implemented by Tensorflow. The section is grouped as follows:\n",
    "\n",
    "*5.1 Check the data and preprocess it*:\n",
    "The data is again checked and necessary preprocessing steps like in section four are conducted. The approach is slightly different since the data needs to be kept as a pandas dataframe. Is necessary to transform the data into so-called \"Tensors\" which is comparable with an array, except holding a specific signature. Therefore, Tensorflow can easily process the data.\n",
    "\n",
    "*5.2 Apply a deep neuronal network classifier*:\n",
    "In this section, the neuronal network (mulitlayer peceptron) is being built. It consists of one input layer having three nodes (sex, age, income). There are three hidden layers wicht 20 neurons=nodes each. Lastly, the output layer encompasses two nodes since it is a binary classification problem. 20.000 steps for training the network are performed.\n",
    "\n",
    "*5.3 Compute values for evaluation*:\n",
    "The code block is responsbile for the computation of values that can be used for the evaluation of the network. The values are the same as mentionend in section four, namely array of predictions, confusion matrix, probabilities and accuracy.\n",
    "\n",
    "**6. Evaluate and visualize the models' performances**\n",
    "\n",
    "Section six is the place where the visualization of the models takes place. Based on that, it is possible to compare them among each and pick the best performing one.\n",
    "\n",
    "*6.1 Styles of the plots*:\n",
    "Sets globally the styles for the visual appearance of figures.\n",
    "\n",
    "*6.2 Draw the confusion matrices*:\n",
    "For each classifier (SVM, NB, DT, KNN, MLP) a confusion matrix in the two dimensional space (binary case) is drawn and exported to the file system.\n",
    "\n",
    "*6.3 Compute error rates and area under roc*: \n",
    "This code segment calculates the error rates of each classifiers' predictions in order to draw the roc curve in the next step. Furthermore, the auc is computed which simplifies the evaluation of a classifier.\n",
    "\n",
    "*6.4 Plot the roc curve*:\n",
    "The code block shows how the roc curves of each applied classifier can be drawn. All curves a gathered in one chart for the best comparsion. At last, the chart is saved to the files system.\n",
    "\n",
    "**7. Export the models**\n",
    "\n",
    "*7.1 Save the ML models: Provides code for saving each ML model, namely NB, KNN, NB and DT.\n",
    "\n",
    "*7.2 Save the DL model: Provides code for saving the DL model. A different code is necessary since the DL model bases on the tensorflow libary. Therefore, a different approach is required.\n",
    "\n",
    "___\n",
    "\n",
    "***HINT: If it is desired to compute am model for anther target lable, the corresponding variables in section 2 must be adjusted and then, it is advisable, to restart the kernel. Otherwise, it may be possible that other variables still stored from prior usages and are mistakenly applied to sequences for building the new model.***\n",
    "\n",
    "___"
   ]
  },
  {
   "cell_type": "markdown",
   "metadata": {},
   "source": [
    "## 1. Import libariers"
   ]
  },
  {
   "cell_type": "code",
   "execution_count": 1,
   "metadata": {},
   "outputs": [],
   "source": [
    "# import analysis libraries\n",
    "import numpy as np\n",
    "import pandas as pd\n",
    "\n",
    "# import visualization libraries\n",
    "import matplotlib.pyplot as plt\n",
    "import seaborn as sns\n",
    "\n",
    "# makes matplotlib executable in jupyter\n",
    "%matplotlib inline\n",
    "\n",
    "# set white backgroud to plots\n",
    "sns.set_style(\"whitegrid\", {'axes.grid' : False})\n",
    "\n",
    "# autoreload librariers when they change\n",
    "%load_ext autoreload\n",
    "%autoreload 2"
   ]
  },
  {
   "cell_type": "markdown",
   "metadata": {},
   "source": [
    "## 2. Set variables for algorithm input"
   ]
  },
  {
   "cell_type": "code",
   "execution_count": 136,
   "metadata": {},
   "outputs": [],
   "source": [
    "# provide the data source --> must be an excel\n",
    "dataset = '../Datasource/data_financeproducts.xlsx'\n",
    "\n",
    "# set the target_label\n",
    "target_label = 'Housing saving'\n",
    "\n",
    "\n",
    "# set the random state for the ML and DL models\n",
    "# for obtaining the same results that I have, choose the following random states\n",
    "# life insurance: 100\n",
    "# housing saving: 42\n",
    "# day-to-day money account: \n",
    "random_state = 42"
   ]
  },
  {
   "cell_type": "markdown",
   "metadata": {},
   "source": [
    "## 3. Handle the dataset"
   ]
  },
  {
   "cell_type": "markdown",
   "metadata": {},
   "source": [
    "### 3.1 Load the data"
   ]
  },
  {
   "cell_type": "code",
   "execution_count": 220,
   "metadata": {},
   "outputs": [],
   "source": [
    "# assign the data to a DataFrame\n",
    "data = pd.read_excel(dataset)"
   ]
  },
  {
   "cell_type": "code",
   "execution_count": 221,
   "metadata": {},
   "outputs": [
    {
     "data": {
      "text/html": [
       "<div>\n",
       "<style scoped>\n",
       "    .dataframe tbody tr th:only-of-type {\n",
       "        vertical-align: middle;\n",
       "    }\n",
       "\n",
       "    .dataframe tbody tr th {\n",
       "        vertical-align: top;\n",
       "    }\n",
       "\n",
       "    .dataframe thead th {\n",
       "        text-align: right;\n",
       "    }\n",
       "</style>\n",
       "<table border=\"1\" class=\"dataframe\">\n",
       "  <thead>\n",
       "    <tr style=\"text-align: right;\">\n",
       "      <th></th>\n",
       "      <th>Sex</th>\n",
       "      <th>Age</th>\n",
       "      <th>Net income</th>\n",
       "      <th>Creditcard ownership</th>\n",
       "      <th>Amount of financial products</th>\n",
       "      <th>Stocks</th>\n",
       "      <th>Investment fonds</th>\n",
       "      <th>Bond issues</th>\n",
       "      <th>Savings certificate</th>\n",
       "      <th>Giro account</th>\n",
       "      <th>Day-to-day money account</th>\n",
       "      <th>Credit card</th>\n",
       "      <th>Fixed deposit account</th>\n",
       "      <th>Life insurance</th>\n",
       "      <th>Riester pension</th>\n",
       "      <th>Housing saving</th>\n",
       "    </tr>\n",
       "  </thead>\n",
       "  <tbody>\n",
       "    <tr>\n",
       "      <th>0</th>\n",
       "      <td>male</td>\n",
       "      <td>28</td>\n",
       "      <td>1250-1499 €</td>\n",
       "      <td>yes</td>\n",
       "      <td>3</td>\n",
       "      <td>no</td>\n",
       "      <td>no</td>\n",
       "      <td>no</td>\n",
       "      <td>no</td>\n",
       "      <td>yes</td>\n",
       "      <td>yes</td>\n",
       "      <td>yes</td>\n",
       "      <td>no</td>\n",
       "      <td>no</td>\n",
       "      <td>no</td>\n",
       "      <td>no</td>\n",
       "    </tr>\n",
       "    <tr>\n",
       "      <th>1</th>\n",
       "      <td>male</td>\n",
       "      <td>56</td>\n",
       "      <td>5000-5999 €</td>\n",
       "      <td>yes</td>\n",
       "      <td>1</td>\n",
       "      <td>no</td>\n",
       "      <td>no</td>\n",
       "      <td>no</td>\n",
       "      <td>no</td>\n",
       "      <td>no</td>\n",
       "      <td>no</td>\n",
       "      <td>yes</td>\n",
       "      <td>no</td>\n",
       "      <td>no</td>\n",
       "      <td>no</td>\n",
       "      <td>no</td>\n",
       "    </tr>\n",
       "    <tr>\n",
       "      <th>2</th>\n",
       "      <td>male</td>\n",
       "      <td>28</td>\n",
       "      <td>1250-1499 €</td>\n",
       "      <td>yes</td>\n",
       "      <td>3</td>\n",
       "      <td>no</td>\n",
       "      <td>no</td>\n",
       "      <td>no</td>\n",
       "      <td>no</td>\n",
       "      <td>yes</td>\n",
       "      <td>yes</td>\n",
       "      <td>yes</td>\n",
       "      <td>no</td>\n",
       "      <td>no</td>\n",
       "      <td>no</td>\n",
       "      <td>no</td>\n",
       "    </tr>\n",
       "    <tr>\n",
       "      <th>3</th>\n",
       "      <td>male</td>\n",
       "      <td>29</td>\n",
       "      <td>2000-2499 €</td>\n",
       "      <td>yes</td>\n",
       "      <td>3</td>\n",
       "      <td>no</td>\n",
       "      <td>no</td>\n",
       "      <td>no</td>\n",
       "      <td>no</td>\n",
       "      <td>yes</td>\n",
       "      <td>no</td>\n",
       "      <td>yes</td>\n",
       "      <td>no</td>\n",
       "      <td>no</td>\n",
       "      <td>no</td>\n",
       "      <td>yes</td>\n",
       "    </tr>\n",
       "    <tr>\n",
       "      <th>4</th>\n",
       "      <td>male</td>\n",
       "      <td>29</td>\n",
       "      <td>2000-2499 €</td>\n",
       "      <td>yes</td>\n",
       "      <td>2</td>\n",
       "      <td>no</td>\n",
       "      <td>no</td>\n",
       "      <td>no</td>\n",
       "      <td>no</td>\n",
       "      <td>yes</td>\n",
       "      <td>no</td>\n",
       "      <td>yes</td>\n",
       "      <td>no</td>\n",
       "      <td>no</td>\n",
       "      <td>no</td>\n",
       "      <td>no</td>\n",
       "    </tr>\n",
       "  </tbody>\n",
       "</table>\n",
       "</div>"
      ],
      "text/plain": [
       "    Sex  Age   Net income Creditcard ownership  Amount of financial products  \\\n",
       "0  male   28  1250-1499 €                  yes                             3   \n",
       "1  male   56  5000-5999 €                  yes                             1   \n",
       "2  male   28  1250-1499 €                  yes                             3   \n",
       "3  male   29  2000-2499 €                  yes                             3   \n",
       "4  male   29  2000-2499 €                  yes                             2   \n",
       "\n",
       "  Stocks Investment fonds Bond issues Savings certificate Giro account  \\\n",
       "0     no               no          no                  no          yes   \n",
       "1     no               no          no                  no           no   \n",
       "2     no               no          no                  no          yes   \n",
       "3     no               no          no                  no          yes   \n",
       "4     no               no          no                  no          yes   \n",
       "\n",
       "  Day-to-day money account Credit card Fixed deposit account Life insurance  \\\n",
       "0                      yes         yes                    no             no   \n",
       "1                       no         yes                    no             no   \n",
       "2                      yes         yes                    no             no   \n",
       "3                       no         yes                    no             no   \n",
       "4                       no         yes                    no             no   \n",
       "\n",
       "  Riester pension Housing saving  \n",
       "0              no             no  \n",
       "1              no             no  \n",
       "2              no             no  \n",
       "3              no            yes  \n",
       "4              no             no  "
      ]
     },
     "execution_count": 221,
     "metadata": {},
     "output_type": "execute_result"
    }
   ],
   "source": [
    "# show the head of the data\n",
    "data.head()"
   ]
  },
  {
   "cell_type": "markdown",
   "metadata": {},
   "source": [
    "### 3.2 Datapreprocessing"
   ]
  },
  {
   "cell_type": "code",
   "execution_count": 267,
   "metadata": {
    "scrolled": true
   },
   "outputs": [
    {
     "data": {
      "text/plain": [
       "['Sex',\n",
       " 'Age',\n",
       " 'Net income',\n",
       " 'Creditcard ownership',\n",
       " 'Amount of financial products',\n",
       " 'Stocks',\n",
       " 'Investment fonds',\n",
       " 'Bond issues',\n",
       " 'Savings certificate',\n",
       " 'Giro account',\n",
       " 'Day-to-day money account',\n",
       " 'Credit card',\n",
       " 'Fixed deposit account',\n",
       " 'Life insurance',\n",
       " 'Riester pension',\n",
       " 'Housing saving',\n",
       " 'Sex_cat',\n",
       " 'Income_cat']"
      ]
     },
     "execution_count": 267,
     "metadata": {},
     "output_type": "execute_result"
    }
   ],
   "source": [
    "# import librariers to preprocess data\n",
    "from sklearn.preprocessing import LabelEncoder,OneHotEncoder\n",
    "\n",
    "# encode sex --> female = 0, male = 1\n",
    "le_x = LabelEncoder()\n",
    "data['Sex_cat']= le_x.fit_transform(data['Sex'])\n",
    "\n",
    "# encode net income --> 16 categories, i.e. 16 numbers from 0 to 15\n",
    "data['Income_cat']=le_x.fit_transform(data['Net income'])\n",
    "names = list(data.columns.values)\n",
    "names_ordered = 'Sex',\n",
    "'Sex_cat',\n",
    " \n",
    " 'Age',\n",
    " 'Net income',\n",
    "    'Income_cat',\n",
    " 'Creditcard ownership',\n",
    " 'Amount of financial products',\n",
    " 'Stocks',\n",
    " 'Investment fonds',\n",
    " 'Bond issues',\n",
    " 'Savings certificate',\n",
    " 'Giro account',\n",
    " 'Day-to-day money account',\n",
    " 'Credit card',\n",
    " 'Fixed deposit account',\n",
    " 'Life insurance',\n",
    " 'Riester pension',\n",
    " 'Housing saving'\n",
    " \n",
    "data.reindex(labels=[])"
   ]
  },
  {
   "cell_type": "code",
   "execution_count": 255,
   "metadata": {
    "scrolled": true
   },
   "outputs": [
    {
     "data": {
      "text/html": [
       "<div>\n",
       "<style scoped>\n",
       "    .dataframe tbody tr th:only-of-type {\n",
       "        vertical-align: middle;\n",
       "    }\n",
       "\n",
       "    .dataframe tbody tr th {\n",
       "        vertical-align: top;\n",
       "    }\n",
       "\n",
       "    .dataframe thead th {\n",
       "        text-align: right;\n",
       "    }\n",
       "</style>\n",
       "<table border=\"1\" class=\"dataframe\">\n",
       "  <thead>\n",
       "    <tr style=\"text-align: right;\">\n",
       "      <th></th>\n",
       "      <th>Sex</th>\n",
       "      <th>Age</th>\n",
       "      <th>Net income</th>\n",
       "      <th>Creditcard ownership</th>\n",
       "      <th>Amount of financial products</th>\n",
       "      <th>Stocks</th>\n",
       "      <th>Investment fonds</th>\n",
       "      <th>Bond issues</th>\n",
       "      <th>Savings certificate</th>\n",
       "      <th>Giro account</th>\n",
       "      <th>Day-to-day money account</th>\n",
       "      <th>Credit card</th>\n",
       "      <th>Fixed deposit account</th>\n",
       "      <th>Life insurance</th>\n",
       "      <th>Riester pension</th>\n",
       "      <th>Housing saving</th>\n",
       "      <th>Sex_cat</th>\n",
       "      <th>Income_cat</th>\n",
       "    </tr>\n",
       "  </thead>\n",
       "  <tbody>\n",
       "    <tr>\n",
       "      <th>0</th>\n",
       "      <td>male</td>\n",
       "      <td>28</td>\n",
       "      <td>1250-1499 €</td>\n",
       "      <td>yes</td>\n",
       "      <td>3</td>\n",
       "      <td>no</td>\n",
       "      <td>no</td>\n",
       "      <td>no</td>\n",
       "      <td>no</td>\n",
       "      <td>yes</td>\n",
       "      <td>yes</td>\n",
       "      <td>yes</td>\n",
       "      <td>no</td>\n",
       "      <td>no</td>\n",
       "      <td>no</td>\n",
       "      <td>no</td>\n",
       "      <td>1</td>\n",
       "      <td>1</td>\n",
       "    </tr>\n",
       "    <tr>\n",
       "      <th>1</th>\n",
       "      <td>male</td>\n",
       "      <td>56</td>\n",
       "      <td>5000-5999 €</td>\n",
       "      <td>yes</td>\n",
       "      <td>1</td>\n",
       "      <td>no</td>\n",
       "      <td>no</td>\n",
       "      <td>no</td>\n",
       "      <td>no</td>\n",
       "      <td>no</td>\n",
       "      <td>no</td>\n",
       "      <td>yes</td>\n",
       "      <td>no</td>\n",
       "      <td>no</td>\n",
       "      <td>no</td>\n",
       "      <td>no</td>\n",
       "      <td>1</td>\n",
       "      <td>10</td>\n",
       "    </tr>\n",
       "    <tr>\n",
       "      <th>2</th>\n",
       "      <td>male</td>\n",
       "      <td>28</td>\n",
       "      <td>1250-1499 €</td>\n",
       "      <td>yes</td>\n",
       "      <td>3</td>\n",
       "      <td>no</td>\n",
       "      <td>no</td>\n",
       "      <td>no</td>\n",
       "      <td>no</td>\n",
       "      <td>yes</td>\n",
       "      <td>yes</td>\n",
       "      <td>yes</td>\n",
       "      <td>no</td>\n",
       "      <td>no</td>\n",
       "      <td>no</td>\n",
       "      <td>no</td>\n",
       "      <td>1</td>\n",
       "      <td>1</td>\n",
       "    </tr>\n",
       "    <tr>\n",
       "      <th>3</th>\n",
       "      <td>male</td>\n",
       "      <td>29</td>\n",
       "      <td>2000-2499 €</td>\n",
       "      <td>yes</td>\n",
       "      <td>3</td>\n",
       "      <td>no</td>\n",
       "      <td>no</td>\n",
       "      <td>no</td>\n",
       "      <td>no</td>\n",
       "      <td>yes</td>\n",
       "      <td>no</td>\n",
       "      <td>yes</td>\n",
       "      <td>no</td>\n",
       "      <td>no</td>\n",
       "      <td>no</td>\n",
       "      <td>yes</td>\n",
       "      <td>1</td>\n",
       "      <td>4</td>\n",
       "    </tr>\n",
       "    <tr>\n",
       "      <th>4</th>\n",
       "      <td>male</td>\n",
       "      <td>29</td>\n",
       "      <td>2000-2499 €</td>\n",
       "      <td>yes</td>\n",
       "      <td>2</td>\n",
       "      <td>no</td>\n",
       "      <td>no</td>\n",
       "      <td>no</td>\n",
       "      <td>no</td>\n",
       "      <td>yes</td>\n",
       "      <td>no</td>\n",
       "      <td>yes</td>\n",
       "      <td>no</td>\n",
       "      <td>no</td>\n",
       "      <td>no</td>\n",
       "      <td>no</td>\n",
       "      <td>1</td>\n",
       "      <td>4</td>\n",
       "    </tr>\n",
       "  </tbody>\n",
       "</table>\n",
       "</div>"
      ],
      "text/plain": [
       "    Sex  Age   Net income Creditcard ownership  Amount of financial products  \\\n",
       "0  male   28  1250-1499 €                  yes                             3   \n",
       "1  male   56  5000-5999 €                  yes                             1   \n",
       "2  male   28  1250-1499 €                  yes                             3   \n",
       "3  male   29  2000-2499 €                  yes                             3   \n",
       "4  male   29  2000-2499 €                  yes                             2   \n",
       "\n",
       "  Stocks Investment fonds Bond issues Savings certificate Giro account  \\\n",
       "0     no               no          no                  no          yes   \n",
       "1     no               no          no                  no           no   \n",
       "2     no               no          no                  no          yes   \n",
       "3     no               no          no                  no          yes   \n",
       "4     no               no          no                  no          yes   \n",
       "\n",
       "  Day-to-day money account Credit card Fixed deposit account Life insurance  \\\n",
       "0                      yes         yes                    no             no   \n",
       "1                       no         yes                    no             no   \n",
       "2                      yes         yes                    no             no   \n",
       "3                       no         yes                    no             no   \n",
       "4                       no         yes                    no             no   \n",
       "\n",
       "  Riester pension Housing saving  Sex_cat  Income_cat  \n",
       "0              no             no        1           1  \n",
       "1              no             no        1          10  \n",
       "2              no             no        1           1  \n",
       "3              no            yes        1           4  \n",
       "4              no             no        1           4  "
      ]
     },
     "execution_count": 255,
     "metadata": {},
     "output_type": "execute_result"
    }
   ],
   "source": [
    "data.head()"
   ]
  },
  {
   "cell_type": "code",
   "execution_count": 265,
   "metadata": {},
   "outputs": [
    {
     "data": {
      "text/html": [
       "<div>\n",
       "<style scoped>\n",
       "    .dataframe tbody tr th:only-of-type {\n",
       "        vertical-align: middle;\n",
       "    }\n",
       "\n",
       "    .dataframe tbody tr th {\n",
       "        vertical-align: top;\n",
       "    }\n",
       "\n",
       "    .dataframe thead th {\n",
       "        text-align: right;\n",
       "    }\n",
       "</style>\n",
       "<table border=\"1\" class=\"dataframe\">\n",
       "  <thead>\n",
       "    <tr style=\"text-align: right;\">\n",
       "      <th></th>\n",
       "      <th>Income_cat</th>\n",
       "      <th>Net Income</th>\n",
       "    </tr>\n",
       "  </thead>\n",
       "  <tbody>\n",
       "    <tr>\n",
       "      <th>10</th>\n",
       "      <td>0</td>\n",
       "      <td>1000-1249 €</td>\n",
       "    </tr>\n",
       "    <tr>\n",
       "      <th>0</th>\n",
       "      <td>1</td>\n",
       "      <td>1250-1499 €</td>\n",
       "    </tr>\n",
       "    <tr>\n",
       "      <th>7</th>\n",
       "      <td>2</td>\n",
       "      <td>1500-1749 €</td>\n",
       "    </tr>\n",
       "    <tr>\n",
       "      <th>8</th>\n",
       "      <td>3</td>\n",
       "      <td>1750-1999 €</td>\n",
       "    </tr>\n",
       "    <tr>\n",
       "      <th>2</th>\n",
       "      <td>4</td>\n",
       "      <td>2000-2499 €</td>\n",
       "    </tr>\n",
       "    <tr>\n",
       "      <th>11</th>\n",
       "      <td>5</td>\n",
       "      <td>2500-2999 €</td>\n",
       "    </tr>\n",
       "    <tr>\n",
       "      <th>3</th>\n",
       "      <td>6</td>\n",
       "      <td>3000-3499 €</td>\n",
       "    </tr>\n",
       "    <tr>\n",
       "      <th>14</th>\n",
       "      <td>7</td>\n",
       "      <td>3500-3999 €</td>\n",
       "    </tr>\n",
       "    <tr>\n",
       "      <th>5</th>\n",
       "      <td>8</td>\n",
       "      <td>4000-4999 €</td>\n",
       "    </tr>\n",
       "    <tr>\n",
       "      <th>9</th>\n",
       "      <td>9</td>\n",
       "      <td>500-749 €</td>\n",
       "    </tr>\n",
       "    <tr>\n",
       "      <th>1</th>\n",
       "      <td>10</td>\n",
       "      <td>5000-5999 €</td>\n",
       "    </tr>\n",
       "    <tr>\n",
       "      <th>13</th>\n",
       "      <td>11</td>\n",
       "      <td>6000-7499 €</td>\n",
       "    </tr>\n",
       "    <tr>\n",
       "      <th>4</th>\n",
       "      <td>12</td>\n",
       "      <td>750-999 €</td>\n",
       "    </tr>\n",
       "    <tr>\n",
       "      <th>12</th>\n",
       "      <td>13</td>\n",
       "      <td>7500-9999 €</td>\n",
       "    </tr>\n",
       "    <tr>\n",
       "      <th>15</th>\n",
       "      <td>14</td>\n",
       "      <td>above 10000 €</td>\n",
       "    </tr>\n",
       "    <tr>\n",
       "      <th>6</th>\n",
       "      <td>15</td>\n",
       "      <td>under 500 €</td>\n",
       "    </tr>\n",
       "  </tbody>\n",
       "</table>\n",
       "</div>"
      ],
      "text/plain": [
       "    Income_cat     Net Income\n",
       "10           0    1000-1249 €\n",
       "0            1    1250-1499 €\n",
       "7            2    1500-1749 €\n",
       "8            3    1750-1999 €\n",
       "2            4    2000-2499 €\n",
       "11           5    2500-2999 €\n",
       "3            6    3000-3499 €\n",
       "14           7    3500-3999 €\n",
       "5            8    4000-4999 €\n",
       "9            9      500-749 €\n",
       "1           10    5000-5999 €\n",
       "13          11    6000-7499 €\n",
       "4           12      750-999 €\n",
       "12          13    7500-9999 €\n",
       "15          14  above 10000 €\n",
       "6           15    under 500 €"
      ]
     },
     "execution_count": 265,
     "metadata": {},
     "output_type": "execute_result"
    }
   ],
   "source": [
    "income = data['Net income'].unique()\n",
    "income_cat = data['Income_cat'].unique()\n",
    "encoding_overview = pd.DataFrame(data={'Net Income': income, 'Income_cat': income_cat})\n",
    "encoding_overview.sort_values('Income_cat')"
   ]
  },
  {
   "cell_type": "code",
   "execution_count": 266,
   "metadata": {},
   "outputs": [
    {
     "data": {
      "text/plain": [
       "array([[ 1, 28,  1],\n",
       "       [ 1, 56, 10],\n",
       "       [ 1, 28,  1],\n",
       "       [ 1, 29,  4],\n",
       "       [ 1, 29,  4],\n",
       "       [ 0, 32,  6],\n",
       "       [ 0, 26,  1],\n",
       "       [ 0, 22,  1],\n",
       "       [ 1, 22, 12],\n",
       "       [ 0, 49,  1],\n",
       "       [ 1, 45,  8],\n",
       "       [ 1, 30,  4],\n",
       "       [ 0, 28, 15],\n",
       "       [ 0, 31,  4],\n",
       "       [ 0, 29,  4],\n",
       "       [ 1, 28,  1],\n",
       "       [ 0, 47,  1],\n",
       "       [ 1, 27, 12],\n",
       "       [ 0, 24,  2],\n",
       "       [ 1, 47,  3],\n",
       "       [ 1, 49,  6],\n",
       "       [ 1, 24, 12],\n",
       "       [ 0, 19,  9],\n",
       "       [ 0, 22,  4],\n",
       "       [ 0, 26, 15],\n",
       "       [ 1, 36,  2],\n",
       "       [ 0, 40,  9],\n",
       "       [ 1, 49,  8],\n",
       "       [ 1, 22,  0],\n",
       "       [ 0, 23, 15],\n",
       "       [ 0, 25,  3],\n",
       "       [ 0, 27,  6],\n",
       "       [ 0, 41,  5],\n",
       "       [ 0, 26, 15],\n",
       "       [ 1, 43,  4],\n",
       "       [ 0, 34,  2],\n",
       "       [ 0, 18, 12],\n",
       "       [ 1, 42,  6],\n",
       "       [ 1, 29,  2],\n",
       "       [ 0, 22,  9],\n",
       "       [ 0, 28,  5],\n",
       "       [ 1, 66,  5],\n",
       "       [ 0, 41,  1],\n",
       "       [ 0, 23,  9],\n",
       "       [ 0, 34,  4],\n",
       "       [ 0, 39,  0],\n",
       "       [ 0, 20,  9],\n",
       "       [ 1, 27,  5],\n",
       "       [ 1, 27,  4],\n",
       "       [ 0, 39,  4],\n",
       "       [ 0, 36,  0],\n",
       "       [ 0, 40,  3],\n",
       "       [ 0, 31,  4],\n",
       "       [ 1, 41,  4],\n",
       "       [ 1, 25,  1],\n",
       "       [ 0, 24, 12],\n",
       "       [ 1, 46,  8],\n",
       "       [ 0, 21,  9],\n",
       "       [ 0, 33,  6],\n",
       "       [ 0, 30,  4],\n",
       "       [ 0, 26,  4],\n",
       "       [ 1, 27,  4],\n",
       "       [ 0, 36, 13],\n",
       "       [ 1, 42,  4],\n",
       "       [ 1, 28,  4],\n",
       "       [ 1, 19,  9],\n",
       "       [ 0, 38,  5],\n",
       "       [ 1, 33, 11],\n",
       "       [ 1, 36,  7],\n",
       "       [ 0, 22,  9],\n",
       "       [ 1, 28,  0],\n",
       "       [ 0, 27,  7],\n",
       "       [ 0, 33, 12],\n",
       "       [ 1, 31,  7],\n",
       "       [ 1, 27,  4],\n",
       "       [ 0, 36, 11],\n",
       "       [ 1, 23, 12],\n",
       "       [ 1, 41,  4],\n",
       "       [ 1, 22,  9],\n",
       "       [ 0, 39,  3],\n",
       "       [ 0, 28,  4],\n",
       "       [ 1, 27,  3],\n",
       "       [ 1, 30,  4],\n",
       "       [ 0, 36,  4],\n",
       "       [ 0, 25,  1],\n",
       "       [ 1, 26,  9],\n",
       "       [ 1, 52,  7],\n",
       "       [ 1, 30,  5],\n",
       "       [ 1, 29, 14],\n",
       "       [ 1, 25, 15],\n",
       "       [ 1, 26,  4],\n",
       "       [ 1, 32,  5],\n",
       "       [ 1, 69,  2],\n",
       "       [ 1, 28,  2],\n",
       "       [ 1, 25, 12],\n",
       "       [ 1, 32, 15],\n",
       "       [ 1, 30,  6],\n",
       "       [ 1, 28,  5],\n",
       "       [ 0, 19, 15],\n",
       "       [ 1, 27,  4],\n",
       "       [ 0, 51,  9],\n",
       "       [ 0, 27,  1],\n",
       "       [ 0, 25,  1],\n",
       "       [ 1, 36,  4],\n",
       "       [ 1, 21,  0],\n",
       "       [ 0, 44,  4],\n",
       "       [ 1, 28,  1],\n",
       "       [ 1, 27,  4],\n",
       "       [ 1, 36,  3],\n",
       "       [ 1, 29,  1],\n",
       "       [ 0, 49,  2],\n",
       "       [ 0, 22,  9],\n",
       "       [ 1, 30,  5],\n",
       "       [ 0, 24,  1],\n",
       "       [ 1, 28,  5],\n",
       "       [ 1, 26,  5],\n",
       "       [ 1, 24,  2],\n",
       "       [ 0, 22,  1],\n",
       "       [ 0, 53, 15],\n",
       "       [ 1, 25, 15],\n",
       "       [ 0, 33,  4],\n",
       "       [ 0, 37,  2],\n",
       "       [ 1, 29,  1],\n",
       "       [ 0, 41, 13],\n",
       "       [ 0, 38,  4],\n",
       "       [ 1, 31,  5],\n",
       "       [ 0, 25,  8],\n",
       "       [ 0, 28,  8],\n",
       "       [ 1, 35,  6],\n",
       "       [ 1, 32,  8]], dtype=int64)"
      ]
     },
     "execution_count": 266,
     "metadata": {},
     "output_type": "execute_result"
    }
   ],
   "source": [
    "# select the input features for the classification algorithms\n",
    "X = data.iloc[:,[data.columns.get_loc('Sex_cat'),1,data.columns.get_loc('Income_cat')]].values\n",
    "X"
   ]
  },
  {
   "cell_type": "code",
   "execution_count": 223,
   "metadata": {
    "scrolled": false
   },
   "outputs": [
    {
     "data": {
      "text/plain": [
       "array(['no', 'no', 'no', 'yes', 'no', 'no', 'yes', 'no', 'no', 'no', 'no',\n",
       "       'no', 'yes', 'no', 'no', 'no', 'yes', 'no', 'yes', 'no', 'no',\n",
       "       'no', 'yes', 'yes', 'no', 'no', 'no', 'no', 'no', 'no', 'yes',\n",
       "       'no', 'no', 'yes', 'yes', 'yes', 'no', 'yes', 'yes', 'no', 'yes',\n",
       "       'yes', 'no', 'no', 'no', 'no', 'no', 'no', 'yes', 'yes', 'yes',\n",
       "       'yes', 'no', 'yes', 'yes', 'no', 'yes', 'no', 'yes', 'no', 'no',\n",
       "       'no', 'yes', 'no', 'no', 'no', 'no', 'no', 'no', 'no', 'yes', 'no',\n",
       "       'yes', 'yes', 'yes', 'no', 'no', 'no', 'no', 'yes', 'no', 'yes',\n",
       "       'no', 'no', 'yes', 'yes', 'no', 'no', 'yes', 'no', 'yes', 'yes',\n",
       "       'yes', 'yes', 'no', 'no', 'yes', 'no', 'no', 'no', 'no', 'yes',\n",
       "       'no', 'no', 'yes', 'yes', 'no', 'no', 'yes', 'no', 'no', 'yes',\n",
       "       'no', 'no', 'no', 'no', 'no', 'no', 'no', 'no', 'no', 'no', 'yes',\n",
       "       'no', 'yes', 'yes', 'yes', 'no', 'no', 'yes'], dtype=object)"
      ]
     },
     "execution_count": 223,
     "metadata": {},
     "output_type": "execute_result"
    }
   ],
   "source": [
    "# select the target attribute for the classification algorithms\n",
    "y = data.loc[:,target_label].values\n",
    "y"
   ]
  },
  {
   "cell_type": "markdown",
   "metadata": {},
   "source": [
    "### 3.2 Datapreprocessing"
   ]
  },
  {
   "cell_type": "code",
   "execution_count": 202,
   "metadata": {},
   "outputs": [
    {
     "name": "stdout",
     "output_type": "stream",
     "text": [
      "X has now the values:  [[1 28 1]\n",
      " [1 56 10]\n",
      " [1 28 1]\n",
      " [1 29 4]\n",
      " [1 29 4]\n",
      " [0 32 6]\n",
      " [0 26 1]\n",
      " [0 22 1]\n",
      " [1 22 12]\n",
      " [0 49 1]\n",
      " [1 45 8]\n",
      " [1 30 4]\n",
      " [0 28 15]\n",
      " [0 31 4]\n",
      " [0 29 4]\n",
      " [1 28 1]\n",
      " [0 47 1]\n",
      " [1 27 12]\n",
      " [0 24 2]\n",
      " [1 47 3]\n",
      " [1 49 6]\n",
      " [1 24 12]\n",
      " [0 19 9]\n",
      " [0 22 4]\n",
      " [0 26 15]\n",
      " [1 36 2]\n",
      " [0 40 9]\n",
      " [1 49 8]\n",
      " [1 22 0]\n",
      " [0 23 15]\n",
      " [0 25 3]\n",
      " [0 27 6]\n",
      " [0 41 5]\n",
      " [0 26 15]\n",
      " [1 43 4]\n",
      " [0 34 2]\n",
      " [0 18 12]\n",
      " [1 42 6]\n",
      " [1 29 2]\n",
      " [0 22 9]\n",
      " [0 28 5]\n",
      " [1 66 5]\n",
      " [0 41 1]\n",
      " [0 23 9]\n",
      " [0 34 4]\n",
      " [0 39 0]\n",
      " [0 20 9]\n",
      " [1 27 5]\n",
      " [1 27 4]\n",
      " [0 39 4]\n",
      " [0 36 0]\n",
      " [0 40 3]\n",
      " [0 31 4]\n",
      " [1 41 4]\n",
      " [1 25 1]\n",
      " [0 24 12]\n",
      " [1 46 8]\n",
      " [0 21 9]\n",
      " [0 33 6]\n",
      " [0 30 4]\n",
      " [0 26 4]\n",
      " [1 27 4]\n",
      " [0 36 13]\n",
      " [1 42 4]\n",
      " [1 28 4]\n",
      " [1 19 9]\n",
      " [0 38 5]\n",
      " [1 33 11]\n",
      " [1 36 7]\n",
      " [0 22 9]\n",
      " [1 28 0]\n",
      " [0 27 7]\n",
      " [0 33 12]\n",
      " [1 31 7]\n",
      " [1 27 4]\n",
      " [0 36 11]\n",
      " [1 23 12]\n",
      " [1 41 4]\n",
      " [1 22 9]\n",
      " [0 39 3]\n",
      " [0 28 4]\n",
      " [1 27 3]\n",
      " [1 30 4]\n",
      " [0 36 4]\n",
      " [0 25 1]\n",
      " [1 26 9]\n",
      " [1 52 7]\n",
      " [1 30 5]\n",
      " [1 29 14]\n",
      " [1 25 15]\n",
      " [1 26 4]\n",
      " [1 32 5]\n",
      " [1 69 2]\n",
      " [1 28 2]\n",
      " [1 25 12]\n",
      " [1 32 15]\n",
      " [1 30 6]\n",
      " [1 28 5]\n",
      " [0 19 15]\n",
      " [1 27 4]\n",
      " [0 51 9]\n",
      " [0 27 1]\n",
      " [0 25 1]\n",
      " [1 36 4]\n",
      " [1 21 0]\n",
      " [0 44 4]\n",
      " [1 28 1]\n",
      " [1 27 4]\n",
      " [1 36 3]\n",
      " [1 29 1]\n",
      " [0 49 2]\n",
      " [0 22 9]\n",
      " [1 30 5]\n",
      " [0 24 1]\n",
      " [1 28 5]\n",
      " [1 26 5]\n",
      " [1 24 2]\n",
      " [0 22 1]\n",
      " [0 53 15]\n",
      " [1 25 15]\n",
      " [0 33 4]\n",
      " [0 37 2]\n",
      " [1 29 1]\n",
      " [0 41 13]\n",
      " [0 38 4]\n",
      " [1 31 5]\n",
      " [0 25 8]\n",
      " [0 28 8]\n",
      " [1 35 6]\n",
      " [1 32 8]]\n",
      "\n",
      "\n",
      "y has now the values:  [0 0 0 1 0 0 1 0 0 0 0 0 1 0 0 0 1 0 1 0 0 0 1 1 0 0 0 0 0 0 1 0 0 1 1 1 0\n",
      " 1 1 0 1 1 0 0 0 0 0 0 1 1 1 1 0 1 1 0 1 0 1 0 0 0 1 0 0 0 0 0 0 0 1 0 1 1\n",
      " 1 0 0 0 0 1 0 1 0 0 1 1 0 0 1 0 1 1 1 1 0 0 1 0 0 0 0 1 0 0 1 1 0 0 1 0 0\n",
      " 1 0 0 0 0 0 0 0 0 0 0 1 0 1 1 1 0 0 1]\n"
     ]
    }
   ],
   "source": [
    "# import librariers to preprocess data\n",
    "from sklearn.preprocessing import LabelEncoder,OneHotEncoder\n",
    "\n",
    "## encode categorical to numerical values\n",
    "\n",
    "# get a encoder object\n",
    "labelencoder_X = LabelEncoder()\n",
    "\n",
    "# encode sex --> female = 0, male = 1\n",
    "X[:,0] = labelencoder_X.fit_transform(X[:,0])\n",
    "\n",
    "# encode net income --> each category is assigned a unique number from 0 to 15 = 16 categories\n",
    "X[:,2] = labelencoder_X.fit_transform(X[:,2])\n",
    "print('X has now the values: ', X)\n",
    "print ('\\n')\n",
    "\n",
    "# encode 'yes' and 'no' to 1 and 0\n",
    "labelencoder_y = LabelEncoder()\n",
    "y = labelencoder_y.fit_transform(y)\n",
    "print('y has now the values: ',y)\n",
    "\n"
   ]
  },
  {
   "cell_type": "code",
   "execution_count": 208,
   "metadata": {},
   "outputs": [
    {
     "data": {
      "text/plain": [
       "array([1, 10, 1, 4, 4, 6, 1, 1, 12, 1, 8, 4, 15, 4, 4, 1, 1, 12, 2, 3, 6,\n",
       "       12, 9, 4, 15, 2, 9, 8, 0, 15, 3, 6, 5, 15, 4, 2, 12, 6, 2, 9, 5, 5,\n",
       "       1, 9, 4, 0, 9, 5, 4, 4, 0, 3, 4, 4, 1, 12, 8, 9, 6, 4, 4, 4, 13, 4,\n",
       "       4, 9, 5, 11, 7, 9, 0, 7, 12, 7, 4, 11, 12, 4, 9, 3, 4, 3, 4, 4, 1,\n",
       "       9, 7, 5, 14, 15, 4, 5, 2, 2, 12, 15, 6, 5, 15, 4, 9, 1, 1, 4, 0, 4,\n",
       "       1, 4, 3, 1, 2, 9, 5, 1, 5, 5, 2, 1, 15, 15, 4, 2, 1, 13, 4, 5, 8,\n",
       "       8, 6, 8], dtype=object)"
      ]
     },
     "execution_count": 208,
     "metadata": {},
     "output_type": "execute_result"
    }
   ],
   "source": [
    "X[:,2]"
   ]
  },
  {
   "cell_type": "code",
   "execution_count": null,
   "metadata": {},
   "outputs": [],
   "source": []
  },
  {
   "cell_type": "code",
   "execution_count": null,
   "metadata": {},
   "outputs": [],
   "source": [
    "# normalize the net income attribute to a corresponding 1 x 16 matrix (16 categories, i.e. 16 dummy variables)\n",
    "onehotencoder = OneHotEncoder(categorical_features=[2])\n",
    "\n",
    "print(onehotencoder)\n",
    "X = onehotencoder.fit_transform(X).toarray()\n",
    "print('Normalized X values:', X)"
   ]
  },
  {
   "cell_type": "markdown",
   "metadata": {},
   "source": [
    "### 3.3 Split the data into train and test data"
   ]
  },
  {
   "cell_type": "code",
   "execution_count": 143,
   "metadata": {},
   "outputs": [],
   "source": [
    "# import library for data split\n",
    "from sklearn.model_selection import train_test_split\n",
    "\n",
    "# split the data assign to variables respectively\n",
    "X_train, X_test, y_train, y_test = train_test_split(X, y, test_size=0.3, random_state=random_state)"
   ]
  },
  {
   "cell_type": "code",
   "execution_count": 144,
   "metadata": {},
   "outputs": [
    {
     "data": {
      "text/plain": [
       "array([0, 1, 0, 0, 0, 1, 0, 1, 1, 0, 0, 0, 0, 0, 0, 0, 0, 0, 1, 1, 1, 0,\n",
       "       0, 0, 1, 0, 1, 0, 0, 0, 1, 0, 1, 0, 0, 0, 0, 0, 0], dtype=int64)"
      ]
     },
     "execution_count": 144,
     "metadata": {},
     "output_type": "execute_result"
    }
   ],
   "source": [
    "y_test"
   ]
  },
  {
   "cell_type": "markdown",
   "metadata": {},
   "source": [
    "## 4. Implement machine learning models"
   ]
  },
  {
   "cell_type": "markdown",
   "metadata": {},
   "source": [
    "### 4.1 Import necessary libraries"
   ]
  },
  {
   "cell_type": "code",
   "execution_count": 145,
   "metadata": {},
   "outputs": [],
   "source": [
    "# import labriers for classification algorithms\n",
    "from sklearn.naive_bayes import GaussianNB\n",
    "from sklearn.svm import SVC\n",
    "from sklearn.tree import DecisionTreeClassifier\n",
    "from sklearn.neighbors import KNeighborsClassifier\n",
    "\n",
    "# import grid search library\n",
    "from sklearn.model_selection import GridSearchCV\n",
    "\n",
    "# import own helper functions\n",
    "# the functions receive variables to compute predictions, confusion matrices, accuracies and probabilities\n",
    "import helpers as hp"
   ]
  },
  {
   "cell_type": "markdown",
   "metadata": {},
   "source": [
    "### 4.2 Find the best hyperparamters for each classifier"
   ]
  },
  {
   "cell_type": "code",
   "execution_count": 146,
   "metadata": {},
   "outputs": [],
   "source": [
    "# define paramater grids for each classifier (naive_bayes has no hyperparamter to tune, so no grid search is possible)\n",
    "svm_param_grid = {'C': [0.1,1, 10, 100], 'gamma': [1,0.1,0.01,0.001]} \n",
    "kn_param_grid = { 'n_neighbors' : [2,3,4,5,6] , 'weights' : ['uniform', 'distance'], \n",
    "                 'algorithm' : ['auto', 'ball_tree', 'kd_tree', 'brute'], 'leaf_size' : [30,40,50,60,70], 'p': [1,2]  }\n",
    "tree_param_grid = { 'criterion': ['entropy', 'gini'], 'max_depth' : [3,4,5,6], 'min_samples_leaf': [1,2,3,4]}\n",
    "\n",
    "# apply the grid search to find best parameters and get the objects of each classifier\n",
    "svm = GridSearchCV(SVC(probability=True), svm_param_grid, refit=True)\n",
    "kn = GridSearchCV(KNeighborsClassifier(), kn_param_grid, refit=True)\n",
    "tree = GridSearchCV(DecisionTreeClassifier(), tree_param_grid, refit=True)\n",
    "naive_bayes = GaussianNB()"
   ]
  },
  {
   "cell_type": "markdown",
   "metadata": {},
   "source": [
    "### 4.3 Build the classifiers and run them"
   ]
  },
  {
   "cell_type": "code",
   "execution_count": 147,
   "metadata": {},
   "outputs": [],
   "source": [
    "# define a class of a model with corresponding methods\n",
    "class Model:\n",
    "    \n",
    "    # initilizes the clas with a name and an optimized classifier object from the grid search\n",
    "    # passes the necessary data splits\n",
    "    def __init__(self, name, classifier,X_train, y_train, X_test, y_test):\n",
    "        self.name = name\n",
    "        self.classifier = classifier\n",
    "        self.predictions = []\n",
    "        self.confusionMatrix = pd.DataFrame()\n",
    "        self.accuracy= 0\n",
    "        self.probabilities = []\n",
    "    \n",
    "    # compute the predictions for test data after training\n",
    "    def addPrediction(self):\n",
    "        self.predictions = hp.computePrediction(self.classifier, X_train, y_train, X_test)\n",
    "    \n",
    "    # build a confusion matrix\n",
    "    def addConfusionMatrix(self):      \n",
    "        self.confusionMatrix = hp.computeConfusionMatrix(y_test, self.predictions)\n",
    "    \n",
    "    # compute the accuracy\n",
    "    def addAccuracy(self):\n",
    "        self.accuracy=hp.computeAccuracy(y_test, self.predictions)\n",
    "    \n",
    "    # compute the pobrabilities for each predidiction which is necessary for the upcoming visualization section\n",
    "    def addProbabilities(self):\n",
    "        self.probabilities = hp.computeProbability(self.classifier, X_train, y_train, X_test)\n",
    "        \n",
    "            "
   ]
  },
  {
   "cell_type": "code",
   "execution_count": 148,
   "metadata": {},
   "outputs": [],
   "source": [
    "# initilizes two arrays, one with the names of the classifiers, the other contains the objects\n",
    "classifier_names = ['SVM', 'KNN', 'DT', 'NB']\n",
    "classifier_objects = [svm, kn, tree, naive_bayes]"
   ]
  },
  {
   "cell_type": "code",
   "execution_count": 149,
   "metadata": {},
   "outputs": [],
   "source": [
    "# build and run the models and compute all values\n",
    "SVM = Model('SVM', svm, X_train, y_train, X_test, y_test)\n",
    "KNN = Model('KNN', kn, X_train, y_train, X_test, y_test)\n",
    "DT = Model('DT', tree, X_train, y_train, X_test, y_test)\n",
    "NB = Model('NB', naive_bayes, X_train, y_train, X_test, y_test)\n"
   ]
  },
  {
   "cell_type": "code",
   "execution_count": 150,
   "metadata": {},
   "outputs": [],
   "source": [
    "# create a list of machine learning models for iteration\n",
    "classifiers = [SVM, KNN, DT, NB]\n",
    "\n",
    "# iterate over all classifiers and add predictions, a confustion matrix, the accuracy score \n",
    "# and the probabilities of the predictioins\n",
    "for clf in classifiers:\n",
    "    clf.addPrediction()\n",
    "    clf.addConfusionMatrix()\n",
    "    clf.addAccuracy()\n",
    "    clf.addProbabilities()"
   ]
  },
  {
   "cell_type": "code",
   "execution_count": 151,
   "metadata": {
    "scrolled": true
   },
   "outputs": [
    {
     "data": {
      "text/html": [
       "<div>\n",
       "<style scoped>\n",
       "    .dataframe tbody tr th:only-of-type {\n",
       "        vertical-align: middle;\n",
       "    }\n",
       "\n",
       "    .dataframe tbody tr th {\n",
       "        vertical-align: top;\n",
       "    }\n",
       "\n",
       "    .dataframe thead th {\n",
       "        text-align: right;\n",
       "    }\n",
       "</style>\n",
       "<table border=\"1\" class=\"dataframe\">\n",
       "  <thead>\n",
       "    <tr style=\"text-align: right;\">\n",
       "      <th></th>\n",
       "      <th>Accuracy</th>\n",
       "      <th>Predictions</th>\n",
       "      <th>Confusion Matrix</th>\n",
       "      <th>Probabilities</th>\n",
       "    </tr>\n",
       "  </thead>\n",
       "  <tbody>\n",
       "    <tr>\n",
       "      <th>SVM</th>\n",
       "      <td>0.717949</td>\n",
       "      <td>[0, 0, 0, 0, 0, 0, 0, 0, 0, 0, 0, 0, 0, 0, 0, ...</td>\n",
       "      <td>no  yes\n",
       "no   28    0\n",
       "yes  11    0</td>\n",
       "      <td>[[0.5742682874595942, 0.4257317125404058], [0....</td>\n",
       "    </tr>\n",
       "    <tr>\n",
       "      <th>KNN</th>\n",
       "      <td>0.692308</td>\n",
       "      <td>[0, 0, 0, 0, 1, 0, 0, 1, 0, 1, 1, 0, 0, 0, 0, ...</td>\n",
       "      <td>no  yes\n",
       "no   23    5\n",
       "yes   7    4</td>\n",
       "      <td>[[1.0, 0.0], [0.8333333333333334, 0.1666666666...</td>\n",
       "    </tr>\n",
       "    <tr>\n",
       "      <th>DT</th>\n",
       "      <td>0.74359</td>\n",
       "      <td>[0, 0, 1, 0, 0, 0, 0, 0, 1, 0, 0, 0, 0, 0, 0, ...</td>\n",
       "      <td>no  yes\n",
       "no   27    1\n",
       "yes   9    2</td>\n",
       "      <td>[[0.6, 0.4], [0.6, 0.4], [0.0, 1.0], [0.6, 0.4...</td>\n",
       "    </tr>\n",
       "    <tr>\n",
       "      <th>NB</th>\n",
       "      <td>0.74359</td>\n",
       "      <td>[0, 0, 1, 1, 0, 1, 0, 0, 1, 0, 0, 1, 0, 0, 0, ...</td>\n",
       "      <td>no  yes\n",
       "no   23    5\n",
       "yes   5    6</td>\n",
       "      <td>[[0.9999994415386674, 5.58461332150723e-07], [...</td>\n",
       "    </tr>\n",
       "  </tbody>\n",
       "</table>\n",
       "</div>"
      ],
      "text/plain": [
       "     Accuracy                                        Predictions  \\\n",
       "SVM  0.717949  [0, 0, 0, 0, 0, 0, 0, 0, 0, 0, 0, 0, 0, 0, 0, ...   \n",
       "KNN  0.692308  [0, 0, 0, 0, 1, 0, 0, 1, 0, 1, 1, 0, 0, 0, 0, ...   \n",
       "DT    0.74359  [0, 0, 1, 0, 0, 0, 0, 0, 1, 0, 0, 0, 0, 0, 0, ...   \n",
       "NB    0.74359  [0, 0, 1, 1, 0, 1, 0, 0, 1, 0, 0, 1, 0, 0, 0, ...   \n",
       "\n",
       "                           Confusion Matrix  \\\n",
       "SVM       no  yes\n",
       "no   28    0\n",
       "yes  11    0   \n",
       "KNN       no  yes\n",
       "no   23    5\n",
       "yes   7    4   \n",
       "DT        no  yes\n",
       "no   27    1\n",
       "yes   9    2   \n",
       "NB        no  yes\n",
       "no   23    5\n",
       "yes   5    6   \n",
       "\n",
       "                                         Probabilities  \n",
       "SVM  [[0.5742682874595942, 0.4257317125404058], [0....  \n",
       "KNN  [[1.0, 0.0], [0.8333333333333334, 0.1666666666...  \n",
       "DT   [[0.6, 0.4], [0.6, 0.4], [0.0, 1.0], [0.6, 0.4...  \n",
       "NB   [[0.9999994415386674, 5.58461332150723e-07], [...  "
      ]
     },
     "execution_count": 151,
     "metadata": {},
     "output_type": "execute_result"
    }
   ],
   "source": [
    "# define a dataframe\n",
    "classifierResults=pd.DataFrame(index=classifier_names,\n",
    "                               columns=['Accuracy', 'Predictions','Confusion Matrix', 'Probabilities'])\n",
    "\n",
    "# print the results of the classifiers\n",
    "for index,clf in enumerate(classifiers):\n",
    "    classifierResults['Accuracy'][index] = clf.accuracy\n",
    "    classifierResults['Predictions'][index]= clf.predictions\n",
    "    classifierResults['Confusion Matrix'][index]=clf.confusionMatrix\n",
    "    classifierResults['Probabilities'][index]=clf.probabilities\n",
    "   \n",
    "classifierResults"
   ]
  },
  {
   "cell_type": "markdown",
   "metadata": {},
   "source": [
    "## 5. Implement deep learning model"
   ]
  },
  {
   "cell_type": "code",
   "execution_count": 152,
   "metadata": {},
   "outputs": [],
   "source": [
    "# import the deep learning library\n",
    "import tensorflow as tf"
   ]
  },
  {
   "cell_type": "markdown",
   "metadata": {},
   "source": [
    "### 5.1 Check the data and preprocess it"
   ]
  },
  {
   "cell_type": "code",
   "execution_count": 153,
   "metadata": {
    "scrolled": true
   },
   "outputs": [
    {
     "data": {
      "text/html": [
       "<div>\n",
       "<style scoped>\n",
       "    .dataframe tbody tr th:only-of-type {\n",
       "        vertical-align: middle;\n",
       "    }\n",
       "\n",
       "    .dataframe tbody tr th {\n",
       "        vertical-align: top;\n",
       "    }\n",
       "\n",
       "    .dataframe thead th {\n",
       "        text-align: right;\n",
       "    }\n",
       "</style>\n",
       "<table border=\"1\" class=\"dataframe\">\n",
       "  <thead>\n",
       "    <tr style=\"text-align: right;\">\n",
       "      <th></th>\n",
       "      <th>Sex</th>\n",
       "      <th>Age</th>\n",
       "      <th>Net income</th>\n",
       "      <th>Creditcard ownership</th>\n",
       "      <th>Amount of financial products</th>\n",
       "      <th>Stocks</th>\n",
       "      <th>Investment fonds</th>\n",
       "      <th>Bond issues</th>\n",
       "      <th>Savings certificate</th>\n",
       "      <th>Giro account</th>\n",
       "      <th>Day-to-day money account</th>\n",
       "      <th>Credit card</th>\n",
       "      <th>Fixed deposit account</th>\n",
       "      <th>Life insurance</th>\n",
       "      <th>Riester pension</th>\n",
       "      <th>Housing saving</th>\n",
       "    </tr>\n",
       "  </thead>\n",
       "  <tbody>\n",
       "    <tr>\n",
       "      <th>0</th>\n",
       "      <td>male</td>\n",
       "      <td>28</td>\n",
       "      <td>1250-1499 €</td>\n",
       "      <td>yes</td>\n",
       "      <td>3</td>\n",
       "      <td>no</td>\n",
       "      <td>no</td>\n",
       "      <td>no</td>\n",
       "      <td>no</td>\n",
       "      <td>yes</td>\n",
       "      <td>yes</td>\n",
       "      <td>yes</td>\n",
       "      <td>no</td>\n",
       "      <td>no</td>\n",
       "      <td>no</td>\n",
       "      <td>no</td>\n",
       "    </tr>\n",
       "    <tr>\n",
       "      <th>1</th>\n",
       "      <td>male</td>\n",
       "      <td>56</td>\n",
       "      <td>5000-5999 €</td>\n",
       "      <td>yes</td>\n",
       "      <td>1</td>\n",
       "      <td>no</td>\n",
       "      <td>no</td>\n",
       "      <td>no</td>\n",
       "      <td>no</td>\n",
       "      <td>no</td>\n",
       "      <td>no</td>\n",
       "      <td>yes</td>\n",
       "      <td>no</td>\n",
       "      <td>no</td>\n",
       "      <td>no</td>\n",
       "      <td>no</td>\n",
       "    </tr>\n",
       "    <tr>\n",
       "      <th>2</th>\n",
       "      <td>male</td>\n",
       "      <td>28</td>\n",
       "      <td>1250-1499 €</td>\n",
       "      <td>yes</td>\n",
       "      <td>3</td>\n",
       "      <td>no</td>\n",
       "      <td>no</td>\n",
       "      <td>no</td>\n",
       "      <td>no</td>\n",
       "      <td>yes</td>\n",
       "      <td>yes</td>\n",
       "      <td>yes</td>\n",
       "      <td>no</td>\n",
       "      <td>no</td>\n",
       "      <td>no</td>\n",
       "      <td>no</td>\n",
       "    </tr>\n",
       "    <tr>\n",
       "      <th>3</th>\n",
       "      <td>male</td>\n",
       "      <td>29</td>\n",
       "      <td>2000-2499 €</td>\n",
       "      <td>yes</td>\n",
       "      <td>3</td>\n",
       "      <td>no</td>\n",
       "      <td>no</td>\n",
       "      <td>no</td>\n",
       "      <td>no</td>\n",
       "      <td>yes</td>\n",
       "      <td>no</td>\n",
       "      <td>yes</td>\n",
       "      <td>no</td>\n",
       "      <td>no</td>\n",
       "      <td>no</td>\n",
       "      <td>yes</td>\n",
       "    </tr>\n",
       "    <tr>\n",
       "      <th>4</th>\n",
       "      <td>male</td>\n",
       "      <td>29</td>\n",
       "      <td>2000-2499 €</td>\n",
       "      <td>yes</td>\n",
       "      <td>2</td>\n",
       "      <td>no</td>\n",
       "      <td>no</td>\n",
       "      <td>no</td>\n",
       "      <td>no</td>\n",
       "      <td>yes</td>\n",
       "      <td>no</td>\n",
       "      <td>yes</td>\n",
       "      <td>no</td>\n",
       "      <td>no</td>\n",
       "      <td>no</td>\n",
       "      <td>no</td>\n",
       "    </tr>\n",
       "  </tbody>\n",
       "</table>\n",
       "</div>"
      ],
      "text/plain": [
       "    Sex  Age   Net income Creditcard ownership  Amount of financial products  \\\n",
       "0  male   28  1250-1499 €                  yes                             3   \n",
       "1  male   56  5000-5999 €                  yes                             1   \n",
       "2  male   28  1250-1499 €                  yes                             3   \n",
       "3  male   29  2000-2499 €                  yes                             3   \n",
       "4  male   29  2000-2499 €                  yes                             2   \n",
       "\n",
       "  Stocks Investment fonds Bond issues Savings certificate Giro account  \\\n",
       "0     no               no          no                  no          yes   \n",
       "1     no               no          no                  no           no   \n",
       "2     no               no          no                  no          yes   \n",
       "3     no               no          no                  no          yes   \n",
       "4     no               no          no                  no          yes   \n",
       "\n",
       "  Day-to-day money account Credit card Fixed deposit account Life insurance  \\\n",
       "0                      yes         yes                    no             no   \n",
       "1                       no         yes                    no             no   \n",
       "2                      yes         yes                    no             no   \n",
       "3                       no         yes                    no             no   \n",
       "4                       no         yes                    no             no   \n",
       "\n",
       "  Riester pension Housing saving  \n",
       "0              no             no  \n",
       "1              no             no  \n",
       "2              no             no  \n",
       "3              no            yes  \n",
       "4              no             no  "
      ]
     },
     "execution_count": 153,
     "metadata": {},
     "output_type": "execute_result"
    }
   ],
   "source": [
    "# show the first five rows of the data\n",
    "data.head()"
   ]
  },
  {
   "cell_type": "code",
   "execution_count": 154,
   "metadata": {
    "scrolled": true
   },
   "outputs": [],
   "source": [
    "# create input data\n",
    "X_tf = pd.DataFrame(data.loc[:,['Sex','Age','Net income']], columns={'Sex': 'Sex', 'Age': 'Age', 'Net income': 'Income'})\n",
    "\n",
    "# net income must be renamend to income since Tensorflow has problems with handling spaces between two strings\n",
    "X_tf = X_tf.rename(columns={'Net income': 'Income'})"
   ]
  },
  {
   "cell_type": "code",
   "execution_count": 155,
   "metadata": {
    "scrolled": true
   },
   "outputs": [],
   "source": [
    "# remove target attribute from the column names\n",
    "input_features = data.columns.delete(data.columns.get_loc(target_label))"
   ]
  },
  {
   "cell_type": "code",
   "execution_count": 156,
   "metadata": {
    "scrolled": true
   },
   "outputs": [
    {
     "data": {
      "text/plain": [
       "array([0, 0, 0, 1, 0, 0, 1, 0, 0, 0, 0, 0, 1, 0, 0, 0, 1, 0, 1, 0, 0, 0,\n",
       "       1, 1, 0, 0, 0, 0, 0, 0, 1, 0, 0, 1, 1, 1, 0, 1, 1, 0, 1, 1, 0, 0,\n",
       "       0, 0, 0, 0, 1, 1, 1, 1, 0, 1, 1, 0, 1, 0, 1, 0, 0, 0, 1, 0, 0, 0,\n",
       "       0, 0, 0, 0, 1, 0, 1, 1, 1, 0, 0, 0, 0, 1, 0, 1, 0, 0, 1, 1, 0, 0,\n",
       "       1, 0, 1, 1, 1, 1, 0, 0, 1, 0, 0, 0, 0, 1, 0, 0, 1, 1, 0, 0, 1, 0,\n",
       "       0, 1, 0, 0, 0, 0, 0, 0, 0, 0, 0, 0, 1, 0, 1, 1, 1, 0, 0, 1],\n",
       "      dtype=int64)"
      ]
     },
     "execution_count": 156,
     "metadata": {},
     "output_type": "execute_result"
    }
   ],
   "source": [
    "# drop features except target label from the dataframe\n",
    "y_tf = data.drop(input_features, axis=1)\n",
    "y"
   ]
  },
  {
   "cell_type": "code",
   "execution_count": 157,
   "metadata": {},
   "outputs": [],
   "source": [
    "## encode categorical to binary values\n",
    "\n",
    "# import the preprocessing libray\n",
    "from sklearn.preprocessing import LabelEncoder\n",
    "\n",
    "# encode 'no' and 'yes' to 0 respectively 1\n",
    "labelencoder = LabelEncoder()\n",
    "y_tf[target_label]=labelencoder.fit_transform(y_tf[target_label])"
   ]
  },
  {
   "cell_type": "code",
   "execution_count": 158,
   "metadata": {},
   "outputs": [],
   "source": [
    "# split the dataframe objects into train and test data\n",
    "X_train_tf, X_test_tf, y_train_tf, y_test_tf = train_test_split(X_tf, y_tf, test_size=0.3, random_state=random_state)"
   ]
  },
  {
   "cell_type": "code",
   "execution_count": 159,
   "metadata": {},
   "outputs": [],
   "source": [
    "# transform feature column into a tensor\n",
    "sex = tf.feature_column.categorical_column_with_vocabulary_list('Sex', vocabulary_list=['Male', 'Female'] )\n",
    "\n",
    "# apply embedding to make the column suitable for the DNNClassifier\n",
    "embedded_group_sex = tf.feature_column.embedding_column(sex, dimension=2)"
   ]
  },
  {
   "cell_type": "code",
   "execution_count": 160,
   "metadata": {},
   "outputs": [],
   "source": [
    "# transform feature column into a tensor\n",
    "age = tf.feature_column.numeric_column('Age')"
   ]
  },
  {
   "cell_type": "code",
   "execution_count": 161,
   "metadata": {},
   "outputs": [],
   "source": [
    "# transform feature column into a tensor\n",
    "income = tf.feature_column.categorical_column_with_hash_bucket('Income', hash_bucket_size=16)\n",
    "\n",
    "# apply embedding to make the column suitable for the DNNClassifier\n",
    "embedded_group_income = tf.feature_column.embedding_column(income, dimension=16)"
   ]
  },
  {
   "cell_type": "code",
   "execution_count": 162,
   "metadata": {},
   "outputs": [],
   "source": [
    "# define the feature column set --> 3 neurons for the input layer\n",
    "feat_columns = [embedded_group_sex,age,embedded_group_income]"
   ]
  },
  {
   "cell_type": "code",
   "execution_count": 163,
   "metadata": {},
   "outputs": [],
   "source": [
    "# define the input function\n",
    "input_func = tf.estimator.inputs.pandas_input_fn(x=X_train_tf, y=y_train_tf, batch_size=25, num_epochs=None, shuffle=True )"
   ]
  },
  {
   "cell_type": "markdown",
   "metadata": {},
   "source": [
    "### 5.2 Apply a deep neuronal network classifier"
   ]
  },
  {
   "cell_type": "code",
   "execution_count": 164,
   "metadata": {},
   "outputs": [
    {
     "name": "stdout",
     "output_type": "stream",
     "text": [
      "INFO:tensorflow:Using default config.\n",
      "WARNING:tensorflow:Using temporary folder as model directory: C:\\Users\\OLIVER~1.GOE\\AppData\\Local\\Temp\\tmp9anoyw4u\n",
      "INFO:tensorflow:Using config: {'_model_dir': 'C:\\\\Users\\\\OLIVER~1.GOE\\\\AppData\\\\Local\\\\Temp\\\\tmp9anoyw4u', '_tf_random_seed': None, '_save_summary_steps': 100, '_save_checkpoints_steps': None, '_save_checkpoints_secs': 600, '_session_config': None, '_keep_checkpoint_max': 5, '_keep_checkpoint_every_n_hours': 10000, '_log_step_count_steps': 100, '_service': None, '_cluster_spec': <tensorflow.python.training.server_lib.ClusterSpec object at 0x0000024F59BEEC18>, '_task_type': 'worker', '_task_id': 0, '_global_id_in_cluster': 0, '_master': '', '_evaluation_master': '', '_is_chief': True, '_num_ps_replicas': 0, '_num_worker_replicas': 1}\n"
     ]
    }
   ],
   "source": [
    "# create the deep neuronal network multilayer perceptron model:\n",
    "    # - 1 input layer with 3 neurons since the 3 features are fed in\n",
    "    # - 3 hidden layer with 20 neurons for effective training\n",
    "    # - 1 output player to get the predicted value\n",
    "\n",
    "dnn = tf.estimator.DNNClassifier(hidden_units=[20,20,20], feature_columns=feat_columns,\n",
    "                                 optimizer=tf.train.GradientDescentOptimizer(learning_rate=0.001), n_classes=2)"
   ]
  },
  {
   "cell_type": "code",
   "execution_count": 165,
   "metadata": {
    "scrolled": false
   },
   "outputs": [
    {
     "name": "stdout",
     "output_type": "stream",
     "text": [
      "INFO:tensorflow:Calling model_fn.\n",
      "INFO:tensorflow:Done calling model_fn.\n",
      "INFO:tensorflow:Create CheckpointSaverHook.\n",
      "INFO:tensorflow:Graph was finalized.\n",
      "INFO:tensorflow:Running local_init_op.\n",
      "INFO:tensorflow:Done running local_init_op.\n",
      "INFO:tensorflow:Saving checkpoints for 1 into C:\\Users\\OLIVER~1.GOE\\AppData\\Local\\Temp\\tmp9anoyw4u\\model.ckpt.\n",
      "INFO:tensorflow:loss = 18.957594, step = 1\n",
      "INFO:tensorflow:global_step/sec: 122.374\n",
      "INFO:tensorflow:loss = 17.155142, step = 101 (0.820 sec)\n",
      "INFO:tensorflow:global_step/sec: 206.77\n",
      "INFO:tensorflow:loss = 17.03315, step = 201 (0.485 sec)\n",
      "INFO:tensorflow:global_step/sec: 240.138\n",
      "INFO:tensorflow:loss = 18.663805, step = 301 (0.415 sec)\n",
      "INFO:tensorflow:global_step/sec: 227.516\n",
      "INFO:tensorflow:loss = 16.716427, step = 401 (0.445 sec)\n",
      "INFO:tensorflow:global_step/sec: 236.942\n",
      "INFO:tensorflow:loss = 17.255827, step = 501 (0.417 sec)\n",
      "INFO:tensorflow:global_step/sec: 220.153\n",
      "INFO:tensorflow:loss = 16.587248, step = 601 (0.453 sec)\n",
      "INFO:tensorflow:global_step/sec: 259.408\n",
      "INFO:tensorflow:loss = 16.108805, step = 701 (0.387 sec)\n",
      "INFO:tensorflow:global_step/sec: 226.489\n",
      "INFO:tensorflow:loss = 16.896471, step = 801 (0.445 sec)\n",
      "INFO:tensorflow:global_step/sec: 220.32\n",
      "INFO:tensorflow:loss = 17.10707, step = 901 (0.451 sec)\n",
      "INFO:tensorflow:global_step/sec: 228.076\n",
      "INFO:tensorflow:loss = 17.61937, step = 1001 (0.447 sec)\n",
      "INFO:tensorflow:global_step/sec: 216.187\n",
      "INFO:tensorflow:loss = 16.634354, step = 1101 (0.454 sec)\n",
      "INFO:tensorflow:global_step/sec: 213.362\n",
      "INFO:tensorflow:loss = 15.141557, step = 1201 (0.470 sec)\n",
      "INFO:tensorflow:global_step/sec: 213.445\n",
      "INFO:tensorflow:loss = 16.767633, step = 1301 (0.467 sec)\n",
      "INFO:tensorflow:global_step/sec: 236.712\n",
      "INFO:tensorflow:loss = 16.582193, step = 1401 (0.424 sec)\n",
      "INFO:tensorflow:global_step/sec: 209.793\n",
      "INFO:tensorflow:loss = 16.792673, step = 1501 (0.477 sec)\n",
      "INFO:tensorflow:global_step/sec: 201.521\n",
      "INFO:tensorflow:loss = 19.102575, step = 1601 (0.496 sec)\n",
      "INFO:tensorflow:global_step/sec: 200.174\n",
      "INFO:tensorflow:loss = 16.482584, step = 1701 (0.500 sec)\n",
      "INFO:tensorflow:global_step/sec: 202.197\n",
      "INFO:tensorflow:loss = 16.157713, step = 1801 (0.496 sec)\n",
      "INFO:tensorflow:global_step/sec: 239.203\n",
      "INFO:tensorflow:loss = 15.79084, step = 1901 (0.417 sec)\n",
      "INFO:tensorflow:global_step/sec: 214.564\n",
      "INFO:tensorflow:loss = 17.768661, step = 2001 (0.467 sec)\n",
      "INFO:tensorflow:global_step/sec: 199.723\n",
      "INFO:tensorflow:loss = 16.748695, step = 2101 (0.498 sec)\n",
      "INFO:tensorflow:global_step/sec: 255.508\n",
      "INFO:tensorflow:loss = 17.98936, step = 2201 (0.393 sec)\n",
      "INFO:tensorflow:global_step/sec: 240.042\n",
      "INFO:tensorflow:loss = 16.954014, step = 2301 (0.416 sec)\n",
      "INFO:tensorflow:global_step/sec: 229.555\n",
      "INFO:tensorflow:loss = 17.777485, step = 2401 (0.438 sec)\n",
      "INFO:tensorflow:global_step/sec: 225.968\n",
      "INFO:tensorflow:loss = 15.985577, step = 2501 (0.447 sec)\n",
      "INFO:tensorflow:global_step/sec: 210.693\n",
      "INFO:tensorflow:loss = 17.653585, step = 2601 (0.466 sec)\n",
      "INFO:tensorflow:global_step/sec: 215.68\n",
      "INFO:tensorflow:loss = 18.13717, step = 2701 (0.467 sec)\n",
      "INFO:tensorflow:global_step/sec: 209.845\n",
      "INFO:tensorflow:loss = 17.12793, step = 2801 (0.476 sec)\n",
      "INFO:tensorflow:global_step/sec: 211.586\n",
      "INFO:tensorflow:loss = 16.148098, step = 2901 (0.474 sec)\n",
      "INFO:tensorflow:global_step/sec: 220.405\n",
      "INFO:tensorflow:loss = 15.945196, step = 3001 (0.454 sec)\n",
      "INFO:tensorflow:global_step/sec: 232.307\n",
      "INFO:tensorflow:loss = 17.177315, step = 3101 (0.433 sec)\n",
      "INFO:tensorflow:global_step/sec: 253.511\n",
      "INFO:tensorflow:loss = 16.689178, step = 3201 (0.394 sec)\n",
      "INFO:tensorflow:global_step/sec: 225.964\n",
      "INFO:tensorflow:loss = 15.870973, step = 3301 (0.440 sec)\n",
      "INFO:tensorflow:global_step/sec: 210.219\n",
      "INFO:tensorflow:loss = 16.320257, step = 3401 (0.474 sec)\n",
      "INFO:tensorflow:global_step/sec: 237.232\n",
      "INFO:tensorflow:loss = 17.080849, step = 3501 (0.424 sec)\n",
      "INFO:tensorflow:global_step/sec: 238.894\n",
      "INFO:tensorflow:loss = 16.738602, step = 3601 (0.420 sec)\n",
      "INFO:tensorflow:global_step/sec: 221.439\n",
      "INFO:tensorflow:loss = 17.448917, step = 3701 (0.452 sec)\n",
      "INFO:tensorflow:global_step/sec: 240.081\n",
      "INFO:tensorflow:loss = 16.360872, step = 3801 (0.413 sec)\n",
      "INFO:tensorflow:global_step/sec: 223.846\n",
      "INFO:tensorflow:loss = 16.873981, step = 3901 (0.449 sec)\n",
      "INFO:tensorflow:global_step/sec: 210.747\n",
      "INFO:tensorflow:loss = 23.644217, step = 4001 (0.475 sec)\n",
      "INFO:tensorflow:global_step/sec: 218.966\n",
      "INFO:tensorflow:loss = 16.687698, step = 4101 (0.456 sec)\n",
      "INFO:tensorflow:global_step/sec: 211.153\n",
      "INFO:tensorflow:loss = 16.618113, step = 4201 (0.473 sec)\n",
      "INFO:tensorflow:global_step/sec: 230.155\n",
      "INFO:tensorflow:loss = 15.852771, step = 4301 (0.436 sec)\n",
      "INFO:tensorflow:global_step/sec: 206.407\n",
      "INFO:tensorflow:loss = 16.010197, step = 4401 (0.486 sec)\n",
      "INFO:tensorflow:global_step/sec: 232.472\n",
      "INFO:tensorflow:loss = 15.265532, step = 4501 (0.429 sec)\n",
      "INFO:tensorflow:global_step/sec: 235.029\n",
      "INFO:tensorflow:loss = 18.846676, step = 4601 (0.425 sec)\n",
      "INFO:tensorflow:global_step/sec: 229.546\n",
      "INFO:tensorflow:loss = 16.330776, step = 4701 (0.438 sec)\n",
      "INFO:tensorflow:global_step/sec: 211.305\n",
      "INFO:tensorflow:loss = 15.885441, step = 4801 (0.471 sec)\n",
      "INFO:tensorflow:global_step/sec: 207.959\n",
      "INFO:tensorflow:loss = 17.699926, step = 4901 (0.480 sec)\n",
      "INFO:tensorflow:global_step/sec: 211.601\n",
      "INFO:tensorflow:loss = 17.343088, step = 5001 (0.474 sec)\n",
      "INFO:tensorflow:global_step/sec: 207.19\n",
      "INFO:tensorflow:loss = 15.938367, step = 5101 (0.483 sec)\n",
      "INFO:tensorflow:global_step/sec: 202.592\n",
      "INFO:tensorflow:loss = 16.136972, step = 5201 (0.494 sec)\n",
      "INFO:tensorflow:global_step/sec: 211.244\n",
      "INFO:tensorflow:loss = 15.79747, step = 5301 (0.472 sec)\n",
      "INFO:tensorflow:global_step/sec: 202.631\n",
      "INFO:tensorflow:loss = 18.174494, step = 5401 (0.495 sec)\n",
      "INFO:tensorflow:global_step/sec: 211.672\n",
      "INFO:tensorflow:loss = 17.461174, step = 5501 (0.472 sec)\n",
      "INFO:tensorflow:global_step/sec: 211.676\n",
      "INFO:tensorflow:loss = 17.396872, step = 5601 (0.472 sec)\n",
      "INFO:tensorflow:global_step/sec: 210.942\n",
      "INFO:tensorflow:loss = 17.601868, step = 5701 (0.475 sec)\n",
      "INFO:tensorflow:global_step/sec: 176.222\n",
      "INFO:tensorflow:loss = 16.611614, step = 5801 (0.566 sec)\n",
      "INFO:tensorflow:global_step/sec: 181.624\n",
      "INFO:tensorflow:loss = 16.34492, step = 5901 (0.551 sec)\n",
      "INFO:tensorflow:global_step/sec: 196.223\n",
      "INFO:tensorflow:loss = 17.188856, step = 6001 (0.509 sec)\n",
      "INFO:tensorflow:global_step/sec: 188.954\n",
      "INFO:tensorflow:loss = 17.639803, step = 6101 (0.529 sec)\n",
      "INFO:tensorflow:global_step/sec: 218.291\n",
      "INFO:tensorflow:loss = 16.996359, step = 6201 (0.458 sec)\n",
      "INFO:tensorflow:global_step/sec: 217.96\n",
      "INFO:tensorflow:loss = 17.138872, step = 6301 (0.458 sec)\n",
      "INFO:tensorflow:global_step/sec: 219.984\n",
      "INFO:tensorflow:loss = 16.05085, step = 6401 (0.457 sec)\n",
      "INFO:tensorflow:global_step/sec: 231.433\n",
      "INFO:tensorflow:loss = 16.684702, step = 6501 (0.432 sec)\n",
      "INFO:tensorflow:global_step/sec: 210.036\n",
      "INFO:tensorflow:loss = 17.302387, step = 6601 (0.476 sec)\n",
      "INFO:tensorflow:global_step/sec: 217.985\n",
      "INFO:tensorflow:loss = 18.32659, step = 6701 (0.459 sec)\n",
      "INFO:tensorflow:global_step/sec: 220.53\n",
      "INFO:tensorflow:loss = 15.8607, step = 6801 (0.452 sec)\n",
      "INFO:tensorflow:global_step/sec: 247.742\n",
      "INFO:tensorflow:loss = 17.20844, step = 6901 (0.406 sec)\n",
      "INFO:tensorflow:global_step/sec: 220.955\n",
      "INFO:tensorflow:loss = 15.632416, step = 7001 (0.453 sec)\n",
      "INFO:tensorflow:global_step/sec: 207.141\n",
      "INFO:tensorflow:loss = 16.818703, step = 7101 (0.482 sec)\n",
      "INFO:tensorflow:global_step/sec: 210.187\n",
      "INFO:tensorflow:loss = 15.737994, step = 7201 (0.477 sec)\n",
      "INFO:tensorflow:global_step/sec: 229.072\n",
      "INFO:tensorflow:loss = 17.705994, step = 7301 (0.436 sec)\n",
      "INFO:tensorflow:global_step/sec: 210.727\n",
      "INFO:tensorflow:loss = 17.181084, step = 7401 (0.475 sec)\n",
      "INFO:tensorflow:global_step/sec: 253.859\n",
      "INFO:tensorflow:loss = 16.523619, step = 7501 (0.392 sec)\n",
      "INFO:tensorflow:global_step/sec: 228.212\n",
      "INFO:tensorflow:loss = 18.308508, step = 7601 (0.441 sec)\n",
      "INFO:tensorflow:global_step/sec: 208.51\n",
      "INFO:tensorflow:loss = 16.669836, step = 7701 (0.479 sec)\n",
      "INFO:tensorflow:global_step/sec: 209.602\n",
      "INFO:tensorflow:loss = 16.802086, step = 7801 (0.478 sec)\n",
      "INFO:tensorflow:global_step/sec: 211.047\n",
      "INFO:tensorflow:loss = 14.974994, step = 7901 (0.477 sec)\n",
      "INFO:tensorflow:global_step/sec: 180.972\n"
     ]
    },
    {
     "name": "stdout",
     "output_type": "stream",
     "text": [
      "INFO:tensorflow:loss = 14.790395, step = 8001 (0.560 sec)\n",
      "INFO:tensorflow:global_step/sec: 187.593\n",
      "INFO:tensorflow:loss = 16.456099, step = 8101 (0.523 sec)\n",
      "INFO:tensorflow:global_step/sec: 195.818\n",
      "INFO:tensorflow:loss = 15.864008, step = 8201 (0.512 sec)\n",
      "INFO:tensorflow:global_step/sec: 256.414\n",
      "INFO:tensorflow:loss = 16.911818, step = 8301 (0.391 sec)\n",
      "INFO:tensorflow:global_step/sec: 219.732\n",
      "INFO:tensorflow:loss = 16.076641, step = 8401 (0.453 sec)\n",
      "INFO:tensorflow:global_step/sec: 238.937\n",
      "INFO:tensorflow:loss = 14.915093, step = 8501 (0.420 sec)\n",
      "INFO:tensorflow:global_step/sec: 211.602\n",
      "INFO:tensorflow:loss = 15.918546, step = 8601 (0.472 sec)\n",
      "INFO:tensorflow:global_step/sec: 210.676\n",
      "INFO:tensorflow:loss = 16.097115, step = 8701 (0.475 sec)\n",
      "INFO:tensorflow:global_step/sec: 245.949\n",
      "INFO:tensorflow:loss = 14.900982, step = 8801 (0.413 sec)\n",
      "INFO:tensorflow:global_step/sec: 239.494\n",
      "INFO:tensorflow:loss = 16.160044, step = 8901 (0.411 sec)\n",
      "INFO:tensorflow:global_step/sec: 203.785\n",
      "INFO:tensorflow:loss = 15.902371, step = 9001 (0.491 sec)\n",
      "INFO:tensorflow:global_step/sec: 211.642\n",
      "INFO:tensorflow:loss = 15.857643, step = 9101 (0.474 sec)\n",
      "INFO:tensorflow:global_step/sec: 217.586\n",
      "INFO:tensorflow:loss = 16.091843, step = 9201 (0.460 sec)\n",
      "INFO:tensorflow:global_step/sec: 206.8\n",
      "INFO:tensorflow:loss = 14.240409, step = 9301 (0.484 sec)\n",
      "INFO:tensorflow:global_step/sec: 213.824\n",
      "INFO:tensorflow:loss = 14.477118, step = 9401 (0.467 sec)\n",
      "INFO:tensorflow:global_step/sec: 209.644\n",
      "INFO:tensorflow:loss = 13.299104, step = 9501 (0.477 sec)\n",
      "INFO:tensorflow:global_step/sec: 203.603\n",
      "INFO:tensorflow:loss = 18.941578, step = 9601 (0.491 sec)\n",
      "INFO:tensorflow:global_step/sec: 233.017\n",
      "INFO:tensorflow:loss = 17.474243, step = 9701 (0.429 sec)\n",
      "INFO:tensorflow:global_step/sec: 206.977\n",
      "INFO:tensorflow:loss = 15.105567, step = 9801 (0.483 sec)\n",
      "INFO:tensorflow:global_step/sec: 211.397\n",
      "INFO:tensorflow:loss = 16.022938, step = 9901 (0.474 sec)\n",
      "INFO:tensorflow:Saving checkpoints for 10000 into C:\\Users\\OLIVER~1.GOE\\AppData\\Local\\Temp\\tmp9anoyw4u\\model.ckpt.\n",
      "INFO:tensorflow:Loss for final step: 14.531744.\n"
     ]
    },
    {
     "data": {
      "text/plain": [
       "<tensorflow.python.estimator.canned.dnn.DNNClassifier at 0x24f59bee828>"
      ]
     },
     "execution_count": 165,
     "metadata": {},
     "output_type": "execute_result"
    }
   ],
   "source": [
    "# train the network with 10.000 iterations\n",
    "dnn.train(input_fn=input_func, steps=10000)"
   ]
  },
  {
   "cell_type": "markdown",
   "metadata": {},
   "source": [
    "### 5.3 Compute values for evaluation"
   ]
  },
  {
   "cell_type": "code",
   "execution_count": 166,
   "metadata": {},
   "outputs": [],
   "source": [
    "# define the prediction function\n",
    "pred_func = tf.estimator.inputs.pandas_input_fn(x=X_test_tf, batch_size=len(X_test_tf), shuffle=False)"
   ]
  },
  {
   "cell_type": "code",
   "execution_count": 167,
   "metadata": {},
   "outputs": [],
   "source": [
    "# define the evaluation function\n",
    "eval_func = tf.estimator.inputs.pandas_input_fn(x=X_test_tf, y=y_test_tf, batch_size=len(X_test_tf), shuffle=False)"
   ]
  },
  {
   "cell_type": "code",
   "execution_count": 168,
   "metadata": {},
   "outputs": [],
   "source": [
    "# get the predictions\n",
    "dnn_predictions = dnn.predict(input_fn=pred_func)"
   ]
  },
  {
   "cell_type": "code",
   "execution_count": 169,
   "metadata": {},
   "outputs": [
    {
     "name": "stdout",
     "output_type": "stream",
     "text": [
      "INFO:tensorflow:Calling model_fn.\n",
      "INFO:tensorflow:Done calling model_fn.\n",
      "INFO:tensorflow:Starting evaluation at 2018-05-30-16:17:04\n",
      "INFO:tensorflow:Graph was finalized.\n",
      "INFO:tensorflow:Restoring parameters from C:\\Users\\OLIVER~1.GOE\\AppData\\Local\\Temp\\tmp9anoyw4u\\model.ckpt-10000\n",
      "INFO:tensorflow:Running local_init_op.\n",
      "INFO:tensorflow:Done running local_init_op.\n",
      "INFO:tensorflow:Finished evaluation at 2018-05-30-16:17:06\n",
      "INFO:tensorflow:Saving dict for global step 10000: accuracy = 0.6923077, accuracy_baseline = 0.7179487, auc = 0.61850643, auc_precision_recall = 0.37268633, average_loss = 0.5983692, global_step = 10000, label/mean = 0.2820513, loss = 23.3364, prediction/mean = 0.3775625\n"
     ]
    }
   ],
   "source": [
    "# get the evaluation\n",
    "dnn_eval = dnn.evaluate(input_fn=eval_func)"
   ]
  },
  {
   "cell_type": "code",
   "execution_count": 170,
   "metadata": {
    "scrolled": true
   },
   "outputs": [
    {
     "name": "stdout",
     "output_type": "stream",
     "text": [
      "INFO:tensorflow:Calling model_fn.\n",
      "INFO:tensorflow:Done calling model_fn.\n",
      "INFO:tensorflow:Graph was finalized.\n",
      "INFO:tensorflow:Restoring parameters from C:\\Users\\OLIVER~1.GOE\\AppData\\Local\\Temp\\tmp9anoyw4u\\model.ckpt-10000\n",
      "INFO:tensorflow:Running local_init_op.\n",
      "INFO:tensorflow:Done running local_init_op.\n"
     ]
    }
   ],
   "source": [
    "# get the class label for each instance\n",
    "final_dnn_predictions = [pred['class_ids'][0] for pred in list(dnn_predictions)]"
   ]
  },
  {
   "cell_type": "code",
   "execution_count": 171,
   "metadata": {},
   "outputs": [],
   "source": [
    "# extract the probabilities from predictions\n",
    "dnn_probabilities= dnn.predict(input_fn=pred_func)"
   ]
  },
  {
   "cell_type": "code",
   "execution_count": 172,
   "metadata": {},
   "outputs": [
    {
     "name": "stdout",
     "output_type": "stream",
     "text": [
      "INFO:tensorflow:Calling model_fn.\n",
      "INFO:tensorflow:Done calling model_fn.\n",
      "INFO:tensorflow:Graph was finalized.\n",
      "INFO:tensorflow:Restoring parameters from C:\\Users\\OLIVER~1.GOE\\AppData\\Local\\Temp\\tmp9anoyw4u\\model.ckpt-10000\n",
      "INFO:tensorflow:Running local_init_op.\n",
      "INFO:tensorflow:Done running local_init_op.\n"
     ]
    }
   ],
   "source": [
    "# get the probabilities for each instance\n",
    "final_dnn_probabilities = [prob['probabilities'] for prob in list(dnn_probabilities)]"
   ]
  },
  {
   "cell_type": "code",
   "execution_count": 173,
   "metadata": {},
   "outputs": [],
   "source": [
    "# build the model with the already computed values\n",
    "MLP = Model('MLP', dnn, X_train_tf, X_test_tf, y_train_tf, y_test_tf )\n",
    "\n",
    "# cast the probabilities to a numpy array for enabling to compute error rates\n",
    "final_dnn_probabilities=np.array(final_dnn_probabilities)\n",
    "\n",
    "# assign corresponding values to the model\n",
    "MLP.predictions = final_dnn_predictions\n",
    "MLP.probabilities = final_dnn_probabilities\n",
    "MLP.accuracy = dnn_eval['accuracy']\n",
    "\n",
    "# compute the confusion matrix\n",
    "MLP.addConfusionMatrix()\n",
    "\n",
    "# add MLP to the names and classifiers array for proper indexing in the visualization section\n",
    "classifier_names.append('MLP')\n",
    "classifiers.append(MLP)"
   ]
  },
  {
   "cell_type": "code",
   "execution_count": 174,
   "metadata": {},
   "outputs": [
    {
     "name": "stdout",
     "output_type": "stream",
     "text": [
      "Predictions:  [0, 0, 1, 0, 0, 0, 0, 0, 1, 0, 0, 1, 0, 0, 0, 0, 0, 0, 0, 0, 0, 0, 0, 0, 0, 1, 0, 0, 0, 0, 0, 0, 1, 0, 0, 0, 0, 0, 0]\n",
      "Accuracy:  0.6923077\n",
      "Probabilities:  [[0.7982917  0.20170833]\n",
      " [0.77401346 0.22598651]\n",
      " [0.37380826 0.62619174]\n",
      " [0.623874   0.376126  ]\n",
      " [0.78591996 0.21408005]\n",
      " [0.50398    0.49602   ]\n",
      " [0.64350915 0.35649088]\n",
      " [0.551544   0.44845596]\n",
      " [0.43746513 0.56253487]\n",
      " [0.5656754  0.4343247 ]\n",
      " [0.7578556  0.24214447]\n",
      " [0.4903813  0.5096187 ]\n",
      " [0.62109977 0.3789003 ]\n",
      " [0.61693877 0.38306117]\n",
      " [0.77401346 0.22598651]\n",
      " [0.51618475 0.48381525]\n",
      " [0.83133596 0.168664  ]\n",
      " [0.62109977 0.3789003 ]\n",
      " [0.61972827 0.3802717 ]\n",
      " [0.62856877 0.3714312 ]\n",
      " [0.6362006  0.36379933]\n",
      " [0.50851256 0.4914874 ]\n",
      " [0.6001286  0.39987138]\n",
      " [0.61276066 0.3872393 ]\n",
      " [0.59789926 0.40210074]\n",
      " [0.49711514 0.50288486]\n",
      " [0.54341197 0.456588  ]\n",
      " [0.64350915 0.35649088]\n",
      " [0.77993894 0.22006108]\n",
      " [0.6157818  0.38421825]\n",
      " [0.77401346 0.22598651]\n",
      " [0.5587151  0.44128487]\n",
      " [0.3956923  0.6043077 ]\n",
      " [0.78591996 0.21408005]\n",
      " [0.58462363 0.4153763 ]\n",
      " [0.6327924  0.36720762]\n",
      " [0.79201996 0.2079801 ]\n",
      " [0.6157817  0.38421825]\n",
      " [0.5649586  0.43504143]]\n",
      "Confusion Matrix:       no  yes\n",
      "no   25    3\n",
      "yes   9    2\n"
     ]
    }
   ],
   "source": [
    "# print the results of MLP for checking\n",
    "print('Predictions: ', MLP.predictions)\n",
    "print('Accuracy: ', MLP.accuracy)\n",
    "print('Probabilities: ', MLP.probabilities)\n",
    "print('Confusion Matrix: ', MLP.confusionMatrix)"
   ]
  },
  {
   "cell_type": "markdown",
   "metadata": {},
   "source": [
    "## 6. Evaluate and visualize the models' performances"
   ]
  },
  {
   "cell_type": "markdown",
   "metadata": {},
   "source": [
    "### 6.1 Styles of the plots"
   ]
  },
  {
   "cell_type": "code",
   "execution_count": 175,
   "metadata": {},
   "outputs": [],
   "source": [
    "# import library to modify style parameters\n",
    "from matplotlib import rcParams\n",
    "\n",
    "# font styles\n",
    "fontsizes= {'title' : 20, 'axis': 15, 'ticks': 13}\n",
    "fontweights= {'title' : 800, 'axis' : 600}\n",
    "\n",
    "# define styles for the images\n",
    "rcParams['axes.titlepad'] = 20\n",
    "\n",
    "# define the output resolution \n",
    "output_dpi = 300\n",
    "\n",
    "# define context and overall grid style\n",
    "sns.set(style='white',context='paper', font_scale=2)"
   ]
  },
  {
   "cell_type": "markdown",
   "metadata": {},
   "source": [
    "### 6.2 Draw the confusion matrices"
   ]
  },
  {
   "cell_type": "code",
   "execution_count": 176,
   "metadata": {
    "scrolled": true
   },
   "outputs": [
    {
     "data": {
      "text/plain": [
       "['SVM', 'KNN', 'DT', 'NB', 'MLP']"
      ]
     },
     "execution_count": 176,
     "metadata": {},
     "output_type": "execute_result"
    }
   ],
   "source": [
    "# check the order of the classifiers in the dictionary\n",
    "classifier_names"
   ]
  },
  {
   "cell_type": "code",
   "execution_count": 177,
   "metadata": {},
   "outputs": [
    {
     "data": {
      "image/png": "[encoded data removed]",
      "text/plain": [
       "<Figure size 432x288 with 2 Axes>"
      ]
     },
     "metadata": {},
     "output_type": "display_data"
    },
    {
     "data": {
      "image/png": "[encoded data removed]",
      "text/plain": [
       "<Figure size 432x288 with 2 Axes>"
      ]
     },
     "metadata": {},
     "output_type": "display_data"
    },
    {
     "data": {
      "image/png": "[encoded data removed]",
      "text/plain": [
       "<Figure size 432x288 with 2 Axes>"
      ]
     },
     "metadata": {},
     "output_type": "display_data"
    },
    {
     "data": {
      "image/png": "[encoded data removed]",
      "text/plain": [
       "<Figure size 432x288 with 2 Axes>"
      ]
     },
     "metadata": {},
     "output_type": "display_data"
    },
    {
     "data": {
      "image/png": "[encoded data removed]",
      "text/plain": [
       "<Figure size 432x288 with 2 Axes>"
      ]
     },
     "metadata": {},
     "output_type": "display_data"
    }
   ],
   "source": [
    "for clf in classifiers:\n",
    "    hp.drawConfusionMatrix(clf.confusionMatrix, clf.name, styleDics=[fontsizes, fontweights])\n",
    "    \n",
    "    # save the image\n",
    "    plt.savefig('{0} {1} Confusion Matrix.png'.format(target_label,clf.name), dpi=output_dpi, bbox_inches='tight')                                                                                             "
   ]
  },
  {
   "cell_type": "markdown",
   "metadata": {},
   "source": [
    "### 6.3 Compute error rates and area under roc"
   ]
  },
  {
   "cell_type": "code",
   "execution_count": 178,
   "metadata": {},
   "outputs": [],
   "source": [
    "# import roc and auc for performance comparison\n",
    "from sklearn.metrics import roc_curve, auc\n",
    "\n",
    "# initizile dictionaries to store the error rates\n",
    "fprate = {}\n",
    "tprate ={}\n",
    "roc_auc = {}\n",
    "\n",
    "\n",
    "# iterate over the classifiers\n",
    "for clf in classifiers:\n",
    "    \n",
    "    # assign the rates to the respective classifier\n",
    "    fprate[clf.name], tprate[clf.name], threshold = roc_curve(y_test, clf.probabilities[:,1])\n",
    "    \n",
    "    # assign the auc value to the respective classifier\n",
    "    roc_auc[clf.name] = auc(fprate[clf.name], tprate[clf.name])"
   ]
  },
  {
   "cell_type": "markdown",
   "metadata": {},
   "source": [
    "### 6.4 Plot the roc curve"
   ]
  },
  {
   "cell_type": "code",
   "execution_count": 179,
   "metadata": {},
   "outputs": [
    {
     "data": {
      "image/png": "[encoded data removed]",
      "text/plain": [
       "<Figure size 1080x576 with 1 Axes>"
      ]
     },
     "metadata": {},
     "output_type": "display_data"
    }
   ],
   "source": [
    "# draw a painting canvas and add an ax\n",
    "fig,axes = plt.subplots(figsize=(15,8))\n",
    "\n",
    "# set styles of the image\n",
    "linewidth=3\n",
    "\n",
    "# draw the baseline\n",
    "axes.plot([0,1],[0,1], color='black', linewidth=linewidth)\n",
    "\n",
    "# set styles for the curves\n",
    "linestyles=['--', ':', '-', '--', ':']\n",
    "colors=['b', 'g', 'r', 'brown', 'orange']\n",
    "\n",
    "\n",
    "# plot the roc curve for each classifier\n",
    "for index, linestyle in enumerate(linestyles):\n",
    "    axes.plot(fprate[classifiers[index].name], tprate[classifiers[index].name], linestyle=linestyle, linewidth=linewidth,\n",
    "          label=classifiers[index].name + ' (area = %0.2f)' % roc_auc[classifiers[index].name])\n",
    "    \n",
    "# add labels/description to the image    \n",
    "#axes.set_title('ROC Curves for \"Life insurance\"', fontdict={'fontsize': fontsizes['title'], 'fontweight': fontweights['title']})\n",
    "axes.set_ylabel('True Positive Rate', fontdict={'fontsize' : fontsizes['axis'], 'fontweight' : fontweights['axis']})\n",
    "axes.set_xlabel('False Positive Rate', fontdict={'fontsize' : fontsizes['axis'], 'fontweight' : fontweights['axis']})\n",
    "axes.tick_params(axis='both', labelsize=fontsizes['ticks'])\n",
    "\n",
    "# add a legend\n",
    "axes.legend(fontsize=fontsizes['axis'])\n",
    "\n",
    "# save the image\n",
    "plt.savefig('{} roc curves.png'.format(target_label), dpi=output_dpi)"
   ]
  },
  {
   "cell_type": "markdown",
   "metadata": {},
   "source": [
    "## 7. Export the models"
   ]
  },
  {
   "cell_type": "markdown",
   "metadata": {},
   "source": [
    "### 7.1 Save the ML models"
   ]
  },
  {
   "cell_type": "code",
   "execution_count": 180,
   "metadata": {},
   "outputs": [],
   "source": [
    "# import library for exporting a model\n",
    "from sklearn.externals import joblib\n",
    "\n",
    "# iterate over the models except MLP because it has to be handled differently\n",
    "counter =0\n",
    "for clf in classifiers:\n",
    "    \n",
    "    # exclude MLP from the loop\n",
    "    if counter < 4:\n",
    "        # locally save the models\n",
    "        joblib.dump(clf.classifier, '{} - {}.sav'.format(target_label, clf.name))\n",
    "    \n",
    "    # increment the counter\n",
    "    counter += 1"
   ]
  },
  {
   "cell_type": "markdown",
   "metadata": {},
   "source": [
    "### 7.2 Save the DL model"
   ]
  },
  {
   "cell_type": "code",
   "execution_count": 181,
   "metadata": {},
   "outputs": [
    {
     "name": "stdout",
     "output_type": "stream",
     "text": [
      "INFO:tensorflow:Calling model_fn.\n",
      "INFO:tensorflow:Done calling model_fn.\n",
      "INFO:tensorflow:Signatures INCLUDED in export for Classify: ['serving_default', 'classification']\n",
      "INFO:tensorflow:Signatures INCLUDED in export for Regress: ['regression']\n",
      "INFO:tensorflow:Signatures INCLUDED in export for Predict: ['predict']\n",
      "INFO:tensorflow:Restoring parameters from C:\\Users\\OLIVER~1.GOE\\AppData\\Local\\Temp\\tmp9anoyw4u\\model.ckpt-10000\n",
      "INFO:tensorflow:Assets added to graph.\n",
      "INFO:tensorflow:No assets to write.\n",
      "INFO:tensorflow:SavedModel written to: b\"Housing saving - MLP\\\\temp-b'1527697049'\\\\saved_model.pb\"\n"
     ]
    },
    {
     "data": {
      "text/plain": [
       "b'Housing saving - MLP\\\\1527697049'"
      ]
     },
     "execution_count": 181,
     "metadata": {},
     "output_type": "execute_result"
    }
   ],
   "source": [
    "# define the input features with corresponding placehodlers\n",
    "feature_spec = {'Sex': tf.VarLenFeature(dtype=tf.string),\n",
    "                'Age': tf.FixedLenFeature(shape=[],dtype=tf.int64),\n",
    "                'Income': tf.FixedLenFeature(shape=[], dtype=tf.string)\n",
    "               }\n",
    "\n",
    "\n",
    "# define the filename\n",
    "export_location = '{} - MLP'.format(target_label)\n",
    "\n",
    "# export the MLP model with a timestamp subfolder\n",
    "MLP.classifier.export_savedmodel(export_location, serving_input_receiver_fn, as_text=False)\n"
   ]
  },
  {
   "cell_type": "code",
   "execution_count": 182,
   "metadata": {},
   "outputs": [
    {
     "data": {
      "text/plain": [
       "array([1, 1, 1])"
      ]
     },
     "execution_count": 182,
     "metadata": {},
     "output_type": "execute_result"
    }
   ],
   "source": [
    "n1 = np.random.randint(2, size=3)\n",
    "n1"
   ]
  },
  {
   "cell_type": "code",
   "execution_count": 183,
   "metadata": {},
   "outputs": [
    {
     "data": {
      "text/plain": [
       "numpy.ndarray"
      ]
     },
     "execution_count": 183,
     "metadata": {},
     "output_type": "execute_result"
    }
   ],
   "source": [
    "type(n1)"
   ]
  },
  {
   "cell_type": "code",
   "execution_count": 184,
   "metadata": {},
   "outputs": [
    {
     "data": {
      "text/plain": [
       "numpy.float32"
      ]
     },
     "execution_count": 184,
     "metadata": {},
     "output_type": "execute_result"
    }
   ],
   "source": [
    "np.float32\n"
   ]
  },
  {
   "cell_type": "code",
   "execution_count": null,
   "metadata": {},
   "outputs": [],
   "source": []
  },
  {
   "cell_type": "code",
   "execution_count": null,
   "metadata": {},
   "outputs": [],
   "source": []
  }
 ],
 "metadata": {
  "kernelspec": {
   "display_name": "Python 3",
   "language": "python",
   "name": "python3"
  },
  "language_info": {
   "codemirror_mode": {
    "name": "ipython",
    "version": 3
   },
   "file_extension": ".py",
   "mimetype": "text/x-python",
   "name": "python",
   "nbconvert_exporter": "python",
   "pygments_lexer": "ipython3",
   "version": "3.6.5"
  }
 },
 "nbformat": 4,
 "nbformat_minor": 2
}
